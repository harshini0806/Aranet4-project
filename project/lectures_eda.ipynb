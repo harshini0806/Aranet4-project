{
 "cells": [
  {
   "cell_type": "code",
   "execution_count": 2,
   "metadata": {},
   "outputs": [],
   "source": [
    "import pandas as pd\n",
    "import numpy as np\n",
    "import matplotlib.pyplot as plt\n",
    "import datetime as datetime"
   ]
  },
  {
   "cell_type": "code",
   "execution_count": 5,
   "metadata": {},
   "outputs": [
    {
     "name": "stdout",
     "output_type": "stream",
     "text": [
      "<class 'pandas.core.frame.DataFrame'>\n",
      "DatetimeIndex: 76 entries, 2024-04-02 12:15:00 to 2024-04-02 13:30:00\n",
      "Data columns (total 9 columns):\n",
      " #   Column         Non-Null Count  Dtype \n",
      "---  ------         --------------  ----- \n",
      " 0   co2            76 non-null     object\n",
      " 1   tempF          76 non-null     object\n",
      " 2   rhumid         76 non-null     object\n",
      " 3   atmpr          76 non-null     object\n",
      " 4   door1          76 non-null     object\n",
      " 5   door2          76 non-null     object\n",
      " 6   hvac           76 non-null     object\n",
      " 7   subject_count  76 non-null     object\n",
      " 8   lecturer       76 non-null     object\n",
      "dtypes: object(9)\n",
      "memory usage: 5.9+ KB\n"
     ]
    }
   ],
   "source": [
    "# Load the .npz file\n",
    "loaded_data = np.load('../datasets/windows.npz', allow_pickle=True)\n",
    "\n",
    "# Extract the column names\n",
    "column_names = loaded_data['column_names']\n",
    "\n",
    "# Convert the loaded data back to a dictionary of lists of DataFrames, using the column names\n",
    "windows_df = {label: [pd.DataFrame(array, columns=column_names) for array in arrays_list] \n",
    "              for label, arrays_list in loaded_data.items() if label != 'column_names'}\n",
    "\n",
    "# Loop through windows_df and set 'Datetime' as the index and drop unwanted columns\n",
    "for label, windows_list in windows_df.items():\n",
    "    for i, window in enumerate(windows_list):\n",
    "        # Convert 'Datetime' to a datetime object\n",
    "        window['Datetime'] = pd.to_datetime(window['Datetime'])\n",
    "\n",
    "        # Set 'Datetime' as the index\n",
    "        window.set_index('Datetime', inplace=True)\n",
    "\n",
    "        # Drop 'rhumid' and 'atmpr' columns\n",
    "        # window.drop(['rhumid', 'atmpr'], axis=1, inplace=True)\n",
    "\n",
    "        # Assign the modified window back to the list\n",
    "        windows_df[label][i] = window\n",
    "\n",
    "        \n",
    "windows_df['Song'][0].info()"
   ]
  },
  {
   "cell_type": "code",
   "execution_count": 6,
   "metadata": {},
   "outputs": [
    {
     "data": {
      "text/html": [
       "<div>\n",
       "<style scoped>\n",
       "    .dataframe tbody tr th:only-of-type {\n",
       "        vertical-align: middle;\n",
       "    }\n",
       "\n",
       "    .dataframe tbody tr th {\n",
       "        vertical-align: top;\n",
       "    }\n",
       "\n",
       "    .dataframe thead th {\n",
       "        text-align: right;\n",
       "    }\n",
       "</style>\n",
       "<table border=\"1\" class=\"dataframe\">\n",
       "  <thead>\n",
       "    <tr style=\"text-align: right;\">\n",
       "      <th></th>\n",
       "      <th>co2</th>\n",
       "      <th>tempF</th>\n",
       "      <th>rhumid</th>\n",
       "      <th>atmpr</th>\n",
       "      <th>door1</th>\n",
       "      <th>door2</th>\n",
       "      <th>hvac</th>\n",
       "      <th>subject_count</th>\n",
       "      <th>lecturer</th>\n",
       "    </tr>\n",
       "    <tr>\n",
       "      <th>Datetime</th>\n",
       "      <th></th>\n",
       "      <th></th>\n",
       "      <th></th>\n",
       "      <th></th>\n",
       "      <th></th>\n",
       "      <th></th>\n",
       "      <th></th>\n",
       "      <th></th>\n",
       "      <th></th>\n",
       "    </tr>\n",
       "  </thead>\n",
       "  <tbody>\n",
       "    <tr>\n",
       "      <th>2024-04-02 12:15:00</th>\n",
       "      <td>460.0</td>\n",
       "      <td>84.7</td>\n",
       "      <td>50.0</td>\n",
       "      <td>1009.2</td>\n",
       "      <td>1</td>\n",
       "      <td>1</td>\n",
       "      <td>0</td>\n",
       "      <td>3.0</td>\n",
       "      <td>1</td>\n",
       "    </tr>\n",
       "    <tr>\n",
       "      <th>2024-04-02 12:16:00</th>\n",
       "      <td>437.0</td>\n",
       "      <td>84.9</td>\n",
       "      <td>50.0</td>\n",
       "      <td>1009.1</td>\n",
       "      <td>1</td>\n",
       "      <td>1</td>\n",
       "      <td>0</td>\n",
       "      <td>3.0</td>\n",
       "      <td>1</td>\n",
       "    </tr>\n",
       "    <tr>\n",
       "      <th>2024-04-02 12:17:00</th>\n",
       "      <td>452.0</td>\n",
       "      <td>85.0</td>\n",
       "      <td>50.0</td>\n",
       "      <td>1009.1</td>\n",
       "      <td>1</td>\n",
       "      <td>1</td>\n",
       "      <td>0</td>\n",
       "      <td>3.0</td>\n",
       "      <td>1</td>\n",
       "    </tr>\n",
       "    <tr>\n",
       "      <th>2024-04-02 12:18:00</th>\n",
       "      <td>447.0</td>\n",
       "      <td>85.1</td>\n",
       "      <td>48.0</td>\n",
       "      <td>1009.0</td>\n",
       "      <td>1</td>\n",
       "      <td>1</td>\n",
       "      <td>0</td>\n",
       "      <td>3.0</td>\n",
       "      <td>1</td>\n",
       "    </tr>\n",
       "    <tr>\n",
       "      <th>2024-04-02 12:19:00</th>\n",
       "      <td>452.0</td>\n",
       "      <td>85.1</td>\n",
       "      <td>49.0</td>\n",
       "      <td>1008.9</td>\n",
       "      <td>1</td>\n",
       "      <td>1</td>\n",
       "      <td>0</td>\n",
       "      <td>3.0</td>\n",
       "      <td>1</td>\n",
       "    </tr>\n",
       "  </tbody>\n",
       "</table>\n",
       "</div>"
      ],
      "text/plain": [
       "                       co2 tempF rhumid   atmpr door1 door2 hvac  \\\n",
       "Datetime                                                           \n",
       "2024-04-02 12:15:00  460.0  84.7   50.0  1009.2     1     1    0   \n",
       "2024-04-02 12:16:00  437.0  84.9   50.0  1009.1     1     1    0   \n",
       "2024-04-02 12:17:00  452.0  85.0   50.0  1009.1     1     1    0   \n",
       "2024-04-02 12:18:00  447.0  85.1   48.0  1009.0     1     1    0   \n",
       "2024-04-02 12:19:00  452.0  85.1   49.0  1008.9     1     1    0   \n",
       "\n",
       "                    subject_count lecturer  \n",
       "Datetime                                    \n",
       "2024-04-02 12:15:00           3.0        1  \n",
       "2024-04-02 12:16:00           3.0        1  \n",
       "2024-04-02 12:17:00           3.0        1  \n",
       "2024-04-02 12:18:00           3.0        1  \n",
       "2024-04-02 12:19:00           3.0        1  "
      ]
     },
     "execution_count": 6,
     "metadata": {},
     "output_type": "execute_result"
    }
   ],
   "source": [
    "windows_df['Song'][0].head()"
   ]
  },
  {
   "cell_type": "markdown",
   "metadata": {},
   "source": [
    "- For `door1` and `door2` we have `1 = open` and `0 = closed`.\n",
    "- For `hvac` we have `1 = on` and `0 = off`\n",
    "- For `lecturer` we have `0 = Chen` and `1 = Song`."
   ]
  },
  {
   "cell_type": "code",
   "execution_count": 9,
   "metadata": {},
   "outputs": [
    {
     "name": "stdout",
     "output_type": "stream",
     "text": [
      "<class 'pandas.core.frame.DataFrame'>\n",
      "DatetimeIndex: 2052 entries, 2024-03-14 08:00:00 to 2024-04-17 13:30:00\n",
      "Data columns (total 9 columns):\n",
      " #   Column         Non-Null Count  Dtype \n",
      "---  ------         --------------  ----- \n",
      " 0   co2            2052 non-null   object\n",
      " 1   tempF          2052 non-null   object\n",
      " 2   rhumid         2052 non-null   object\n",
      " 3   atmpr          2052 non-null   object\n",
      " 4   door1          2052 non-null   object\n",
      " 5   door2          2052 non-null   object\n",
      " 6   hvac           2052 non-null   object\n",
      " 7   subject_count  2052 non-null   object\n",
      " 8   lecturer       2052 non-null   object\n",
      "dtypes: object(9)\n",
      "memory usage: 160.3+ KB\n"
     ]
    }
   ],
   "source": [
    "\n",
    "# Concatenate all the DataFrames from each label into a single DataFrame\n",
    "all_windows = pd.concat([window for sublist in windows_df.values() for window in sublist])\n",
    "\n",
    "# Sort the DataFrame by the Datetime index\n",
    "lectures_df = all_windows.sort_index()\n",
    "\n",
    "# Display the information about the concatenated DataFrame\n",
    "lectures_df.info()\n"
   ]
  },
  {
   "cell_type": "markdown",
   "metadata": {},
   "source": [
    "# Questions\n",
    "\n",
    "1. What is the distribution of our above data types across lecturer (corresponding to morning, `Chen`, versus the noon, `Song`, lectures)\n",
    "2. What is the max subject count across lectures? What does this say about attendance on observed days? (minus 1 for the lecturer)\n",
    "3. How many lectures saw no change in state for observed features such as `door`, `hvac`, `subject_count`.\n",
    "4. How long do we observe certain states such as doors being both open/closed? Hvac being on/off? When the hvac is on, for how long does it remain in said state on average?\n",
    "5. Plot `co2` versus `tempF`, `relH`, `atmpr` and try labeling the points as other categories. (Note we might need to normalize/standardize our observations.)\n",
    "    - Do we find any patterns that might be worth exploring with algorithms such as `KNN`?"
   ]
  },
  {
   "cell_type": "markdown",
   "metadata": {},
   "source": []
  }
 ],
 "metadata": {
  "kernelspec": {
   "display_name": "Python 3",
   "language": "python",
   "name": "python3"
  },
  "language_info": {
   "codemirror_mode": {
    "name": "ipython",
    "version": 3
   },
   "file_extension": ".py",
   "mimetype": "text/x-python",
   "name": "python",
   "nbconvert_exporter": "python",
   "pygments_lexer": "ipython3",
   "version": "3.9.7"
  }
 },
 "nbformat": 4,
 "nbformat_minor": 2
}
