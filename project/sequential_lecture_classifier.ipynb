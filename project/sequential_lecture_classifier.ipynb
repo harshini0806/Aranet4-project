{
 "cells": [
  {
   "cell_type": "code",
   "execution_count": 35,
   "metadata": {},
   "outputs": [
    {
     "name": "stdout",
     "output_type": "stream",
     "text": [
      "Changing 2024-03-13 13:08:00 to 2024-03-13 13:09:00\n",
      "Original time 2024-03-13 13:08:00 changed to 2024-03-13 13:09:00\n",
      "Changing 2024-03-18 12:25:00 to 2024-03-18 12:26:00\n",
      "Original time 2024-03-18 12:25:00 changed to 2024-03-18 12:26:00\n",
      "Changing 2024-03-18 12:26:00 to 2024-03-18 12:27:00\n",
      "Original time 2024-03-18 12:26:00 changed to 2024-03-18 12:27:00\n",
      "Changing 2024-03-19 09:18:00 to 2024-03-19 09:19:00\n",
      "Original time 2024-03-19 09:18:00 changed to 2024-03-19 09:19:00\n",
      "Changing 2024-03-25 10:18:00 to 2024-03-25 10:19:00\n",
      "Original time 2024-03-25 10:18:00 changed to 2024-03-25 10:19:00\n",
      "Changing 2024-04-02 12:34:00 to 2024-04-02 12:35:00\n",
      "Original time 2024-04-02 12:34:00 changed to 2024-04-02 12:35:00\n",
      "Changing 2024-04-04 12:30:00 to 2024-04-04 12:31:00\n",
      "Original time 2024-04-04 12:30:00 changed to 2024-04-04 12:31:00\n",
      "Changing 2024-04-08 12:31:00 to 2024-04-08 12:32:00\n",
      "Original time 2024-04-08 12:31:00 changed to 2024-04-08 12:32:00\n",
      "Changing 2024-04-08 12:32:00 to 2024-04-08 12:33:00\n",
      "Original time 2024-04-08 12:32:00 changed to 2024-04-08 12:33:00\n",
      "Changing 2024-04-08 12:33:00 to 2024-04-08 12:34:00\n",
      "Original time 2024-04-08 12:33:00 changed to 2024-04-08 12:34:00\n",
      "Changing 2024-04-10 12:31:00 to 2024-04-10 12:32:00\n",
      "Original time 2024-04-10 12:31:00 changed to 2024-04-10 12:32:00\n",
      "Changing 2024-04-10 13:27:00 to 2024-04-10 13:28:00\n",
      "Original time 2024-04-10 13:27:00 changed to 2024-04-10 13:28:00\n",
      "Changing 2024-04-10 13:28:00 to 2024-04-10 13:29:00\n",
      "Original time 2024-04-10 13:28:00 changed to 2024-04-10 13:29:00\n",
      "Changing 2024-04-10 13:28:00 to 2024-04-10 13:29:00\n",
      "Changing 2024-04-10 13:29:00 to 2024-04-10 13:30:00\n",
      "Original time 2024-04-10 13:28:00 changed to 2024-04-10 13:30:00\n",
      "Changing 2024-04-10 13:29:00 to 2024-04-10 13:30:00\n",
      "Changing 2024-04-10 13:30:00 to 2024-04-10 13:31:00\n",
      "Original time 2024-04-10 13:29:00 changed to 2024-04-10 13:31:00\n",
      "Changing 2024-04-10 13:29:00 to 2024-04-10 13:30:00\n",
      "Changing 2024-04-10 13:30:00 to 2024-04-10 13:31:00\n",
      "Changing 2024-04-10 13:31:00 to 2024-04-10 13:32:00\n",
      "Original time 2024-04-10 13:29:00 changed to 2024-04-10 13:32:00\n",
      "Changing 2024-04-10 13:29:00 to 2024-04-10 13:30:00\n",
      "Changing 2024-04-10 13:30:00 to 2024-04-10 13:31:00\n",
      "Changing 2024-04-10 13:31:00 to 2024-04-10 13:32:00\n",
      "Changing 2024-04-10 13:32:00 to 2024-04-10 13:33:00\n",
      "Original time 2024-04-10 13:29:00 changed to 2024-04-10 13:33:00\n",
      "Changing 2024-04-10 13:29:00 to 2024-04-10 13:30:00\n",
      "Changing 2024-04-10 13:30:00 to 2024-04-10 13:31:00\n",
      "Changing 2024-04-10 13:31:00 to 2024-04-10 13:32:00\n",
      "Changing 2024-04-10 13:32:00 to 2024-04-10 13:33:00\n",
      "Changing 2024-04-10 13:33:00 to 2024-04-10 13:34:00\n",
      "Original time 2024-04-10 13:29:00 changed to 2024-04-10 13:34:00\n",
      "Changing 2024-04-10 13:32:00 to 2024-04-10 13:33:00\n",
      "Changing 2024-04-10 13:33:00 to 2024-04-10 13:34:00\n",
      "Changing 2024-04-10 13:34:00 to 2024-04-10 13:35:00\n",
      "Original time 2024-04-10 13:32:00 changed to 2024-04-10 13:35:00\n",
      "Changing 2024-04-10 13:32:00 to 2024-04-10 13:33:00\n",
      "Changing 2024-04-10 13:33:00 to 2024-04-10 13:34:00\n",
      "Changing 2024-04-10 13:34:00 to 2024-04-10 13:35:00\n",
      "Changing 2024-04-10 13:35:00 to 2024-04-10 13:36:00\n",
      "Original time 2024-04-10 13:32:00 changed to 2024-04-10 13:36:00\n",
      "Changing 2024-04-10 13:32:00 to 2024-04-10 13:33:00\n",
      "Changing 2024-04-10 13:33:00 to 2024-04-10 13:34:00\n",
      "Changing 2024-04-10 13:34:00 to 2024-04-10 13:35:00\n",
      "Changing 2024-04-10 13:35:00 to 2024-04-10 13:36:00\n",
      "Changing 2024-04-10 13:36:00 to 2024-04-10 13:37:00\n",
      "Original time 2024-04-10 13:32:00 changed to 2024-04-10 13:37:00\n",
      "Changing 2024-04-10 13:32:00 to 2024-04-10 13:33:00\n",
      "Changing 2024-04-10 13:33:00 to 2024-04-10 13:34:00\n",
      "Changing 2024-04-10 13:34:00 to 2024-04-10 13:35:00\n",
      "Changing 2024-04-10 13:35:00 to 2024-04-10 13:36:00\n",
      "Changing 2024-04-10 13:36:00 to 2024-04-10 13:37:00\n",
      "Changing 2024-04-10 13:37:00 to 2024-04-10 13:38:00\n",
      "Original time 2024-04-10 13:32:00 changed to 2024-04-10 13:38:00\n",
      "Changing 2024-04-10 13:32:00 to 2024-04-10 13:33:00\n",
      "Changing 2024-04-10 13:33:00 to 2024-04-10 13:34:00\n",
      "Changing 2024-04-10 13:34:00 to 2024-04-10 13:35:00\n",
      "Changing 2024-04-10 13:35:00 to 2024-04-10 13:36:00\n",
      "Changing 2024-04-10 13:36:00 to 2024-04-10 13:37:00\n",
      "Changing 2024-04-10 13:37:00 to 2024-04-10 13:38:00\n",
      "Changing 2024-04-10 13:38:00 to 2024-04-10 13:39:00\n",
      "Original time 2024-04-10 13:32:00 changed to 2024-04-10 13:39:00\n",
      "Changing 2024-04-10 13:32:00 to 2024-04-10 13:33:00\n",
      "Changing 2024-04-10 13:33:00 to 2024-04-10 13:34:00\n",
      "Changing 2024-04-10 13:34:00 to 2024-04-10 13:35:00\n",
      "Changing 2024-04-10 13:35:00 to 2024-04-10 13:36:00\n",
      "Changing 2024-04-10 13:36:00 to 2024-04-10 13:37:00\n",
      "Changing 2024-04-10 13:37:00 to 2024-04-10 13:38:00\n",
      "Changing 2024-04-10 13:38:00 to 2024-04-10 13:39:00\n",
      "Changing 2024-04-10 13:39:00 to 2024-04-10 13:40:00\n",
      "Original time 2024-04-10 13:32:00 changed to 2024-04-10 13:40:00\n"
     ]
    },
    {
     "name": "stderr",
     "output_type": "stream",
     "text": [
      "C:\\Users\\Corey Dearing\\AppData\\Local\\Temp\\ipykernel_20692\\3002810179.py:84: SettingWithCopyWarning: \n",
      "A value is trying to be set on a copy of a slice from a DataFrame.\n",
      "Try using .loc[row_indexer,col_indexer] = value instead\n",
      "\n",
      "See the caveats in the documentation: https://pandas.pydata.org/pandas-docs/stable/user_guide/indexing.html#returning-a-view-versus-a-copy\n",
      "  aranet_filtered['song_lec'] = aranet_filtered.apply(label_song_lec, axis=1)\n",
      "C:\\Users\\Corey Dearing\\AppData\\Local\\Temp\\ipykernel_20692\\3002810179.py:95: SettingWithCopyWarning: \n",
      "A value is trying to be set on a copy of a slice from a DataFrame.\n",
      "Try using .loc[row_indexer,col_indexer] = value instead\n",
      "\n",
      "See the caveats in the documentation: https://pandas.pydata.org/pandas-docs/stable/user_guide/indexing.html#returning-a-view-versus-a-copy\n",
      "  aranet_filtered['chen_lec'] = aranet_filtered.apply(label_chen_lec, axis=1)\n",
      "C:\\Users\\Corey Dearing\\AppData\\Local\\Temp\\ipykernel_20692\\3002810179.py:179: FutureWarning: Behavior when concatenating bool-dtype and numeric-dtype arrays is deprecated; in a future version these will cast to object dtype (instead of coercing bools to numeric values). To retain the old behavior, explicitly cast bool-dtype arrays to numeric dtype.\n",
      "  df = pd.concat([df, empty_row])\n"
     ]
    },
    {
     "name": "stdout",
     "output_type": "stream",
     "text": [
      "dict_keys(['chen_lec_1', 'song_lec_1', 'chen_lec_2', 'song_lec_2', 'chen_lec_3', 'song_lec_3', 'chen_lec_4', 'song_lec_4', 'chen_lec_5', 'song_lec_5', 'chen_lec_6', 'song_lec_6', 'chen_lec_7', 'song_lec_7', 'chen_lec_8', 'song_lec_8', 'chen_lec_9', 'song_lec_9', 'chen_lec_10', 'song_lec_10', 'chen_lec_11', 'song_lec_11', 'chen_lec_12', 'song_lec_12', 'chen_lec_13', 'song_lec_13', 'chen_lec_14', 'song_lec_14', 'chen_lec_15', 'song_lec_15', 'chen_lec_16', 'song_lec_16', 'chen_lec_17', 'song_lec_17'])\n",
      "Lectures removed due to 0 non-null counts in all columns: ['chen_lec_5', 'song_lec_5', 'chen_lec_8', 'song_lec_8', 'chen_lec_9', 'song_lec_9', 'song_lec_10', 'chen_lec_11', 'chen_lec_17', 'song_lec_17']\n",
      "Empty record created for chen_lec_7 at 2024-03-26 08:45:00\n",
      "chen_lec_1: (75, 6)\n",
      "Carbon dioxide(ppm)    float64\n",
      "door1                    int64\n",
      "door2                    int64\n",
      "hvac                     int64\n",
      "diff                   float64\n",
      "lag                    float64\n",
      "dtype: object\n",
      "song_lec_1: (75, 6)\n",
      "Carbon dioxide(ppm)    float64\n",
      "door1                    int64\n",
      "door2                    int64\n",
      "hvac                     int64\n",
      "diff                   float64\n",
      "lag                    float64\n",
      "dtype: object\n",
      "chen_lec_2: (75, 6)\n",
      "Carbon dioxide(ppm)    float64\n",
      "door1                    int64\n",
      "door2                    int64\n",
      "hvac                     int64\n",
      "diff                   float64\n",
      "lag                    float64\n",
      "dtype: object\n",
      "song_lec_2: (75, 6)\n",
      "Carbon dioxide(ppm)    float64\n",
      "door1                    int64\n",
      "door2                    int64\n",
      "hvac                     int64\n",
      "diff                   float64\n",
      "lag                    float64\n",
      "dtype: object\n",
      "chen_lec_3: (75, 6)\n",
      "Carbon dioxide(ppm)    float64\n",
      "door1                    int64\n",
      "door2                    int64\n",
      "hvac                     int64\n",
      "diff                   float64\n",
      "lag                    float64\n",
      "dtype: object\n",
      "song_lec_3: (75, 6)\n",
      "Carbon dioxide(ppm)    float64\n",
      "door1                    int64\n",
      "door2                    int64\n",
      "hvac                     int64\n",
      "diff                   float64\n",
      "lag                    float64\n",
      "dtype: object\n",
      "chen_lec_4: (75, 6)\n",
      "Carbon dioxide(ppm)    float64\n",
      "door1                    int64\n",
      "door2                    int64\n",
      "hvac                     int64\n",
      "diff                   float64\n",
      "lag                    float64\n",
      "dtype: object\n",
      "song_lec_4: (75, 6)\n",
      "Carbon dioxide(ppm)    float64\n",
      "door1                    int64\n",
      "door2                    int64\n",
      "hvac                     int64\n",
      "diff                   float64\n",
      "lag                    float64\n",
      "dtype: object\n",
      "chen_lec_6: (75, 6)\n",
      "Carbon dioxide(ppm)    float64\n",
      "door1                    int64\n",
      "door2                    int64\n",
      "hvac                     int64\n",
      "diff                   float64\n",
      "lag                    float64\n",
      "dtype: object\n",
      "song_lec_6: (75, 6)\n",
      "Carbon dioxide(ppm)    float64\n",
      "door1                    int64\n",
      "door2                    int64\n",
      "hvac                     int64\n",
      "diff                   float64\n",
      "lag                    float64\n",
      "dtype: object\n",
      "chen_lec_7: (75, 6)\n",
      "Carbon dioxide(ppm)    float64\n",
      "door1                    int64\n",
      "door2                    int64\n",
      "hvac                     int64\n",
      "diff                   float64\n",
      "lag                    float64\n",
      "dtype: object\n",
      "song_lec_7: (75, 6)\n",
      "Carbon dioxide(ppm)    float64\n",
      "door1                    int64\n",
      "door2                    int64\n",
      "hvac                     int64\n",
      "diff                   float64\n",
      "lag                    float64\n",
      "dtype: object\n",
      "chen_lec_10: (75, 6)\n",
      "Carbon dioxide(ppm)    float64\n",
      "door1                    int64\n",
      "door2                    int64\n",
      "hvac                     int64\n",
      "diff                   float64\n",
      "lag                    float64\n",
      "dtype: object\n",
      "song_lec_11: (75, 6)\n",
      "Carbon dioxide(ppm)    float64\n",
      "door1                    int64\n",
      "door2                    int64\n",
      "hvac                     int64\n",
      "diff                   float64\n",
      "lag                    float64\n",
      "dtype: object\n",
      "chen_lec_12: (75, 6)\n",
      "Carbon dioxide(ppm)    float64\n",
      "door1                    int64\n",
      "door2                    int64\n",
      "hvac                     int64\n",
      "diff                   float64\n",
      "lag                    float64\n",
      "dtype: object\n",
      "song_lec_12: (75, 6)\n",
      "Carbon dioxide(ppm)    float64\n",
      "door1                    int64\n",
      "door2                    int64\n",
      "hvac                     int64\n",
      "diff                   float64\n",
      "lag                    float64\n",
      "dtype: object\n",
      "chen_lec_13: (75, 6)\n",
      "Carbon dioxide(ppm)    float64\n",
      "door1                    int64\n",
      "door2                    int64\n",
      "hvac                     int64\n",
      "diff                   float64\n",
      "lag                    float64\n",
      "dtype: object\n",
      "song_lec_13: (75, 6)\n",
      "Carbon dioxide(ppm)    float64\n",
      "door1                    int64\n",
      "door2                    int64\n",
      "hvac                     int64\n",
      "diff                   float64\n",
      "lag                    float64\n",
      "dtype: object\n",
      "chen_lec_14: (75, 6)\n",
      "Carbon dioxide(ppm)    float64\n",
      "door1                    int64\n",
      "door2                    int64\n",
      "hvac                     int64\n",
      "diff                   float64\n",
      "lag                    float64\n",
      "dtype: object\n",
      "song_lec_14: (75, 6)\n",
      "Carbon dioxide(ppm)    float64\n",
      "door1                    int64\n",
      "door2                    int64\n",
      "hvac                     int64\n",
      "diff                   float64\n",
      "lag                    float64\n",
      "dtype: object\n",
      "chen_lec_15: (75, 6)\n",
      "Carbon dioxide(ppm)    float64\n",
      "door1                    int64\n",
      "door2                    int64\n",
      "hvac                     int64\n",
      "diff                   float64\n",
      "lag                    float64\n",
      "dtype: object\n",
      "song_lec_15: (75, 6)\n",
      "Carbon dioxide(ppm)    float64\n",
      "door1                    int64\n",
      "door2                    int64\n",
      "hvac                     int64\n",
      "diff                   float64\n",
      "lag                    float64\n",
      "dtype: object\n",
      "chen_lec_16: (75, 6)\n",
      "Carbon dioxide(ppm)    float64\n",
      "door1                    int64\n",
      "door2                    int64\n",
      "hvac                     int64\n",
      "diff                   float64\n",
      "lag                    float64\n",
      "dtype: object\n",
      "song_lec_16: (75, 6)\n",
      "Carbon dioxide(ppm)    float64\n",
      "door1                    int64\n",
      "door2                    int64\n",
      "hvac                     int64\n",
      "diff                   float64\n",
      "lag                    float64\n",
      "dtype: object\n"
     ]
    }
   ],
   "source": [
    "import pandas as pd\n",
    "import numpy as np\n",
    "import matplotlib.pyplot as plt\n",
    "from datetime import datetime\n",
    "\n",
    "\n",
    "import matplotlib.pyplot as plt\n",
    "import tensorflow as tf\n",
    "\n",
    "plt.rc('font', size=14)\n",
    "plt.rc('axes', labelsize=14, titlesize=14)\n",
    "plt.rc('legend', fontsize=14)\n",
    "plt.rc('xtick', labelsize=10)\n",
    "plt.rc('ytick', labelsize=10)\n",
    "\n",
    "\n",
    "# Load the data from the CSV file\n",
    "aranet4 = pd.read_csv('../datasets/aranet4.csv')\n",
    "aranetExp = pd.read_csv('../datasets/aranetExp.csv')\n",
    "\n",
    "# Convert the date column to datetime\n",
    "aranetExp['date'] = pd.to_datetime(aranetExp['date'])\n",
    "aranetExp = aranetExp.rename(columns={'date': 'Datetime'})\n",
    "aranetExp = aranetExp.drop(columns=['id','time'])\n",
    "aranetExp = aranetExp.set_index('Datetime')\n",
    "\n",
    "# Convert the date column to datetime \n",
    "aranet4['Datetime'] = pd.to_datetime(aranet4['Datetime'])\n",
    "aranet4 = aranet4.set_index('Datetime')\n",
    "\n",
    "# Create a copy of aranetExp\n",
    "aranetExp_copy = aranetExp.copy()\n",
    "\n",
    "# Round the 'Datetime' index to the nearest minute\n",
    "aranetExp_copy.index = aranetExp_copy.index.round('min')\n",
    "# Ensure each record has a unique datetime to the minute\n",
    "unique_minutes = set()\n",
    "for i in range(len(aranetExp_copy)):\n",
    "    current_time = aranetExp_copy.index[i]\n",
    "    original_time = current_time\n",
    "    while current_time in unique_minutes:\n",
    "        print(f\"Changing {current_time} to \", end=\"\")\n",
    "        current_time += pd.Timedelta(minutes=1)\n",
    "        print(f\"{current_time}\")\n",
    "    if current_time != original_time:\n",
    "        print(f\"Original time {original_time} changed to {current_time}\")\n",
    "    unique_minutes.add(current_time)\n",
    "    aranetExp_copy.index.values[i] = current_time\n",
    "    \n",
    "def custom_round_to_nearest_minute(dt_index):\n",
    "    rounded_index = dt_index.floor('min') + pd.to_timedelta((dt_index.second >= 30).astype(int), unit='min')\n",
    "    rounded_index.name = dt_index.name  # Preserve the name of the index\n",
    "    return rounded_index\n",
    "\n",
    "# Create a copy of aranet4\n",
    "aranet4_copy = aranet4.copy()\n",
    "\n",
    "# Use the custom function to round the 'Datetime' index to the nearest minute\n",
    "aranet4_copy.index = custom_round_to_nearest_minute(aranet4_copy.index)\n",
    "\n",
    "# Merge aranet4_copy with aranetExp_copy using an exact match on the 'Datetime' index\n",
    "merged = pd.merge(aranet4_copy, aranetExp_copy, left_on='Datetime', right_index=True, how='left')\n",
    "\n",
    "\n",
    "aranet_tf = merged.copy()\n",
    "aranet_tf['hour'] = aranet_tf.index.hour\n",
    "aranet_tf['minute'] = aranet_tf.index.minute\n",
    "\n",
    "\n",
    "aranet = aranet_tf.copy()\n",
    "\n",
    "# Filter the DataFrame to include all records from \"2024-03-14 00:00:00\" onwards\n",
    "aranet_filtered = aranet.loc[\"2024-03-14 00:00:00\":]\n",
    "\n",
    "\n",
    "# Define a function to label the time periods as a boolean\n",
    "def label_song_lec(row):\n",
    "    if row.name.dayofweek in [0, 1, 2, 3]:  # Monday to Thursday\n",
    "        if row.name.time() >= pd.to_datetime('12:15').time() and row.name.time() <= pd.to_datetime('13:30').time():\n",
    "            return True\n",
    "    return False\n",
    "\n",
    "# Apply the function to the DataFrame\n",
    "aranet_filtered['song_lec'] = aranet_filtered.apply(label_song_lec, axis=1)\n",
    "\n",
    "def label_chen_lec(row):\n",
    "    if row.name.dayofweek in [0, 2]:  # Monday and Wednesday\n",
    "        if row.name.time() >= pd.to_datetime('09:00').time() and row.name.time() <= pd.to_datetime('10:15').time():\n",
    "            return True\n",
    "    elif row.name.dayofweek in [1, 3]:  # Tuesday and Thursday\n",
    "        if row.name.time() >= pd.to_datetime('08:00').time() and row.name.time() <= pd.to_datetime('09:15').time():\n",
    "            return True\n",
    "    return False\n",
    "\n",
    "aranet_filtered['chen_lec'] = aranet_filtered.apply(label_chen_lec, axis=1)\n",
    "\n",
    "filtered_lec_df = aranet_filtered[(aranet_filtered['song_lec'] == True) | (aranet_filtered['chen_lec'] == True)]\n",
    "\n",
    "\n",
    "# Initialize variables\n",
    "sliced_dataframes = {}\n",
    "lecture_start_time = None\n",
    "lecture_type = None\n",
    "lecture_count = {'song': 0, 'chen': 0}\n",
    "\n",
    "# Iterate through the DataFrame\n",
    "for index, row in filtered_lec_df.iterrows():\n",
    "    # Check if we are in a new lecture\n",
    "    if lecture_start_time is None or (index - lecture_start_time).total_seconds() > 75 * 60 or (row['song_lec'] and lecture_type != 'song') or (row['chen_lec'] and lecture_type != 'chen'):\n",
    "        # Store the previous lecture if it exists\n",
    "        if lecture_start_time is not None:\n",
    "            lecture_label = f\"{lecture_type}_lec_{lecture_count[lecture_type]}\"\n",
    "            # Subtract one minute from the end index of the slice\n",
    "            sliced_dataframes[lecture_label] = filtered_lec_df.loc[lecture_start_time:index - pd.Timedelta(minutes=1)]\n",
    "        \n",
    "        # Update the lecture start time and type\n",
    "        lecture_start_time = index\n",
    "        if row['song_lec']:\n",
    "            lecture_type = 'song'\n",
    "        elif row['chen_lec']:\n",
    "            lecture_type = 'chen'\n",
    "        lecture_count[lecture_type] += 1\n",
    "\n",
    "# Store the last lecture\n",
    "if lecture_start_time is not None:\n",
    "    lecture_label = f\"{lecture_type}_lec_{lecture_count[lecture_type]}\"\n",
    "    # Subtract one minute from the end index of the last slice\n",
    "    sliced_dataframes[lecture_label] = filtered_lec_df.loc[lecture_start_time:index - pd.Timedelta(minutes=1)]\n",
    "\n",
    "# Display the keys of the sliced dataframes\n",
    "print(sliced_dataframes.keys())\n",
    "\n",
    "\n",
    "# Impute missing values in each lecture slice\n",
    "# Iterate over each key (lecture) in the dictionary\n",
    "for lecture_key in sliced_dataframes.keys():\n",
    "    # Forward fill to impute missing values\n",
    "    sliced_dataframes[lecture_key] = sliced_dataframes[lecture_key].ffill()\n",
    "\n",
    "    # Backward fill to impute remaining missing values\n",
    "    sliced_dataframes[lecture_key] = sliced_dataframes[lecture_key].bfill()\n",
    "\n",
    "\n",
    "\n",
    "# Check if any column in the DataFrame has 0 non-null values\n",
    "\n",
    "# Copy the keys to a list to avoid RuntimeError for changing dict size during iteration\n",
    "keys_to_check = list(sliced_dataframes.keys())\n",
    "\n",
    "# Store the lectures that will be removed\n",
    "removed_lectures = []\n",
    "\n",
    "for lecture_key in keys_to_check:\n",
    "    # Check if any column in the DataFrame has 0 non-null values\n",
    "    if (sliced_dataframes[lecture_key].count() == 0).any():\n",
    "        # If found, add to the list of lectures to remove and delete from dictionary\n",
    "        removed_lectures.append(lecture_key)\n",
    "        del sliced_dataframes[lecture_key]\n",
    "\n",
    "# Print the lectures that were removed\n",
    "print(\"Lectures removed due to 0 non-null counts in all columns:\", removed_lectures)\n",
    "\n",
    "# Define a function to fill missing minutes in the DataFrame\n",
    "def fill_missing_minutes_in_lectures(sliced_dataframes):\n",
    "    for lecture_key, df in sliced_dataframes.items():\n",
    "        # Get the minute column as a Series\n",
    "        minutes = df.index.minute\n",
    "        \n",
    "        # Find the difference between consecutive minutes\n",
    "        minute_diffs = minutes.to_series().diff().fillna(1)  # Fill the first NaN with 1\n",
    "        \n",
    "        # Identify indices where the difference is greater than 1\n",
    "        missing_minute_indices = minute_diffs[minute_diffs > 1].index\n",
    "        \n",
    "        # For each missing minute, add a new row with NaN values\n",
    "        for idx in missing_minute_indices:\n",
    "            missing_time = df.index[idx - 1] + pd.Timedelta(minutes=1)\n",
    "            empty_row = pd.DataFrame({col: np.nan for col in df.columns}, index=[missing_time])\n",
    "            df = pd.concat([df, empty_row])\n",
    "            print(f\"Empty record created for {lecture_key} at {missing_time}\")\n",
    "        \n",
    "        # Sort the DataFrame after adding new rows to maintain chronological order\n",
    "        sliced_dataframes[lecture_key] = df.sort_index()\n",
    "        \n",
    "    return sliced_dataframes\n",
    "\n",
    "# Apply the function\n",
    "sliced_dataframes = fill_missing_minutes_in_lectures(sliced_dataframes)\n",
    "\n",
    "def ensure_song_lecture_endpoints(sliced_dataframes):\n",
    "    for lecture_key, df in sliced_dataframes.items():\n",
    "        if 'song_lec' in lecture_key:\n",
    "            # Check if the start and end points are missing\n",
    "            start_time = df.index.min().replace(hour=12, minute=15, second=0)\n",
    "            end_time = df.index.max().replace(hour=13, minute=30, second=0)\n",
    "\n",
    "            if df.index.min() != start_time:\n",
    "                # Add a new row at the start time with NaN values\n",
    "                df.loc[start_time] = [np.nan] * len(df.columns)\n",
    "                print(f\"Start record created for {lecture_key} at {start_time}\")\n",
    "\n",
    "            if df.index.max() != end_time:\n",
    "                # Add a new row at the end time with NaN values\n",
    "                df.loc[end_time] = [np.nan] * len(df.columns)\n",
    "                print(f\"End record created for {lecture_key} at {end_time}\")\n",
    "\n",
    "            # Sort the DataFrame after adding new rows to maintain chronological order\n",
    "            sliced_dataframes[lecture_key] = df.sort_index()\n",
    "\n",
    "    return sliced_dataframes\n",
    "\n",
    "# Apply the function\n",
    "sliced_dataframes = ensure_song_lecture_endpoints(sliced_dataframes)\n",
    "\n",
    "# Impute missing values in each lecture slice\n",
    "# Iterate over each key (lecture) in the dictionary\n",
    "for lecture_key in sliced_dataframes.keys():\n",
    "    # Forward fill to impute missing values\n",
    "    sliced_dataframes[lecture_key] = sliced_dataframes[lecture_key].ffill()\n",
    "\n",
    "    # Backward fill to impute remaining missing values\n",
    "    sliced_dataframes[lecture_key] = sliced_dataframes[lecture_key].bfill()\n",
    "    \n",
    "    \n",
    "from sklearn.preprocessing import MinMaxScaler\n",
    "import pandas as pd\n",
    "\n",
    "# 1. Copy sliced_dataframes by subsetting the columns\n",
    "model_set = {key: df[['Carbon dioxide(ppm)', 'door1', 'door2', 'hvac']].copy() for key, df in sliced_dataframes.items()}\n",
    "\n",
    "# 2. Normalize 'Carbon dioxide(ppm)' and encode 'door1', 'door2', and 'hvac'\n",
    "scaler = MinMaxScaler()\n",
    "\n",
    "for key, df in model_set.items():\n",
    "    # Normalize 'Carbon dioxide(ppm)'\n",
    "    # Calculate the one-minute difference ('diff') and one-minute lag ('lag') for 'Carbon dioxide(ppm)'\n",
    "    df['diff'] = df['Carbon dioxide(ppm)'].diff()\n",
    "    df['diff'] = scaler.fit_transform(df[['diff']])\n",
    "    df['Carbon dioxide(ppm)'] = scaler.fit_transform(df[['Carbon dioxide(ppm)']])\n",
    "\n",
    "    # Encode 'door1', 'door2', and 'hvac'\n",
    "    df['door1'] = df['door1'].map({'open': 1, 'closed': 0})\n",
    "    df['door2'] = df['door2'].map({'open': 1, 'closed': 0})\n",
    "    df['hvac'] = df['hvac'].map({'on': 1, 'off': 0})\n",
    "\n",
    "    # Calculate the one-minute difference ('diff') and one-minute lag ('lag') for 'Carbon dioxide(ppm)'\n",
    "    # df['diff'] = df['Carbon dioxide(ppm)'].diff()\n",
    "    df['lag'] = df['Carbon dioxide(ppm)'].shift()\n",
    "\n",
    "    # Drop NA values that result from diff and lag calculations\n",
    "    df.dropna(inplace=True)\n",
    "    # 1. Add 'lecturer' column based on the key        \n",
    "\n",
    "# Check the data types and shapes after normalization, encoding, and feature creation\n",
    "    print(f\"{key}: {df.shape}\")\n",
    "    print(df.dtypes)"
   ]
  },
  {
   "cell_type": "code",
   "execution_count": 36,
   "metadata": {},
   "outputs": [
    {
     "data": {
      "text/plain": [
       "dict_keys(['chen_lec_1', 'song_lec_1', 'chen_lec_2', 'song_lec_2', 'chen_lec_3', 'song_lec_3', 'chen_lec_4', 'song_lec_4', 'chen_lec_6', 'song_lec_6', 'chen_lec_7', 'song_lec_7', 'chen_lec_10', 'song_lec_11', 'chen_lec_12', 'song_lec_12', 'chen_lec_13', 'song_lec_13', 'chen_lec_14', 'song_lec_14', 'chen_lec_15', 'song_lec_15', 'chen_lec_16', 'song_lec_16'])"
      ]
     },
     "execution_count": 36,
     "metadata": {},
     "output_type": "execute_result"
    }
   ],
   "source": [
    "model_set.keys()"
   ]
  },
  {
   "cell_type": "code",
   "execution_count": 37,
   "metadata": {},
   "outputs": [
    {
     "data": {
      "text/html": [
       "<div>\n",
       "<style scoped>\n",
       "    .dataframe tbody tr th:only-of-type {\n",
       "        vertical-align: middle;\n",
       "    }\n",
       "\n",
       "    .dataframe tbody tr th {\n",
       "        vertical-align: top;\n",
       "    }\n",
       "\n",
       "    .dataframe thead th {\n",
       "        text-align: right;\n",
       "    }\n",
       "</style>\n",
       "<table border=\"1\" class=\"dataframe\">\n",
       "  <thead>\n",
       "    <tr style=\"text-align: right;\">\n",
       "      <th></th>\n",
       "      <th>Carbon dioxide(ppm)</th>\n",
       "      <th>door1</th>\n",
       "      <th>door2</th>\n",
       "      <th>hvac</th>\n",
       "      <th>diff</th>\n",
       "      <th>lag</th>\n",
       "    </tr>\n",
       "    <tr>\n",
       "      <th>Datetime</th>\n",
       "      <th></th>\n",
       "      <th></th>\n",
       "      <th></th>\n",
       "      <th></th>\n",
       "      <th></th>\n",
       "      <th></th>\n",
       "    </tr>\n",
       "  </thead>\n",
       "  <tbody>\n",
       "    <tr>\n",
       "      <th>2024-03-14 08:01:00</th>\n",
       "      <td>0.496970</td>\n",
       "      <td>1</td>\n",
       "      <td>1</td>\n",
       "      <td>1</td>\n",
       "      <td>0.622222</td>\n",
       "      <td>0.484848</td>\n",
       "    </tr>\n",
       "    <tr>\n",
       "      <th>2024-03-14 08:02:00</th>\n",
       "      <td>0.418182</td>\n",
       "      <td>1</td>\n",
       "      <td>1</td>\n",
       "      <td>0</td>\n",
       "      <td>0.455556</td>\n",
       "      <td>0.496970</td>\n",
       "    </tr>\n",
       "    <tr>\n",
       "      <th>2024-03-14 08:03:00</th>\n",
       "      <td>0.581818</td>\n",
       "      <td>1</td>\n",
       "      <td>1</td>\n",
       "      <td>0</td>\n",
       "      <td>0.900000</td>\n",
       "      <td>0.418182</td>\n",
       "    </tr>\n",
       "    <tr>\n",
       "      <th>2024-03-14 08:04:00</th>\n",
       "      <td>0.375758</td>\n",
       "      <td>1</td>\n",
       "      <td>1</td>\n",
       "      <td>0</td>\n",
       "      <td>0.222222</td>\n",
       "      <td>0.581818</td>\n",
       "    </tr>\n",
       "    <tr>\n",
       "      <th>2024-03-14 08:05:00</th>\n",
       "      <td>0.436364</td>\n",
       "      <td>1</td>\n",
       "      <td>1</td>\n",
       "      <td>0</td>\n",
       "      <td>0.711111</td>\n",
       "      <td>0.375758</td>\n",
       "    </tr>\n",
       "  </tbody>\n",
       "</table>\n",
       "</div>"
      ],
      "text/plain": [
       "                     Carbon dioxide(ppm)  door1  door2  hvac      diff  \\\n",
       "Datetime                                                                 \n",
       "2024-03-14 08:01:00             0.496970      1      1     1  0.622222   \n",
       "2024-03-14 08:02:00             0.418182      1      1     0  0.455556   \n",
       "2024-03-14 08:03:00             0.581818      1      1     0  0.900000   \n",
       "2024-03-14 08:04:00             0.375758      1      1     0  0.222222   \n",
       "2024-03-14 08:05:00             0.436364      1      1     0  0.711111   \n",
       "\n",
       "                          lag  \n",
       "Datetime                       \n",
       "2024-03-14 08:01:00  0.484848  \n",
       "2024-03-14 08:02:00  0.496970  \n",
       "2024-03-14 08:03:00  0.418182  \n",
       "2024-03-14 08:04:00  0.581818  \n",
       "2024-03-14 08:05:00  0.375758  "
      ]
     },
     "execution_count": 37,
     "metadata": {},
     "output_type": "execute_result"
    }
   ],
   "source": [
    "chen_lec_1 = model_set['chen_lec_1']\n",
    "chen_lec_1.head()"
   ]
  },
  {
   "cell_type": "code",
   "execution_count": 38,
   "metadata": {},
   "outputs": [
    {
     "name": "stdout",
     "output_type": "stream",
     "text": [
      "<class 'pandas.core.frame.DataFrame'>\n",
      "DatetimeIndex: 75 entries, 2024-03-14 08:01:00 to 2024-03-14 09:15:00\n",
      "Data columns (total 6 columns):\n",
      " #   Column               Non-Null Count  Dtype  \n",
      "---  ------               --------------  -----  \n",
      " 0   Carbon dioxide(ppm)  75 non-null     float64\n",
      " 1   door1                75 non-null     int64  \n",
      " 2   door2                75 non-null     int64  \n",
      " 3   hvac                 75 non-null     int64  \n",
      " 4   diff                 75 non-null     float64\n",
      " 5   lag                  75 non-null     float64\n",
      "dtypes: float64(3), int64(3)\n",
      "memory usage: 4.1 KB\n"
     ]
    }
   ],
   "source": [
    "chen_lec_1.info()"
   ]
  },
  {
   "cell_type": "markdown",
   "metadata": {},
   "source": [
    "Create labels for `Chen` and `Song` lecture classes."
   ]
  },
  {
   "cell_type": "code",
   "execution_count": 39,
   "metadata": {},
   "outputs": [
    {
     "name": "stdout",
     "output_type": "stream",
     "text": [
      "X_train shape: (18, 75, 6)\n",
      "y_train shape: (18,)\n",
      "X_test shape: (6, 75, 6)\n",
      "y_test shape: (6,)\n"
     ]
    }
   ],
   "source": [
    "import numpy as np\n",
    "from sklearn.model_selection import train_test_split\n",
    "\n",
    "# Create a list of tuples (dataframe, label)\n",
    "data_label_pairs = [(df, 'chen' if key.startswith('chen') else 'song') for key, df in model_set.items()]\n",
    "\n",
    "# Shuffle the list\n",
    "np.random.shuffle(data_label_pairs)\n",
    "\n",
    "# Split into training and test/validation sets\n",
    "train_pairs, test_pairs = train_test_split(data_label_pairs, test_size=6)\n",
    "\n",
    "# Separate dataframes and labels\n",
    "X_train = np.array([df.values for df, _ in train_pairs])\n",
    "y_train = np.array([label for _, label in train_pairs])\n",
    "\n",
    "X_test = np.array([df.values for df, _ in test_pairs])\n",
    "y_test = np.array([label for _, label in test_pairs])\n",
    "\n",
    "# Convert labels to a numerical format\n",
    "label_to_index = {'chen': 0, 'song': 1}\n",
    "y_train = np.array([label_to_index[label] for label in y_train])\n",
    "y_test = np.array([label_to_index[label] for label in y_test])\n",
    "\n",
    "print(\"X_train shape:\", X_train.shape)\n",
    "print(\"y_train shape:\", y_train.shape)\n",
    "print(\"X_test shape:\", X_test.shape)\n",
    "print(\"y_test shape:\", y_test.shape)\n"
   ]
  },
  {
   "cell_type": "markdown",
   "metadata": {},
   "source": [
    "Sequential Model"
   ]
  },
  {
   "cell_type": "code",
   "execution_count": 40,
   "metadata": {},
   "outputs": [],
   "source": [
    "import tensorflow as tf\n",
    "\n",
    "tf.random.set_seed(42)\n",
    "model = tf.keras.Sequential()\n",
    "model.add(tf.keras.layers.Input(shape=[75,6]))\n",
    "model.add(tf.keras.layers.Flatten())\n",
    "model.add(tf.keras.layers.Dense(128, activation='relu'))\n",
    "model.add(tf.keras.layers.Dense(64, activation='relu'))\n",
    "model.add(tf.keras.layers.Dense(32, activation='softmax'))"
   ]
  },
  {
   "cell_type": "code",
   "execution_count": 16,
   "metadata": {},
   "outputs": [
    {
     "name": "stdout",
     "output_type": "stream",
     "text": [
      "Model: \"sequential\"\n",
      "_________________________________________________________________\n",
      " Layer (type)                Output Shape              Param #   \n",
      "=================================================================\n",
      " flatten (Flatten)           (None, 450)               0         \n",
      "                                                                 \n",
      " dense (Dense)               (None, 128)               57728     \n",
      "                                                                 \n",
      " dense_1 (Dense)             (None, 64)                8256      \n",
      "                                                                 \n",
      " dense_2 (Dense)             (None, 32)                2080      \n",
      "                                                                 \n",
      "=================================================================\n",
      "Total params: 68064 (265.88 KB)\n",
      "Trainable params: 68064 (265.88 KB)\n",
      "Non-trainable params: 0 (0.00 Byte)\n",
      "_________________________________________________________________\n"
     ]
    }
   ],
   "source": [
    "model.summary()"
   ]
  },
  {
   "cell_type": "code",
   "execution_count": 17,
   "metadata": {},
   "outputs": [
    {
     "data": {
      "text/plain": [
       "[<keras.src.layers.reshaping.flatten.Flatten at 0x218776eb5b0>,\n",
       " <keras.src.layers.core.dense.Dense at 0x21877886a30>,\n",
       " <keras.src.layers.core.dense.Dense at 0x21877886a60>,\n",
       " <keras.src.layers.core.dense.Dense at 0x2187790e760>]"
      ]
     },
     "execution_count": 17,
     "metadata": {},
     "output_type": "execute_result"
    }
   ],
   "source": [
    "model.layers"
   ]
  },
  {
   "cell_type": "code",
   "execution_count": 18,
   "metadata": {},
   "outputs": [
    {
     "data": {
      "text/plain": [
       "'dense'"
      ]
     },
     "execution_count": 18,
     "metadata": {},
     "output_type": "execute_result"
    }
   ],
   "source": [
    "hidden1 = model.layers[1]\n",
    "hidden1.name"
   ]
  },
  {
   "cell_type": "code",
   "execution_count": 19,
   "metadata": {},
   "outputs": [
    {
     "data": {
      "text/plain": [
       "True"
      ]
     },
     "execution_count": 19,
     "metadata": {},
     "output_type": "execute_result"
    }
   ],
   "source": [
    "model.get_layer('dense') is hidden1"
   ]
  },
  {
   "cell_type": "code",
   "execution_count": 20,
   "metadata": {},
   "outputs": [
    {
     "data": {
      "text/plain": [
       "array([[-1.0575682e-02, -5.8110058e-04,  8.4104292e-02, ...,\n",
       "         9.0667598e-02, -3.4415923e-02, -9.5510751e-02],\n",
       "       [ 5.2230768e-02,  2.3012951e-02,  8.0616631e-02, ...,\n",
       "        -8.4841654e-02,  7.5580768e-02, -3.6559999e-05],\n",
       "       [-4.7343176e-02,  2.8016441e-02,  6.6320710e-02, ...,\n",
       "        -2.4176411e-02,  7.5840704e-02, -3.0679695e-02],\n",
       "       ...,\n",
       "       [-3.3697486e-02, -2.3033239e-02, -6.8126932e-02, ...,\n",
       "         7.6153629e-02,  6.2959261e-02,  2.3313455e-02],\n",
       "       [ 5.9381269e-02, -9.2245318e-02, -1.6061299e-02, ...,\n",
       "         9.4849467e-03, -3.9557457e-02,  1.9085087e-02],\n",
       "       [ 3.7284009e-02,  8.9180298e-02,  3.7496388e-03, ...,\n",
       "        -2.0279564e-02,  1.2344889e-02, -5.3564217e-02]], dtype=float32)"
      ]
     },
     "execution_count": 20,
     "metadata": {},
     "output_type": "execute_result"
    }
   ],
   "source": [
    "weights, biases = hidden1.get_weights()\n",
    "weights"
   ]
  },
  {
   "cell_type": "code",
   "execution_count": 21,
   "metadata": {},
   "outputs": [
    {
     "data": {
      "text/plain": [
       "(450, 128)"
      ]
     },
     "execution_count": 21,
     "metadata": {},
     "output_type": "execute_result"
    }
   ],
   "source": [
    "weights.shape"
   ]
  },
  {
   "cell_type": "code",
   "execution_count": 22,
   "metadata": {},
   "outputs": [
    {
     "data": {
      "text/plain": [
       "array([0., 0., 0., 0., 0., 0., 0., 0., 0., 0., 0., 0., 0., 0., 0., 0., 0.,\n",
       "       0., 0., 0., 0., 0., 0., 0., 0., 0., 0., 0., 0., 0., 0., 0., 0., 0.,\n",
       "       0., 0., 0., 0., 0., 0., 0., 0., 0., 0., 0., 0., 0., 0., 0., 0., 0.,\n",
       "       0., 0., 0., 0., 0., 0., 0., 0., 0., 0., 0., 0., 0., 0., 0., 0., 0.,\n",
       "       0., 0., 0., 0., 0., 0., 0., 0., 0., 0., 0., 0., 0., 0., 0., 0., 0.,\n",
       "       0., 0., 0., 0., 0., 0., 0., 0., 0., 0., 0., 0., 0., 0., 0., 0., 0.,\n",
       "       0., 0., 0., 0., 0., 0., 0., 0., 0., 0., 0., 0., 0., 0., 0., 0., 0.,\n",
       "       0., 0., 0., 0., 0., 0., 0., 0., 0.], dtype=float32)"
      ]
     },
     "execution_count": 22,
     "metadata": {},
     "output_type": "execute_result"
    }
   ],
   "source": [
    "biases"
   ]
  },
  {
   "cell_type": "code",
   "execution_count": 23,
   "metadata": {},
   "outputs": [
    {
     "data": {
      "text/plain": [
       "(128,)"
      ]
     },
     "execution_count": 23,
     "metadata": {},
     "output_type": "execute_result"
    }
   ],
   "source": [
    "biases.shape"
   ]
  },
  {
   "cell_type": "code",
   "execution_count": 42,
   "metadata": {},
   "outputs": [],
   "source": [
    "model.compile(loss='sparse_categorical_crossentropy', \n",
    "              optimizer='sgd',\n",
    "              metrics=['accuracy'])"
   ]
  },
  {
   "cell_type": "code",
   "execution_count": 43,
   "metadata": {},
   "outputs": [
    {
     "name": "stdout",
     "output_type": "stream",
     "text": [
      "Epoch 1/10\n",
      "1/1 [==============================] - 0s 330ms/step - loss: 3.5360 - accuracy: 0.0000e+00 - val_loss: 3.3329 - val_accuracy: 0.1667\n",
      "Epoch 2/10\n",
      "1/1 [==============================] - 0s 22ms/step - loss: 3.1151 - accuracy: 0.0556 - val_loss: 3.0094 - val_accuracy: 0.3333\n",
      "Epoch 3/10\n",
      "1/1 [==============================] - 0s 20ms/step - loss: 2.7808 - accuracy: 0.3889 - val_loss: 2.7132 - val_accuracy: 0.3333\n",
      "Epoch 4/10\n",
      "1/1 [==============================] - 0s 21ms/step - loss: 2.4730 - accuracy: 0.5000 - val_loss: 2.4405 - val_accuracy: 0.3333\n",
      "Epoch 5/10\n",
      "1/1 [==============================] - 0s 21ms/step - loss: 2.1905 - accuracy: 0.5556 - val_loss: 2.1910 - val_accuracy: 0.3333\n",
      "Epoch 6/10\n",
      "1/1 [==============================] - 0s 21ms/step - loss: 1.9329 - accuracy: 0.5556 - val_loss: 1.9665 - val_accuracy: 0.3333\n",
      "Epoch 7/10\n",
      "1/1 [==============================] - 0s 21ms/step - loss: 1.7056 - accuracy: 0.5556 - val_loss: 1.7664 - val_accuracy: 0.3333\n",
      "Epoch 8/10\n",
      "1/1 [==============================] - 0s 22ms/step - loss: 1.5062 - accuracy: 0.5556 - val_loss: 1.5933 - val_accuracy: 0.3333\n",
      "Epoch 9/10\n",
      "1/1 [==============================] - 0s 21ms/step - loss: 1.3375 - accuracy: 0.5556 - val_loss: 1.4401 - val_accuracy: 0.3333\n",
      "Epoch 10/10\n",
      "1/1 [==============================] - 0s 22ms/step - loss: 1.1976 - accuracy: 0.5556 - val_loss: 1.3155 - val_accuracy: 0.3333\n"
     ]
    }
   ],
   "source": [
    "history = model.fit(X_train, y_train, epochs=10, validation_data=(X_test, y_test))"
   ]
  },
  {
   "cell_type": "code",
   "execution_count": 33,
   "metadata": {},
   "outputs": [
    {
     "data": {
      "image/png": "[encoded data removed]",
      "text/plain": [
       "<Figure size 800x500 with 1 Axes>"
      ]
     },
     "metadata": {},
     "output_type": "display_data"
    }
   ],
   "source": [
    "pd.DataFrame(history.history).plot(\n",
    "    figsize=(8, 5),\n",
    "    xlim=[0, 10], ylim=[0, 1], xlabel='Epochs', grid=True,\n",
    "    style=['r', 'r--', 'b', 'b-*'])\n",
    "plt.show()"
   ]
  },
  {
   "cell_type": "code",
   "execution_count": 44,
   "metadata": {},
   "outputs": [
    {
     "name": "stdout",
     "output_type": "stream",
     "text": [
      "1/1 [==============================] - 0s 33ms/step - loss: 1.3155 - accuracy: 0.3333\n"
     ]
    },
    {
     "data": {
      "text/plain": [
       "[1.3155349493026733, 0.3333333432674408]"
      ]
     },
     "execution_count": 44,
     "metadata": {},
     "output_type": "execute_result"
    }
   ],
   "source": [
    "model.evaluate(X_test, y_test)"
   ]
  },
  {
   "cell_type": "code",
   "execution_count": 45,
   "metadata": {},
   "outputs": [
    {
     "name": "stdout",
     "output_type": "stream",
     "text": [
      "1/1 [==============================] - 0s 38ms/step\n"
     ]
    },
    {
     "data": {
      "text/plain": [
       "array([[0.46, 0.24, 0.  , 0.02, 0.03, 0.01, 0.  , 0.01, 0.01, 0.01, 0.01,\n",
       "        0.  , 0.02, 0.02, 0.01, 0.02, 0.  , 0.  , 0.  , 0.03, 0.  , 0.  ,\n",
       "        0.  , 0.  , 0.01, 0.01, 0.01, 0.02, 0.  , 0.  , 0.02, 0.01],\n",
       "       [0.33, 0.28, 0.01, 0.03, 0.04, 0.02, 0.  , 0.02, 0.01, 0.02, 0.01,\n",
       "        0.01, 0.02, 0.02, 0.01, 0.02, 0.01, 0.  , 0.  , 0.04, 0.  , 0.  ,\n",
       "        0.  , 0.01, 0.01, 0.01, 0.01, 0.02, 0.  , 0.01, 0.02, 0.01],\n",
       "       [0.5 , 0.23, 0.  , 0.02, 0.04, 0.01, 0.  , 0.01, 0.01, 0.01, 0.01,\n",
       "        0.  , 0.02, 0.01, 0.01, 0.02, 0.  , 0.  , 0.  , 0.02, 0.  , 0.  ,\n",
       "        0.  , 0.  , 0.01, 0.01, 0.01, 0.02, 0.  , 0.  , 0.02, 0.01],\n",
       "       [0.48, 0.27, 0.  , 0.02, 0.03, 0.01, 0.  , 0.01, 0.01, 0.01, 0.01,\n",
       "        0.  , 0.02, 0.01, 0.  , 0.01, 0.01, 0.  , 0.  , 0.02, 0.  , 0.  ,\n",
       "        0.  , 0.  , 0.01, 0.01, 0.01, 0.01, 0.  , 0.  , 0.01, 0.01],\n",
       "       [0.32, 0.16, 0.01, 0.02, 0.04, 0.02, 0.01, 0.03, 0.01, 0.03, 0.01,\n",
       "        0.01, 0.03, 0.03, 0.01, 0.03, 0.01, 0.01, 0.  , 0.06, 0.01, 0.  ,\n",
       "        0.01, 0.01, 0.02, 0.02, 0.01, 0.04, 0.01, 0.01, 0.02, 0.02],\n",
       "       [0.63, 0.15, 0.  , 0.02, 0.03, 0.  , 0.  , 0.02, 0.01, 0.01, 0.  ,\n",
       "        0.  , 0.02, 0.01, 0.01, 0.01, 0.  , 0.  , 0.  , 0.02, 0.  , 0.  ,\n",
       "        0.  , 0.  , 0.01, 0.01, 0.01, 0.01, 0.  , 0.  , 0.01, 0.01]],\n",
       "      dtype=float32)"
      ]
     },
     "execution_count": 45,
     "metadata": {},
     "output_type": "execute_result"
    }
   ],
   "source": [
    "y_proba = model.predict(X_test)\n",
    "y_proba.round(2)"
   ]
  },
  {
   "cell_type": "code",
   "execution_count": null,
   "metadata": {},
   "outputs": [],
   "source": []
  }
 ],
 "metadata": {
  "kernelspec": {
   "display_name": "Python 3",
   "language": "python",
   "name": "python3"
  },
  "language_info": {
   "codemirror_mode": {
    "name": "ipython",
    "version": 3
   },
   "file_extension": ".py",
   "mimetype": "text/x-python",
   "name": "python",
   "nbconvert_exporter": "python",
   "pygments_lexer": "ipython3",
   "version": "3.9.7"
  }
 },
 "nbformat": 4,
 "nbformat_minor": 2
}
