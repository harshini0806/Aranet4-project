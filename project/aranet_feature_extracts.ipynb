{
 "cells": [
  {
   "cell_type": "markdown",
   "metadata": {},
   "source": [
    "# Aranet Time-series Feature Extraction\n",
    "The purpose of this notebook is to use feature extraction methods for picking our strongest regressors for predicting sequential time-series data for co2 levels.\n",
    "\n"
   ]
  },
  {
   "cell_type": "code",
   "execution_count": 1,
   "metadata": {},
   "outputs": [],
   "source": [
    "import pandas as pd\n",
    "import numpy as np\n",
    "import matplotlib.pyplot as plt\n",
    "import datetime as datetime"
   ]
  },
  {
   "cell_type": "markdown",
   "metadata": {},
   "source": [
    "# Load Data"
   ]
  },
  {
   "cell_type": "code",
   "execution_count": 2,
   "metadata": {},
   "outputs": [
    {
     "name": "stdout",
     "output_type": "stream",
     "text": [
      "Label: Chen, Number of windows: 12\n",
      "Label: Song, Number of windows: 13\n"
     ]
    }
   ],
   "source": [
    "# Load the .npz file\n",
    "loaded_data = np.load('../datasets/windows.npz', allow_pickle=True)\n",
    "\n",
    "# Convert the loaded data back to a dictionary of lists of NumPy arrays, excluding 'column_names'\n",
    "windows = {label: list(arrays) for label, arrays in loaded_data.items() if label != 'column_names'}\n",
    "\n",
    "\n",
    "for label, windows_list in windows.items():\n",
    "    print(f\"Label: {label}, Number of windows: {len(windows_list)}\")\n",
    "\n",
    "# Extract the column names\n",
    "column_names = loaded_data['column_names']\n",
    "\n",
    "# Convert the loaded data back to a dictionary of lists of DataFrames, using the column names\n",
    "windows_df = {label: [pd.DataFrame(array, columns=column_names) for array in arrays_list] \n",
    "              for label, arrays_list in loaded_data.items() if label != 'column_names'}\n",
    "\n",
    "# Loop through windows_df and set 'Datetime' as the index\n",
    "for label, windows_list in windows_df.items():\n",
    "    for i, window in enumerate(windows_list):\n",
    "        # Convert 'Datetime' to a datetime object\n",
    "        window['Datetime'] = pd.to_datetime(window['Datetime'])\n",
    "\n",
    "        # Set 'Datetime' as the index\n",
    "        windows_df[label][i] = window.set_index('Datetime')"
   ]
  },
  {
   "cell_type": "code",
   "execution_count": 3,
   "metadata": {},
   "outputs": [
    {
     "name": "stdout",
     "output_type": "stream",
     "text": [
      "['Datetime' 'co2' 'tempF' 'rhumid' 'atmpr' 'door1' 'door2' 'hvac'\n",
      " 'subject_count' 'lecturer']\n"
     ]
    }
   ],
   "source": [
    "print(column_names)"
   ]
  },
  {
   "cell_type": "code",
   "execution_count": 4,
   "metadata": {},
   "outputs": [
    {
     "name": "stdout",
     "output_type": "stream",
     "text": [
      "Label: Chen\n",
      "Window 0: (76, 10)\n",
      "Window 1: (76, 10)\n",
      "Window 2: (76, 10)\n",
      "Window 3: (76, 10)\n",
      "Window 4: (76, 10)\n",
      "Window 5: (76, 10)\n",
      "Window 6: (76, 10)\n",
      "Window 7: (76, 10)\n",
      "Window 8: (76, 10)\n",
      "Window 9: (76, 10)\n",
      "Window 10: (76, 10)\n",
      "Window 11: (76, 10)\n",
      "Label: Song\n",
      "Window 0: (76, 10)\n",
      "Window 1: (76, 10)\n",
      "Window 2: (76, 10)\n",
      "Window 3: (76, 10)\n",
      "Window 4: (76, 10)\n",
      "Window 5: (76, 10)\n",
      "Window 6: (76, 10)\n",
      "Window 7: (76, 10)\n",
      "Window 8: (76, 10)\n",
      "Window 9: (76, 10)\n",
      "Window 10: (76, 10)\n",
      "Window 11: (76, 10)\n",
      "Window 12: (76, 10)\n"
     ]
    }
   ],
   "source": [
    "# Print the shape of each DataFrame in the windows dictionary\n",
    "for label, windows_list in windows.items():\n",
    "    print(f\"Label: {label}\")\n",
    "    for i, window in enumerate(windows_list):\n",
    "        print(f\"Window {i}: {window.shape}\")\n"
   ]
  },
  {
   "cell_type": "code",
   "execution_count": 5,
   "metadata": {},
   "outputs": [
    {
     "data": {
      "text/plain": [
       "array([[Timestamp('2024-03-14 08:00:00'), 595.0, 65.8, 40.0, 1017.0, 1,\n",
       "        1, 1, 10.0, 0],\n",
       "       [Timestamp('2024-03-14 08:01:00'), 597.0, 66.4, 39.0, 1016.9, 1,\n",
       "        1, 1, 10.0, 0],\n",
       "       [Timestamp('2024-03-14 08:02:00'), 584.0, 66.8, 39.0, 1016.9, 1,\n",
       "        1, 0, 16.0, 0],\n",
       "       [Timestamp('2024-03-14 08:03:00'), 611.0, 67.2, 39.0, 1017.0, 1,\n",
       "        1, 0, 16.0, 0],\n",
       "       [Timestamp('2024-03-14 08:04:00'), 577.0, 67.5, 39.0, 1017.0, 1,\n",
       "        1, 0, 16.0, 0],\n",
       "       [Timestamp('2024-03-14 08:05:00'), 587.0, 67.8, 39.0, 1016.9, 1,\n",
       "        1, 0, 16.0, 0],\n",
       "       [Timestamp('2024-03-14 08:06:00'), 596.0, 67.9, 38.0, 1017.0, 1,\n",
       "        1, 0, 16.0, 0],\n",
       "       [Timestamp('2024-03-14 08:07:00'), 577.0, 68.2, 38.0, 1017.0, 1,\n",
       "        1, 0, 16.0, 0],\n",
       "       [Timestamp('2024-03-14 08:08:00'), 586.0, 68.4, 38.0, 1017.0, 1,\n",
       "        1, 0, 18.0, 0],\n",
       "       [Timestamp('2024-03-14 08:09:00'), 588.0, 68.5, 38.0, 1017.1, 1,\n",
       "        1, 0, 18.0, 0],\n",
       "       [Timestamp('2024-03-14 08:10:00'), 587.0, 68.5, 38.0, 1017.1, 1,\n",
       "        1, 0, 18.0, 0],\n",
       "       [Timestamp('2024-03-14 08:11:00'), 599.0, 68.6, 37.0, 1017.2, 1,\n",
       "        1, 0, 18.0, 0],\n",
       "       [Timestamp('2024-03-14 08:12:00'), 616.0, 68.7, 37.0, 1017.2, 1,\n",
       "        1, 0, 18.0, 0],\n",
       "       [Timestamp('2024-03-14 08:13:00'), 596.0, 68.9, 37.0, 1017.2, 1,\n",
       "        1, 0, 18.0, 0],\n",
       "       [Timestamp('2024-03-14 08:14:00'), 594.0, 68.9, 37.0, 1017.1, 1,\n",
       "        1, 0, 18.0, 0],\n",
       "       [Timestamp('2024-03-14 08:15:00'), 612.0, 69.0, 37.0, 1017.2, 1,\n",
       "        1, 0, 18.0, 0],\n",
       "       [Timestamp('2024-03-14 08:16:00'), 619.0, 69.0, 37.0, 1017.3, 1,\n",
       "        1, 0, 18.0, 0],\n",
       "       [Timestamp('2024-03-14 08:17:00'), 615.0, 69.1, 37.0, 1017.2, 1,\n",
       "        1, 0, 18.0, 0],\n",
       "       [Timestamp('2024-03-14 08:18:00'), 629.0, 69.1, 37.0, 1017.2, 1,\n",
       "        1, 1, 18.0, 0],\n",
       "       [Timestamp('2024-03-14 08:19:00'), 620.0, 69.3, 37.0, 1017.4, 1,\n",
       "        1, 1, 18.0, 0],\n",
       "       [Timestamp('2024-03-14 08:20:00'), 635.0, 69.3, 37.0, 1017.2, 1,\n",
       "        1, 1, 18.0, 0],\n",
       "       [Timestamp('2024-03-14 08:21:00'), 630.0, 69.3, 36.0, 1017.1, 1,\n",
       "        1, 1, 18.0, 0],\n",
       "       [Timestamp('2024-03-14 08:22:00'), 626.0, 69.4, 36.0, 1017.1, 1,\n",
       "        1, 1, 18.0, 0],\n",
       "       [Timestamp('2024-03-14 08:23:00'), 626.0, 69.5, 36.0, 1017.1, 1,\n",
       "        1, 1, 18.0, 0],\n",
       "       [Timestamp('2024-03-14 08:24:00'), 608.0, 69.5, 36.0, 1017.2, 1,\n",
       "        1, 1, 18.0, 0],\n",
       "       [Timestamp('2024-03-14 08:25:00'), 636.0, 69.6, 36.0, 1017.2, 1,\n",
       "        1, 1, 18.0, 0],\n",
       "       [Timestamp('2024-03-14 08:26:00'), 615.0, 69.7, 36.0, 1017.1, 1,\n",
       "        1, 1, 18.0, 0],\n",
       "       [Timestamp('2024-03-14 08:27:00'), 600.0, 69.8, 36.0, 1017.2, 1,\n",
       "        1, 1, 18.0, 0],\n",
       "       [Timestamp('2024-03-14 08:28:00'), 613.0, 69.8, 36.0, 1017.2, 1,\n",
       "        1, 1, 18.0, 0],\n",
       "       [Timestamp('2024-03-14 08:29:00'), 611.0, 70.0, 36.0, 1017.3, 1,\n",
       "        1, 0, 18.0, 0],\n",
       "       [Timestamp('2024-03-14 08:30:00'), 622.0, 70.0, 36.0, 1017.3, 1,\n",
       "        1, 0, 18.0, 0],\n",
       "       [Timestamp('2024-03-14 08:31:00'), 593.0, 70.0, 35.0, 1017.3, 1,\n",
       "        1, 0, 18.0, 0],\n",
       "       [Timestamp('2024-03-14 08:32:00'), 618.0, 70.0, 35.0, 1017.3, 1,\n",
       "        1, 0, 18.0, 0],\n",
       "       [Timestamp('2024-03-14 08:33:00'), 607.0, 70.0, 35.0, 1017.3, 1,\n",
       "        1, 0, 18.0, 0],\n",
       "       [Timestamp('2024-03-14 08:34:00'), 623.0, 70.0, 35.0, 1017.3, 1,\n",
       "        1, 0, 18.0, 0],\n",
       "       [Timestamp('2024-03-14 08:35:00'), 627.0, 70.1, 35.0, 1017.3, 1,\n",
       "        1, 0, 18.0, 0],\n",
       "       [Timestamp('2024-03-14 08:36:00'), 644.0, 70.0, 35.0, 1017.4, 1,\n",
       "        1, 0, 18.0, 0],\n",
       "       [Timestamp('2024-03-14 08:37:00'), 627.0, 70.1, 35.0, 1017.4, 1,\n",
       "        1, 0, 18.0, 0],\n",
       "       [Timestamp('2024-03-14 08:38:00'), 643.0, 70.0, 35.0, 1017.4, 1,\n",
       "        1, 0, 18.0, 0],\n",
       "       [Timestamp('2024-03-14 08:39:00'), 647.0, 70.1, 35.0, 1017.4, 1,\n",
       "        1, 0, 18.0, 0],\n",
       "       [Timestamp('2024-03-14 08:40:00'), 655.0, 70.1, 35.0, 1017.4, 1,\n",
       "        1, 0, 18.0, 0],\n",
       "       [Timestamp('2024-03-14 08:41:00'), 636.0, 70.1, 35.0, 1017.5, 1,\n",
       "        1, 0, 18.0, 0],\n",
       "       [Timestamp('2024-03-14 08:42:00'), 634.0, 70.1, 35.0, 1017.4, 1,\n",
       "        1, 0, 18.0, 0],\n",
       "       [Timestamp('2024-03-14 08:43:00'), 625.0, 70.0, 35.0, 1017.4, 1,\n",
       "        1, 0, 18.0, 0],\n",
       "       [Timestamp('2024-03-14 08:44:00'), 640.0, 70.1, 35.0, 1017.4, 1,\n",
       "        1, 1, 18.0, 0],\n",
       "       [Timestamp('2024-03-14 08:45:00'), 642.0, 70.1, 35.0, 1017.4, 1,\n",
       "        1, 1, 18.0, 0],\n",
       "       [Timestamp('2024-03-14 08:46:00'), 644.0, 70.1, 35.0, 1017.4, 1,\n",
       "        1, 1, 18.0, 0],\n",
       "       [Timestamp('2024-03-14 08:47:00'), 638.0, 70.2, 35.0, 1017.4, 1,\n",
       "        1, 1, 18.0, 0],\n",
       "       [Timestamp('2024-03-14 08:48:00'), 623.0, 70.3, 35.0, 1017.4, 1,\n",
       "        1, 1, 18.0, 0],\n",
       "       [Timestamp('2024-03-14 08:49:00'), 659.0, 70.3, 35.0, 1017.4, 1,\n",
       "        1, 0, 18.0, 0],\n",
       "       [Timestamp('2024-03-14 08:50:00'), 667.0, 70.3, 35.0, 1017.4, 1,\n",
       "        1, 0, 18.0, 0],\n",
       "       [Timestamp('2024-03-14 08:51:00'), 638.0, 70.3, 35.0, 1017.4, 1,\n",
       "        1, 0, 18.0, 0],\n",
       "       [Timestamp('2024-03-14 08:52:00'), 639.0, 70.4, 35.0, 1017.4, 1,\n",
       "        1, 0, 18.0, 0],\n",
       "       [Timestamp('2024-03-14 08:53:00'), 628.0, 70.4, 35.0, 1017.4, 1,\n",
       "        1, 0, 18.0, 0],\n",
       "       [Timestamp('2024-03-14 08:54:00'), 643.0, 70.4, 35.0, 1017.4, 1,\n",
       "        1, 0, 18.0, 0],\n",
       "       [Timestamp('2024-03-14 08:55:00'), 649.0, 70.5, 35.0, 1017.4, 1,\n",
       "        1, 0, 18.0, 0],\n",
       "       [Timestamp('2024-03-14 08:56:00'), 639.0, 70.4, 35.0, 1017.4, 1,\n",
       "        1, 0, 18.0, 0],\n",
       "       [Timestamp('2024-03-14 08:57:00'), 652.0, 70.4, 35.0, 1017.4, 1,\n",
       "        1, 0, 18.0, 0],\n",
       "       [Timestamp('2024-03-14 08:58:00'), 659.0, 70.4, 35.0, 1017.4, 1,\n",
       "        1, 0, 18.0, 0],\n",
       "       [Timestamp('2024-03-14 08:59:00'), 668.0, 70.4, 35.0, 1017.3, 1,\n",
       "        1, 0, 18.0, 0],\n",
       "       [Timestamp('2024-03-14 09:00:00'), 675.0, 70.4, 35.0, 1017.4, 1,\n",
       "        1, 0, 18.0, 0],\n",
       "       [Timestamp('2024-03-14 09:01:00'), 644.0, 70.4, 34.0, 1017.3, 1,\n",
       "        1, 0, 18.0, 0],\n",
       "       [Timestamp('2024-03-14 09:02:00'), 653.0, 70.4, 34.0, 1017.4, 1,\n",
       "        1, 0, 18.0, 0],\n",
       "       [Timestamp('2024-03-14 09:03:00'), 680.0, 70.4, 34.0, 1017.4, 1,\n",
       "        1, 0, 18.0, 0],\n",
       "       [Timestamp('2024-03-14 09:04:00'), 654.0, 70.4, 34.0, 1017.4, 1,\n",
       "        1, 1, 18.0, 0],\n",
       "       [Timestamp('2024-03-14 09:05:00'), 667.0, 70.4, 34.0, 1017.3, 1,\n",
       "        1, 1, 18.0, 0],\n",
       "       [Timestamp('2024-03-14 09:06:00'), 664.0, 70.6, 35.0, 1017.4, 1,\n",
       "        1, 1, 18.0, 0],\n",
       "       [Timestamp('2024-03-14 09:07:00'), 655.0, 70.9, 35.0, 1017.4, 1,\n",
       "        1, 1, 18.0, 0],\n",
       "       [Timestamp('2024-03-14 09:08:00'), 665.0, 71.1, 36.0, 1017.4, 1,\n",
       "        1, 1, 18.0, 0],\n",
       "       [Timestamp('2024-03-14 09:09:00'), 631.0, 71.2, 36.0, 1017.3, 1,\n",
       "        1, 1, 18.0, 0],\n",
       "       [Timestamp('2024-03-14 09:10:00'), 577.0, 71.5, 36.0, 1017.3, 1,\n",
       "        1, 1, 18.0, 0],\n",
       "       [Timestamp('2024-03-14 09:11:00'), 543.0, 71.9, 37.0, 1017.5, 1,\n",
       "        1, 1, 18.0, 0],\n",
       "       [Timestamp('2024-03-14 09:12:00'), 545.0, 72.1, 36.0, 1017.5, 1,\n",
       "        1, 1, 18.0, 0],\n",
       "       [Timestamp('2024-03-14 09:13:00'), 540.0, 72.4, 37.0, 1017.5, 1,\n",
       "        1, 1, 18.0, 0],\n",
       "       [Timestamp('2024-03-14 09:14:00'), 515.0, 72.9, 37.0, 1017.5, 1,\n",
       "        1, 1, 18.0, 0],\n",
       "       [Timestamp('2024-03-14 09:15:00'), 518.0, 73.2, 37.0, 1017.5, 1,\n",
       "        1, 1, 18.0, 0]], dtype=object)"
      ]
     },
     "execution_count": 5,
     "metadata": {},
     "output_type": "execute_result"
    }
   ],
   "source": [
    "windows['Chen'][0][:]"
   ]
  },
  {
   "cell_type": "code",
   "execution_count": 6,
   "metadata": {},
   "outputs": [
    {
     "name": "stdout",
     "output_type": "stream",
     "text": [
      "<class 'pandas.core.frame.DataFrame'>\n",
      "DatetimeIndex: 76 entries, 2024-03-14 08:00:00 to 2024-03-14 09:15:00\n",
      "Data columns (total 9 columns):\n",
      " #   Column         Non-Null Count  Dtype \n",
      "---  ------         --------------  ----- \n",
      " 0   co2            76 non-null     object\n",
      " 1   tempF          76 non-null     object\n",
      " 2   rhumid         76 non-null     object\n",
      " 3   atmpr          76 non-null     object\n",
      " 4   door1          76 non-null     object\n",
      " 5   door2          76 non-null     object\n",
      " 6   hvac           76 non-null     object\n",
      " 7   subject_count  76 non-null     object\n",
      " 8   lecturer       76 non-null     object\n",
      "dtypes: object(9)\n",
      "memory usage: 5.9+ KB\n"
     ]
    }
   ],
   "source": [
    "windows_df['Chen'][0].info()"
   ]
  },
  {
   "cell_type": "markdown",
   "metadata": {},
   "source": [
    "# Numpy Tensor"
   ]
  },
  {
   "cell_type": "code",
   "execution_count": 7,
   "metadata": {},
   "outputs": [
    {
     "name": "stdout",
     "output_type": "stream",
     "text": [
      "Shape of X: (25, 76, 10)\n",
      "Shape of y: (25,)\n"
     ]
    }
   ],
   "source": [
    "# Initialize a list to store the 3D arrays and labels\n",
    "X_list = []\n",
    "y_list = []\n",
    "\n",
    "for label, windows_list in windows.items():\n",
    "    for window in windows_list:\n",
    "        # Convert each DataFrame to a NumPy array and append to the list\n",
    "        X_list.append(window)\n",
    "        # Append the corresponding label to the label list\n",
    "        y_list.append(label)\n",
    "\n",
    "# Convert the list of 3D arrays to a single 3D array (tensor)\n",
    "X = np.array(X_list)\n",
    "\n",
    "# Convert the label list to a NumPy array\n",
    "y = np.array(y_list)\n",
    "\n",
    "# Print the shapes of the resulting arrays\n",
    "print(f\"Shape of X: {X.shape}\")\n",
    "print(f\"Shape of y: {y.shape}\")\n"
   ]
  },
  {
   "cell_type": "code",
   "execution_count": 8,
   "metadata": {},
   "outputs": [
    {
     "name": "stdout",
     "output_type": "stream",
     "text": [
      "New shape of X: (25, 76, 8)\n"
     ]
    }
   ],
   "source": [
    "# Drop the first and the last columns from the 3D array X\n",
    "X = X[:, :, 1:-1]\n",
    "\n",
    "# Verify the new shape of X\n",
    "print(f\"New shape of X: {X.shape}\")\n",
    "\n"
   ]
  },
  {
   "cell_type": "code",
   "execution_count": 9,
   "metadata": {},
   "outputs": [
    {
     "name": "stdout",
     "output_type": "stream",
     "text": [
      "Reshaped X to: (1900, 8)\n",
      "Reshaped back to original shape: (25, 76, 8)\n"
     ]
    }
   ],
   "source": [
    "X_reshaped = X.reshape(-1, X.shape[-1])\n",
    "print(f\"Reshaped X to: {X_reshaped.shape}\")\n",
    "X_original_shape = X_reshaped.reshape(X.shape)\n",
    "print(f\"Reshaped back to original shape: {X_original_shape.shape}\")\n"
   ]
  },
  {
   "cell_type": "code",
   "execution_count": 10,
   "metadata": {},
   "outputs": [
    {
     "data": {
      "text/plain": [
       "array(['Chen', 'Chen', 'Chen', 'Chen', 'Chen', 'Chen', 'Chen', 'Chen',\n",
       "       'Chen', 'Chen', 'Chen', 'Chen', 'Song', 'Song', 'Song', 'Song',\n",
       "       'Song', 'Song', 'Song', 'Song', 'Song', 'Song', 'Song', 'Song',\n",
       "       'Song'], dtype='<U4')"
      ]
     },
     "execution_count": 10,
     "metadata": {},
     "output_type": "execute_result"
    }
   ],
   "source": [
    "y"
   ]
  },
  {
   "cell_type": "code",
   "execution_count": 11,
   "metadata": {},
   "outputs": [
    {
     "data": {
      "text/plain": [
       "('Chen',\n",
       " array([[595.0, 65.8, 40.0, 1017.0, 1, 1, 1, 10.0],\n",
       "        [597.0, 66.4, 39.0, 1016.9, 1, 1, 1, 10.0],\n",
       "        [584.0, 66.8, 39.0, 1016.9, 1, 1, 0, 16.0],\n",
       "        [611.0, 67.2, 39.0, 1017.0, 1, 1, 0, 16.0],\n",
       "        [577.0, 67.5, 39.0, 1017.0, 1, 1, 0, 16.0],\n",
       "        [587.0, 67.8, 39.0, 1016.9, 1, 1, 0, 16.0],\n",
       "        [596.0, 67.9, 38.0, 1017.0, 1, 1, 0, 16.0],\n",
       "        [577.0, 68.2, 38.0, 1017.0, 1, 1, 0, 16.0],\n",
       "        [586.0, 68.4, 38.0, 1017.0, 1, 1, 0, 18.0],\n",
       "        [588.0, 68.5, 38.0, 1017.1, 1, 1, 0, 18.0],\n",
       "        [587.0, 68.5, 38.0, 1017.1, 1, 1, 0, 18.0],\n",
       "        [599.0, 68.6, 37.0, 1017.2, 1, 1, 0, 18.0],\n",
       "        [616.0, 68.7, 37.0, 1017.2, 1, 1, 0, 18.0],\n",
       "        [596.0, 68.9, 37.0, 1017.2, 1, 1, 0, 18.0],\n",
       "        [594.0, 68.9, 37.0, 1017.1, 1, 1, 0, 18.0],\n",
       "        [612.0, 69.0, 37.0, 1017.2, 1, 1, 0, 18.0],\n",
       "        [619.0, 69.0, 37.0, 1017.3, 1, 1, 0, 18.0],\n",
       "        [615.0, 69.1, 37.0, 1017.2, 1, 1, 0, 18.0],\n",
       "        [629.0, 69.1, 37.0, 1017.2, 1, 1, 1, 18.0],\n",
       "        [620.0, 69.3, 37.0, 1017.4, 1, 1, 1, 18.0],\n",
       "        [635.0, 69.3, 37.0, 1017.2, 1, 1, 1, 18.0],\n",
       "        [630.0, 69.3, 36.0, 1017.1, 1, 1, 1, 18.0],\n",
       "        [626.0, 69.4, 36.0, 1017.1, 1, 1, 1, 18.0],\n",
       "        [626.0, 69.5, 36.0, 1017.1, 1, 1, 1, 18.0],\n",
       "        [608.0, 69.5, 36.0, 1017.2, 1, 1, 1, 18.0],\n",
       "        [636.0, 69.6, 36.0, 1017.2, 1, 1, 1, 18.0],\n",
       "        [615.0, 69.7, 36.0, 1017.1, 1, 1, 1, 18.0],\n",
       "        [600.0, 69.8, 36.0, 1017.2, 1, 1, 1, 18.0],\n",
       "        [613.0, 69.8, 36.0, 1017.2, 1, 1, 1, 18.0],\n",
       "        [611.0, 70.0, 36.0, 1017.3, 1, 1, 0, 18.0],\n",
       "        [622.0, 70.0, 36.0, 1017.3, 1, 1, 0, 18.0],\n",
       "        [593.0, 70.0, 35.0, 1017.3, 1, 1, 0, 18.0],\n",
       "        [618.0, 70.0, 35.0, 1017.3, 1, 1, 0, 18.0],\n",
       "        [607.0, 70.0, 35.0, 1017.3, 1, 1, 0, 18.0],\n",
       "        [623.0, 70.0, 35.0, 1017.3, 1, 1, 0, 18.0],\n",
       "        [627.0, 70.1, 35.0, 1017.3, 1, 1, 0, 18.0],\n",
       "        [644.0, 70.0, 35.0, 1017.4, 1, 1, 0, 18.0],\n",
       "        [627.0, 70.1, 35.0, 1017.4, 1, 1, 0, 18.0],\n",
       "        [643.0, 70.0, 35.0, 1017.4, 1, 1, 0, 18.0],\n",
       "        [647.0, 70.1, 35.0, 1017.4, 1, 1, 0, 18.0],\n",
       "        [655.0, 70.1, 35.0, 1017.4, 1, 1, 0, 18.0],\n",
       "        [636.0, 70.1, 35.0, 1017.5, 1, 1, 0, 18.0],\n",
       "        [634.0, 70.1, 35.0, 1017.4, 1, 1, 0, 18.0],\n",
       "        [625.0, 70.0, 35.0, 1017.4, 1, 1, 0, 18.0],\n",
       "        [640.0, 70.1, 35.0, 1017.4, 1, 1, 1, 18.0],\n",
       "        [642.0, 70.1, 35.0, 1017.4, 1, 1, 1, 18.0],\n",
       "        [644.0, 70.1, 35.0, 1017.4, 1, 1, 1, 18.0],\n",
       "        [638.0, 70.2, 35.0, 1017.4, 1, 1, 1, 18.0],\n",
       "        [623.0, 70.3, 35.0, 1017.4, 1, 1, 1, 18.0],\n",
       "        [659.0, 70.3, 35.0, 1017.4, 1, 1, 0, 18.0],\n",
       "        [667.0, 70.3, 35.0, 1017.4, 1, 1, 0, 18.0],\n",
       "        [638.0, 70.3, 35.0, 1017.4, 1, 1, 0, 18.0],\n",
       "        [639.0, 70.4, 35.0, 1017.4, 1, 1, 0, 18.0],\n",
       "        [628.0, 70.4, 35.0, 1017.4, 1, 1, 0, 18.0],\n",
       "        [643.0, 70.4, 35.0, 1017.4, 1, 1, 0, 18.0],\n",
       "        [649.0, 70.5, 35.0, 1017.4, 1, 1, 0, 18.0],\n",
       "        [639.0, 70.4, 35.0, 1017.4, 1, 1, 0, 18.0],\n",
       "        [652.0, 70.4, 35.0, 1017.4, 1, 1, 0, 18.0],\n",
       "        [659.0, 70.4, 35.0, 1017.4, 1, 1, 0, 18.0],\n",
       "        [668.0, 70.4, 35.0, 1017.3, 1, 1, 0, 18.0],\n",
       "        [675.0, 70.4, 35.0, 1017.4, 1, 1, 0, 18.0],\n",
       "        [644.0, 70.4, 34.0, 1017.3, 1, 1, 0, 18.0],\n",
       "        [653.0, 70.4, 34.0, 1017.4, 1, 1, 0, 18.0],\n",
       "        [680.0, 70.4, 34.0, 1017.4, 1, 1, 0, 18.0],\n",
       "        [654.0, 70.4, 34.0, 1017.4, 1, 1, 1, 18.0],\n",
       "        [667.0, 70.4, 34.0, 1017.3, 1, 1, 1, 18.0],\n",
       "        [664.0, 70.6, 35.0, 1017.4, 1, 1, 1, 18.0],\n",
       "        [655.0, 70.9, 35.0, 1017.4, 1, 1, 1, 18.0],\n",
       "        [665.0, 71.1, 36.0, 1017.4, 1, 1, 1, 18.0],\n",
       "        [631.0, 71.2, 36.0, 1017.3, 1, 1, 1, 18.0],\n",
       "        [577.0, 71.5, 36.0, 1017.3, 1, 1, 1, 18.0],\n",
       "        [543.0, 71.9, 37.0, 1017.5, 1, 1, 1, 18.0],\n",
       "        [545.0, 72.1, 36.0, 1017.5, 1, 1, 1, 18.0],\n",
       "        [540.0, 72.4, 37.0, 1017.5, 1, 1, 1, 18.0],\n",
       "        [515.0, 72.9, 37.0, 1017.5, 1, 1, 1, 18.0],\n",
       "        [518.0, 73.2, 37.0, 1017.5, 1, 1, 1, 18.0]], dtype=object))"
      ]
     },
     "execution_count": 11,
     "metadata": {},
     "output_type": "execute_result"
    }
   ],
   "source": [
    "y[0],X[0]"
   ]
  },
  {
   "cell_type": "markdown",
   "metadata": {},
   "source": [
    "## Sequential Classifier\n",
    "\n",
    "Note that adding features such as moving averages was an easy way to increase the metrics of this model. We should discuss it further.\n",
    "\n",
    "Test-train-split"
   ]
  },
  {
   "cell_type": "code",
   "execution_count": 12,
   "metadata": {},
   "outputs": [
    {
     "name": "stdout",
     "output_type": "stream",
     "text": [
      "X_train shape: (19, 76, 8)\n",
      "y_train shape: (19,)\n",
      "X_test shape: (6, 76, 8)\n",
      "y_test shape: (6,)\n"
     ]
    }
   ],
   "source": [
    "from sklearn.model_selection import train_test_split\n",
    "from sklearn.preprocessing import StandardScaler\n",
    "\n",
    "\n",
    "X = X.astype(np.float64)\n",
    "# Encode labels: 'Song' as 1, 'Chen' as 0\n",
    "y = np.array([1 if label == 'Song' else 0 for label in y])\n",
    "# Scale the features using StandardScaler\n",
    "\n",
    "# Reshape X to 2D array\n",
    "X_2d = X.reshape(-1, X.shape[-1])\n",
    "\n",
    "# Scale the features using StandardScaler\n",
    "scaler = StandardScaler()\n",
    "X_scaled = scaler.fit_transform(X_2d)\n",
    "\n",
    "# Reshape X_scaled back to 3D array\n",
    "X_scaled_3d = X_scaled.reshape(X.shape[0], X.shape[1], X.shape[2])\n",
    "\n",
    "# Split into training and test/validation sets\n",
    "X_train, X_test, y_train, y_test = train_test_split(X_scaled_3d, y, test_size=6, random_state=42, stratify=y)\n",
    "\n",
    "print(\"X_train shape:\", X_train.shape)\n",
    "print(\"y_train shape:\", y_train.shape)\n",
    "print(\"X_test shape:\", X_test.shape)\n",
    "print(\"y_test shape:\", y_test.shape)\n"
   ]
  },
  {
   "cell_type": "code",
   "execution_count": 13,
   "metadata": {},
   "outputs": [
    {
     "name": "stdout",
     "output_type": "stream",
     "text": [
      "WARNING:tensorflow:From C:\\Users\\Corey Dearing\\AppData\\Roaming\\Python\\Python39\\site-packages\\keras\\src\\losses.py:2976: The name tf.losses.sparse_softmax_cross_entropy is deprecated. Please use tf.compat.v1.losses.sparse_softmax_cross_entropy instead.\n",
      "\n",
      "WARNING:tensorflow:From C:\\Users\\Corey Dearing\\AppData\\Roaming\\Python\\Python39\\site-packages\\keras\\src\\backend.py:873: The name tf.get_default_graph is deprecated. Please use tf.compat.v1.get_default_graph instead.\n",
      "\n"
     ]
    }
   ],
   "source": [
    "import tensorflow as tf\n",
    "\n",
    "tf.random.set_seed(42)\n",
    "model = tf.keras.Sequential()\n",
    "model.add(tf.keras.layers.Input(shape=[76,8]))\n",
    "model.add(tf.keras.layers.Flatten())\n",
    "model.add(tf.keras.layers.Dense(128, activation='relu'))\n",
    "model.add(tf.keras.layers.Dense(64, activation='relu'))\n",
    "model.add(tf.keras.layers.Dense(32, activation='softmax'))"
   ]
  },
  {
   "cell_type": "code",
   "execution_count": 14,
   "metadata": {},
   "outputs": [
    {
     "name": "stdout",
     "output_type": "stream",
     "text": [
      "Model: \"sequential\"\n",
      "_________________________________________________________________\n",
      " Layer (type)                Output Shape              Param #   \n",
      "=================================================================\n",
      " flatten (Flatten)           (None, 608)               0         \n",
      "                                                                 \n",
      " dense (Dense)               (None, 128)               77952     \n",
      "                                                                 \n",
      " dense_1 (Dense)             (None, 64)                8256      \n",
      "                                                                 \n",
      " dense_2 (Dense)             (None, 32)                2080      \n",
      "                                                                 \n",
      "=================================================================\n",
      "Total params: 88288 (344.88 KB)\n",
      "Trainable params: 88288 (344.88 KB)\n",
      "Non-trainable params: 0 (0.00 Byte)\n",
      "_________________________________________________________________\n"
     ]
    }
   ],
   "source": [
    "model.summary()"
   ]
  },
  {
   "cell_type": "code",
   "execution_count": 15,
   "metadata": {},
   "outputs": [
    {
     "name": "stdout",
     "output_type": "stream",
     "text": [
      "WARNING:tensorflow:From C:\\Users\\Corey Dearing\\AppData\\Roaming\\Python\\Python39\\site-packages\\keras\\src\\optimizers\\__init__.py:309: The name tf.train.Optimizer is deprecated. Please use tf.compat.v1.train.Optimizer instead.\n",
      "\n"
     ]
    },
    {
     "name": "stdout",
     "output_type": "stream",
     "text": [
      "Epoch 1/7\n",
      "WARNING:tensorflow:From C:\\Users\\Corey Dearing\\AppData\\Roaming\\Python\\Python39\\site-packages\\keras\\src\\utils\\tf_utils.py:492: The name tf.ragged.RaggedTensorValue is deprecated. Please use tf.compat.v1.ragged.RaggedTensorValue instead.\n",
      "\n",
      "WARNING:tensorflow:From C:\\Users\\Corey Dearing\\AppData\\Roaming\\Python\\Python39\\site-packages\\keras\\src\\engine\\base_layer_utils.py:384: The name tf.executing_eagerly_outside_functions is deprecated. Please use tf.compat.v1.executing_eagerly_outside_functions instead.\n",
      "\n",
      "1/1 [==============================] - 1s 580ms/step - loss: 3.4306 - accuracy: 0.0000e+00 - val_loss: 3.3642 - val_accuracy: 0.0000e+00\n",
      "Epoch 2/7\n",
      "1/1 [==============================] - 0s 22ms/step - loss: 2.9864 - accuracy: 0.0526 - val_loss: 3.1036 - val_accuracy: 0.1667\n",
      "Epoch 3/7\n",
      "1/1 [==============================] - 0s 20ms/step - loss: 2.5893 - accuracy: 0.2105 - val_loss: 2.8599 - val_accuracy: 0.1667\n",
      "Epoch 4/7\n",
      "1/1 [==============================] - 0s 19ms/step - loss: 2.2216 - accuracy: 0.5263 - val_loss: 2.6366 - val_accuracy: 0.5000\n",
      "Epoch 5/7\n",
      "1/1 [==============================] - 0s 21ms/step - loss: 1.8936 - accuracy: 0.6316 - val_loss: 2.4422 - val_accuracy: 0.6667\n",
      "Epoch 6/7\n",
      "1/1 [==============================] - 0s 22ms/step - loss: 1.6061 - accuracy: 0.7895 - val_loss: 2.2696 - val_accuracy: 0.6667\n",
      "Epoch 7/7\n",
      "1/1 [==============================] - 0s 20ms/step - loss: 1.3599 - accuracy: 0.7895 - val_loss: 2.1227 - val_accuracy: 0.8333\n"
     ]
    }
   ],
   "source": [
    "model.compile(loss='sparse_categorical_crossentropy', \n",
    "              optimizer='sgd',\n",
    "              metrics=['accuracy'])\n",
    "\n",
    "history = model.fit(X_train, y_train, epochs=7, validation_data=(X_test, y_test))"
   ]
  },
  {
   "cell_type": "code",
   "execution_count": 16,
   "metadata": {},
   "outputs": [
    {
     "data": {
      "image/png": "[encoded data removed]",
      "text/plain": [
       "<Figure size 800x500 with 1 Axes>"
      ]
     },
     "metadata": {},
     "output_type": "display_data"
    }
   ],
   "source": [
    "pd.DataFrame(history.history).plot(\n",
    "    figsize=(8, 5),\n",
    "    xlim=[0, 15], ylim=[0, 1], xlabel='Epochs', grid=True,\n",
    "    style=['r', 'r--', 'b', 'b-*'])\n",
    "plt.show()"
   ]
  },
  {
   "cell_type": "code",
   "execution_count": 17,
   "metadata": {},
   "outputs": [
    {
     "name": "stdout",
     "output_type": "stream",
     "text": [
      "1/1 [==============================] - 0s 17ms/step - loss: 2.1227 - accuracy: 0.8333\n"
     ]
    },
    {
     "data": {
      "text/plain": [
       "[2.1227006912231445, 0.8333333134651184]"
      ]
     },
     "execution_count": 17,
     "metadata": {},
     "output_type": "execute_result"
    }
   ],
   "source": [
    "model.evaluate(X_test, y_test)"
   ]
  },
  {
   "cell_type": "code",
   "execution_count": 18,
   "metadata": {},
   "outputs": [
    {
     "name": "stdout",
     "output_type": "stream",
     "text": [
      "1/1 [==============================] - 0s 64ms/step\n"
     ]
    },
    {
     "data": {
      "text/plain": [
       "array([[0.11, 0.06, 0.01, 0.03, 0.02, 0.03, 0.02, 0.03, 0.03, 0.01, 0.02,\n",
       "        0.01, 0.01, 0.02, 0.03, 0.02, 0.05, 0.03, 0.02, 0.02, 0.02, 0.02,\n",
       "        0.02, 0.04, 0.03, 0.09, 0.02, 0.03, 0.02, 0.02, 0.02, 0.1 ],\n",
       "       [0.06, 0.1 , 0.02, 0.02, 0.02, 0.05, 0.03, 0.06, 0.02, 0.01, 0.05,\n",
       "        0.01, 0.02, 0.02, 0.03, 0.03, 0.05, 0.03, 0.01, 0.02, 0.02, 0.02,\n",
       "        0.03, 0.06, 0.04, 0.07, 0.02, 0.01, 0.02, 0.02, 0.03, 0.03],\n",
       "       [0.02, 0.58, 0.  , 0.01, 0.01, 0.01, 0.01, 0.01, 0.01, 0.  , 0.02,\n",
       "        0.  , 0.  , 0.02, 0.03, 0.01, 0.02, 0.01, 0.  , 0.02, 0.03, 0.  ,\n",
       "        0.01, 0.06, 0.03, 0.02, 0.01, 0.  , 0.  , 0.  , 0.02, 0.01],\n",
       "       [0.06, 0.12, 0.01, 0.04, 0.01, 0.04, 0.04, 0.03, 0.01, 0.01, 0.05,\n",
       "        0.01, 0.01, 0.02, 0.02, 0.02, 0.05, 0.04, 0.02, 0.05, 0.01, 0.02,\n",
       "        0.04, 0.02, 0.03, 0.03, 0.03, 0.01, 0.01, 0.03, 0.03, 0.07],\n",
       "       [0.22, 0.11, 0.01, 0.03, 0.  , 0.04, 0.02, 0.01, 0.01, 0.01, 0.06,\n",
       "        0.01, 0.01, 0.02, 0.02, 0.04, 0.03, 0.04, 0.01, 0.05, 0.  , 0.01,\n",
       "        0.03, 0.04, 0.02, 0.04, 0.02, 0.01, 0.  , 0.01, 0.01, 0.05],\n",
       "       [0.02, 0.2 , 0.  , 0.03, 0.  , 0.04, 0.05, 0.01, 0.03, 0.01, 0.04,\n",
       "        0.01, 0.01, 0.02, 0.04, 0.01, 0.02, 0.01, 0.  , 0.13, 0.03, 0.  ,\n",
       "        0.05, 0.12, 0.02, 0.02, 0.02, 0.01, 0.01, 0.01, 0.02, 0.02]],\n",
       "      dtype=float32)"
      ]
     },
     "execution_count": 18,
     "metadata": {},
     "output_type": "execute_result"
    }
   ],
   "source": [
    "y_proba = model.predict(X_test)\n",
    "y_proba.round(2)"
   ]
  },
  {
   "cell_type": "code",
   "execution_count": 19,
   "metadata": {},
   "outputs": [
    {
     "data": {
      "text/plain": [
       "(array([0, 1, 1, 1, 0, 1], dtype=int64), array([0, 1, 1, 1, 0, 0]))"
      ]
     },
     "execution_count": 19,
     "metadata": {},
     "output_type": "execute_result"
    }
   ],
   "source": [
    "y_pred = np.argmax(y_proba, axis=1)\n",
    "y_pred, y_test"
   ]
  },
  {
   "cell_type": "code",
   "execution_count": 20,
   "metadata": {},
   "outputs": [
    {
     "name": "stdout",
     "output_type": "stream",
     "text": [
      "Accuracy: 0.8333\n",
      "Precision: 0.8750\n",
      "Recall: 0.8333\n",
      "F1-score: 0.8286\n"
     ]
    }
   ],
   "source": [
    "from sklearn.metrics import accuracy_score, precision_score, recall_score, f1_score\n",
    "\n",
    "def evaluate_classification(y_true, y_pred, average='macro'):\n",
    "    # Calculate metrics\n",
    "    accuracy = accuracy_score(y_true, y_pred)\n",
    "    precision = precision_score(y_true, y_pred, average=average)\n",
    "    recall = recall_score(y_true, y_pred, average=average)\n",
    "    f1 = f1_score(y_true, y_pred, average=average)\n",
    "    \n",
    "    # Print metrics\n",
    "    print(f\"Accuracy: {accuracy:.4f}\")\n",
    "    print(f\"Precision: {precision:.4f}\")\n",
    "    print(f\"Recall: {recall:.4f}\")\n",
    "    print(f\"F1-score: {f1:.4f}\")\n",
    "    \n",
    "    # Return metrics as a dictionary\n",
    "    return {'accuracy': accuracy, 'precision': precision, 'recall': recall, 'f1_score': f1}\n",
    "\n",
    "# Example usage (ensure y_test and y_pred are defined appropriately)\n",
    "metrics = evaluate_classification(y_test, y_pred)\n"
   ]
  },
  {
   "cell_type": "code",
   "execution_count": 21,
   "metadata": {},
   "outputs": [],
   "source": [
    "from sklearn.metrics import accuracy_score, precision_score, recall_score, f1_score\n",
    "\n",
    "def evaluate_classification(y_true, y_pred):\n",
    "    # Calculate metrics\n",
    "    accuracy = accuracy_score(y_true, y_pred)\n",
    "    precision = precision_score(y_true, y_pred)\n",
    "    recall = recall_score(y_true, y_pred)\n",
    "    f1 = f1_score(y_true, y_pred)\n",
    "    \n",
    "    # Print metrics\n",
    "    print(f\"Accuracy: {accuracy:.4f}\")\n",
    "    print(f\"Precision: {precision:.4f}\")\n",
    "    print(f\"Recall: {recall:.4f}\")\n",
    "    print(f\"F1-score: {f1:.4f}\")\n",
    "    \n",
    "    # Return metrics as a dictionary\n",
    "    return {'accuracy': accuracy, 'precision': precision, 'recall': recall, 'f1_score': f1}\n",
    "\n",
    "# Example usage\n",
    "# metrics = evaluate_classification(y_test, y_pred)\n"
   ]
  },
  {
   "cell_type": "markdown",
   "metadata": {},
   "source": [
    "# RNN Sequential"
   ]
  },
  {
   "cell_type": "code",
   "execution_count": 22,
   "metadata": {},
   "outputs": [
    {
     "name": "stdout",
     "output_type": "stream",
     "text": [
      "Shape of our sequenced samples M: (25, 76, 8)\n",
      "M_train shape: (20, 76, 8)\n",
      "M_test shape: (5, 76, 8)\n"
     ]
    }
   ],
   "source": [
    "M = X.copy()\n",
    "print(\"Shape of our sequenced samples M:\", M.shape)\n",
    "\n",
    "# Assuming M is already defined and has shape (25, 76, 20)\n",
    "# Set the seed for reproducibility and split the data\n",
    "M_train, M_test = train_test_split(M, test_size=0.2, random_state=42)\n",
    "\n",
    "# Print shapes to confirm the setup\n",
    "print(\"M_train shape:\", M_train.shape)  # Expected to have around 80% of the data\n",
    "print(\"M_test shape:\", M_test.shape)    # Expected to have around 20% of the data\n",
    "\n"
   ]
  },
  {
   "cell_type": "code",
   "execution_count": 23,
   "metadata": {},
   "outputs": [
    {
     "name": "stdout",
     "output_type": "stream",
     "text": [
      "X_train shape: (20, 68, 8)\n",
      "y_train shape: (20, 8, 8)\n",
      "X_test shape: (5, 68, 8)\n",
      "y_test shape: (5, 8, 8)\n"
     ]
    }
   ],
   "source": [
    "# Calculating the split index for 90% of the time steps\n",
    "split_index = int(0.9 * 76)  \n",
    "\n",
    "# Splitting the training data\n",
    "X_train = M_train[:, :split_index, :]\n",
    "y_train = M_train[:, split_index:, :]\n",
    "\n",
    "# Splitting the testing data\n",
    "X_test = M_test[:, :split_index, :]\n",
    "y_test = M_test[:, split_index:, :]\n",
    "\n",
    "# Print shapes to confirm the setup\n",
    "print(\"X_train shape:\", X_train.shape)  \n",
    "print(\"y_train shape:\", y_train.shape)  \n",
    "print(\"X_test shape:\", X_test.shape)    \n",
    "print(\"y_test shape:\", y_test.shape)    \n",
    "\n"
   ]
  },
  {
   "cell_type": "code",
   "execution_count": 24,
   "metadata": {},
   "outputs": [
    {
     "name": "stdout",
     "output_type": "stream",
     "text": [
      "X_train shape: (20, 68, 8)\n",
      "y_train shape: (20, 8, 8)\n",
      "X_test shape: (5, 68, 8)\n",
      "y_test shape: (5, 8, 8)\n",
      "Epoch 1/1000\n",
      "1/1 [==============================] - 1s 657ms/step - loss: 306809.4375 - mae: 360.0116 - val_loss: 228873.1719 - val_mae: 251.5710\n",
      "Epoch 2/1000\n",
      "1/1 [==============================] - 0s 24ms/step - loss: 219880.2031 - mae: 245.8723 - val_loss: 226119.9531 - val_mae: 250.0952\n",
      "Epoch 3/1000\n",
      "1/1 [==============================] - 0s 23ms/step - loss: 217186.5000 - mae: 244.3941 - val_loss: 222317.5469 - val_mae: 248.0183\n",
      "Epoch 4/1000\n",
      "1/1 [==============================] - 0s 23ms/step - loss: 213467.2031 - mae: 242.3175 - val_loss: 217610.8281 - val_mae: 245.3977\n",
      "Epoch 5/1000\n",
      "1/1 [==============================] - 0s 23ms/step - loss: 208864.6719 - mae: 239.6954 - val_loss: 212137.5781 - val_mae: 242.2912\n",
      "Epoch 6/1000\n",
      "1/1 [==============================] - 0s 24ms/step - loss: 203514.2188 - mae: 236.5868 - val_loss: 206027.2812 - val_mae: 238.7568\n",
      "Epoch 7/1000\n",
      "1/1 [==============================] - 0s 24ms/step - loss: 197543.0469 - mae: 233.0507 - val_loss: 199400.2188 - val_mae: 234.8487\n",
      "Epoch 8/1000\n",
      "1/1 [==============================] - 0s 23ms/step - loss: 191069.4375 - mae: 229.1419 - val_loss: 192367.1406 - val_mae: 230.6155\n",
      "Epoch 9/1000\n",
      "1/1 [==============================] - 0s 24ms/step - loss: 184202.1562 - mae: 224.9081 - val_loss: 185028.9062 - val_mae: 226.1029\n",
      "Epoch 10/1000\n",
      "1/1 [==============================] - 0s 23ms/step - loss: 177040.3750 - mae: 220.3948 - val_loss: 177476.6875 - val_mae: 221.3529\n",
      "Epoch 11/1000\n",
      "1/1 [==============================] - 0s 24ms/step - loss: 169673.5781 - mae: 215.6443 - val_loss: 169792.0000 - val_mae: 216.4043\n",
      "Epoch 12/1000\n",
      "1/1 [==============================] - 0s 24ms/step - loss: 162181.8750 - mae: 210.6951 - val_loss: 162047.2188 - val_mae: 211.2921\n",
      "Epoch 13/1000\n",
      "1/1 [==============================] - 0s 23ms/step - loss: 154636.2344 - mae: 205.5825 - val_loss: 154305.8438 - val_mae: 206.0489\n",
      "Epoch 14/1000\n",
      "1/1 [==============================] - 0s 25ms/step - loss: 147098.9531 - mae: 200.3388 - val_loss: 146623.1250 - val_mae: 200.7041\n",
      "Epoch 15/1000\n",
      "1/1 [==============================] - 0s 24ms/step - loss: 139624.1250 - mae: 194.9935 - val_loss: 139046.5781 - val_mae: 195.2846\n",
      "Epoch 16/1000\n",
      "1/1 [==============================] - 0s 24ms/step - loss: 132258.2188 - mae: 189.5736 - val_loss: 131616.4688 - val_mae: 189.8147\n",
      "Epoch 17/1000\n",
      "1/1 [==============================] - 0s 26ms/step - loss: 125040.6250 - mae: 184.1033 - val_loss: 124366.5469 - val_mae: 184.3166\n",
      "Epoch 18/1000\n",
      "1/1 [==============================] - 0s 23ms/step - loss: 118004.2031 - mae: 178.6048 - val_loss: 117324.5156 - val_mae: 178.8103\n",
      "Epoch 19/1000\n",
      "1/1 [==============================] - 0s 23ms/step - loss: 111175.8594 - mae: 173.0982 - val_loss: 110512.6016 - val_mae: 173.3138\n",
      "Epoch 20/1000\n",
      "1/1 [==============================] - 0s 23ms/step - loss: 104577.2031 - mae: 167.6014 - val_loss: 103948.1641 - val_mae: 167.8435\n",
      "Epoch 21/1000\n",
      "1/1 [==============================] - 0s 24ms/step - loss: 98224.9219 - mae: 162.1309 - val_loss: 97644.1953 - val_mae: 162.4138\n",
      "Epoch 22/1000\n",
      "1/1 [==============================] - 0s 24ms/step - loss: 92131.4609 - mae: 156.7009 - val_loss: 91609.7656 - val_mae: 157.0374\n",
      "Epoch 23/1000\n",
      "1/1 [==============================] - 0s 24ms/step - loss: 86305.4219 - mae: 151.3243 - val_loss: 85850.5625 - val_mae: 151.7259\n",
      "Epoch 24/1000\n",
      "1/1 [==============================] - 0s 24ms/step - loss: 80752.0391 - mae: 146.0126 - val_loss: 80369.3203 - val_mae: 146.4894\n",
      "Epoch 25/1000\n",
      "1/1 [==============================] - 0s 25ms/step - loss: 75473.6484 - mae: 140.7759 - val_loss: 75166.1562 - val_mae: 141.3367\n",
      "Epoch 26/1000\n",
      "1/1 [==============================] - 0s 23ms/step - loss: 70470.0391 - mae: 135.6230 - val_loss: 70238.9922 - val_mae: 136.2755\n",
      "Epoch 27/1000\n",
      "1/1 [==============================] - 0s 34ms/step - loss: 65738.8438 - mae: 130.5617 - val_loss: 65583.8984 - val_mae: 131.3126\n",
      "Epoch 28/1000\n",
      "1/1 [==============================] - 0s 31ms/step - loss: 61275.8633 - mae: 125.5986 - val_loss: 61195.3516 - val_mae: 126.4536\n",
      "Epoch 29/1000\n",
      "1/1 [==============================] - 0s 31ms/step - loss: 57075.3750 - mae: 120.7398 - val_loss: 57066.5547 - val_mae: 121.7032\n",
      "Epoch 30/1000\n",
      "1/1 [==============================] - 0s 23ms/step - loss: 53130.4141 - mae: 115.9897 - val_loss: 53189.6797 - val_mae: 117.0656\n",
      "Epoch 31/1000\n",
      "1/1 [==============================] - 0s 24ms/step - loss: 49432.9609 - mae: 111.3523 - val_loss: 49556.0508 - val_mae: 112.5438\n",
      "Epoch 32/1000\n",
      "1/1 [==============================] - 0s 24ms/step - loss: 45974.2578 - mae: 106.8761 - val_loss: 46156.3867 - val_mae: 108.1405\n",
      "Epoch 33/1000\n",
      "1/1 [==============================] - 0s 23ms/step - loss: 42744.8984 - mae: 102.5426 - val_loss: 42980.9297 - val_mae: 103.8575\n",
      "Epoch 34/1000\n",
      "1/1 [==============================] - 0s 24ms/step - loss: 39735.0742 - mae: 98.3488 - val_loss: 40019.6484 - val_mae: 99.6963\n",
      "Epoch 35/1000\n",
      "1/1 [==============================] - 0s 23ms/step - loss: 36934.6875 - mae: 94.2982 - val_loss: 37262.3008 - val_mae: 95.6575\n",
      "Epoch 36/1000\n",
      "1/1 [==============================] - 0s 23ms/step - loss: 34333.4805 - mae: 90.3828 - val_loss: 34698.6016 - val_mae: 91.8207\n",
      "Epoch 37/1000\n",
      "1/1 [==============================] - 0s 24ms/step - loss: 31921.1465 - mae: 86.5927 - val_loss: 32318.2871 - val_mae: 88.3918\n",
      "Epoch 38/1000\n",
      "1/1 [==============================] - 0s 23ms/step - loss: 29687.4336 - mae: 82.9216 - val_loss: 30111.2188 - val_mae: 85.1019\n",
      "Epoch 39/1000\n",
      "1/1 [==============================] - 0s 23ms/step - loss: 27622.2227 - mae: 79.3783 - val_loss: 28067.4375 - val_mae: 81.9850\n",
      "Epoch 40/1000\n",
      "1/1 [==============================] - 0s 22ms/step - loss: 25715.5723 - mae: 75.9820 - val_loss: 26177.2031 - val_mae: 78.9864\n",
      "Epoch 41/1000\n",
      "1/1 [==============================] - 0s 23ms/step - loss: 23957.8027 - mae: 72.7191 - val_loss: 24431.0820 - val_mae: 76.0926\n",
      "Epoch 42/1000\n",
      "1/1 [==============================] - 0s 23ms/step - loss: 22339.5195 - mae: 69.5809 - val_loss: 22819.9375 - val_mae: 73.3103\n",
      "Epoch 43/1000\n",
      "1/1 [==============================] - 0s 24ms/step - loss: 20851.6602 - mae: 66.5869 - val_loss: 21334.9883 - val_mae: 70.6880\n",
      "Epoch 44/1000\n",
      "1/1 [==============================] - 0s 23ms/step - loss: 19485.5039 - mae: 63.7534 - val_loss: 19967.8086 - val_mae: 68.1627\n",
      "Epoch 45/1000\n",
      "1/1 [==============================] - 0s 23ms/step - loss: 18232.7109 - mae: 61.0693 - val_loss: 18710.3555 - val_mae: 65.7327\n",
      "Epoch 46/1000\n",
      "1/1 [==============================] - 0s 22ms/step - loss: 17085.3164 - mae: 58.5280 - val_loss: 17554.9727 - val_mae: 63.4267\n",
      "Epoch 47/1000\n",
      "1/1 [==============================] - 0s 25ms/step - loss: 16035.7549 - mae: 56.0978 - val_loss: 16494.3828 - val_mae: 61.2417\n",
      "Epoch 48/1000\n",
      "1/1 [==============================] - 0s 23ms/step - loss: 15076.8438 - mae: 53.7735 - val_loss: 15521.7129 - val_mae: 59.1461\n",
      "Epoch 49/1000\n",
      "1/1 [==============================] - 0s 24ms/step - loss: 14201.8018 - mae: 51.5942 - val_loss: 14630.4590 - val_mae: 57.1350\n",
      "Epoch 50/1000\n",
      "1/1 [==============================] - 0s 23ms/step - loss: 13404.2324 - mae: 49.5239 - val_loss: 13814.5098 - val_mae: 55.2063\n",
      "Epoch 51/1000\n",
      "1/1 [==============================] - 0s 23ms/step - loss: 12678.1162 - mae: 47.5574 - val_loss: 13068.1094 - val_mae: 53.3577\n",
      "Epoch 52/1000\n",
      "1/1 [==============================] - 0s 23ms/step - loss: 12017.8105 - mae: 45.7285 - val_loss: 12385.8740 - val_mae: 51.5877\n",
      "Epoch 53/1000\n",
      "1/1 [==============================] - 0s 24ms/step - loss: 11418.0303 - mae: 44.0236 - val_loss: 11762.7588 - val_mae: 49.8947\n",
      "Epoch 54/1000\n",
      "1/1 [==============================] - 0s 23ms/step - loss: 10873.8389 - mae: 42.4205 - val_loss: 11194.0508 - val_mae: 48.2753\n",
      "Epoch 55/1000\n",
      "1/1 [==============================] - 0s 24ms/step - loss: 10380.6309 - mae: 40.9389 - val_loss: 10675.3613 - val_mae: 46.7272\n",
      "Epoch 56/1000\n",
      "1/1 [==============================] - 0s 23ms/step - loss: 9934.1250 - mae: 39.5343 - val_loss: 10202.6064 - val_mae: 45.2577\n",
      "Epoch 57/1000\n",
      "1/1 [==============================] - 0s 37ms/step - loss: 9530.3398 - mae: 38.2195 - val_loss: 9771.9902 - val_mae: 43.8851\n",
      "Epoch 58/1000\n",
      "1/1 [==============================] - 0s 24ms/step - loss: 9165.5889 - mae: 36.9915 - val_loss: 9379.9922 - val_mae: 42.6065\n",
      "Epoch 59/1000\n",
      "1/1 [==============================] - 0s 23ms/step - loss: 8836.4531 - mae: 35.8703 - val_loss: 9023.3506 - val_mae: 41.4139\n",
      "Epoch 60/1000\n",
      "1/1 [==============================] - 0s 23ms/step - loss: 8539.7764 - mae: 34.8229 - val_loss: 8699.0527 - val_mae: 40.2890\n",
      "Epoch 61/1000\n",
      "1/1 [==============================] - 0s 23ms/step - loss: 8272.6494 - mae: 33.8529 - val_loss: 8404.3145 - val_mae: 39.2181\n",
      "Epoch 62/1000\n",
      "1/1 [==============================] - 0s 22ms/step - loss: 8032.3857 - mae: 32.9455 - val_loss: 8136.5688 - val_mae: 38.2185\n",
      "Epoch 63/1000\n",
      "1/1 [==============================] - 0s 25ms/step - loss: 7816.5195 - mae: 32.1092 - val_loss: 7893.4482 - val_mae: 37.3028\n",
      "Epoch 64/1000\n",
      "1/1 [==============================] - 0s 23ms/step - loss: 7622.7827 - mae: 31.3309 - val_loss: 7672.7822 - val_mae: 36.4317\n",
      "Epoch 65/1000\n",
      "1/1 [==============================] - 0s 22ms/step - loss: 7449.0962 - mae: 30.6096 - val_loss: 7472.5679 - val_mae: 35.6034\n",
      "Epoch 66/1000\n",
      "1/1 [==============================] - 0s 23ms/step - loss: 7293.5532 - mae: 29.9262 - val_loss: 7290.9736 - val_mae: 34.8163\n",
      "Epoch 67/1000\n",
      "1/1 [==============================] - 0s 26ms/step - loss: 7154.4126 - mae: 29.2774 - val_loss: 7126.3174 - val_mae: 34.0693\n",
      "Epoch 68/1000\n",
      "1/1 [==============================] - 0s 24ms/step - loss: 7030.0820 - mae: 28.6663 - val_loss: 6977.0610 - val_mae: 33.3600\n",
      "Epoch 69/1000\n",
      "1/1 [==============================] - 0s 24ms/step - loss: 6919.1079 - mae: 28.0958 - val_loss: 6841.7944 - val_mae: 32.6873\n",
      "Epoch 70/1000\n",
      "1/1 [==============================] - 0s 23ms/step - loss: 6820.1670 - mae: 27.5655 - val_loss: 6719.2314 - val_mae: 32.0507\n",
      "Epoch 71/1000\n",
      "1/1 [==============================] - 0s 24ms/step - loss: 6732.0547 - mae: 27.0710 - val_loss: 6608.1963 - val_mae: 31.4490\n",
      "Epoch 72/1000\n",
      "1/1 [==============================] - 0s 23ms/step - loss: 6653.6768 - mae: 26.6036 - val_loss: 6507.6182 - val_mae: 30.8789\n",
      "Epoch 73/1000\n",
      "1/1 [==============================] - 0s 22ms/step - loss: 6584.0361 - mae: 26.1645 - val_loss: 6416.5205 - val_mae: 30.3391\n",
      "Epoch 74/1000\n",
      "1/1 [==============================] - 0s 24ms/step - loss: 6522.2344 - mae: 25.7576 - val_loss: 6334.0142 - val_mae: 29.8293\n",
      "Epoch 75/1000\n",
      "1/1 [==============================] - 0s 23ms/step - loss: 6467.4541 - mae: 25.3735 - val_loss: 6259.2891 - val_mae: 29.3494\n",
      "Epoch 76/1000\n",
      "1/1 [==============================] - 0s 25ms/step - loss: 6418.9556 - mae: 25.0118 - val_loss: 6191.6118 - val_mae: 28.8969\n",
      "Epoch 77/1000\n",
      "1/1 [==============================] - 0s 23ms/step - loss: 6376.0723 - mae: 24.6711 - val_loss: 6130.3130 - val_mae: 28.4724\n",
      "Epoch 78/1000\n",
      "1/1 [==============================] - 0s 23ms/step - loss: 6338.2021 - mae: 24.3507 - val_loss: 6074.7861 - val_mae: 28.0731\n",
      "Epoch 79/1000\n",
      "1/1 [==============================] - 0s 25ms/step - loss: 6304.8022 - mae: 24.0496 - val_loss: 6024.4829 - val_mae: 27.6968\n",
      "Epoch 80/1000\n",
      "1/1 [==============================] - 0s 23ms/step - loss: 6275.3838 - mae: 23.7661 - val_loss: 5978.9033 - val_mae: 27.3452\n",
      "Epoch 81/1000\n",
      "1/1 [==============================] - 0s 26ms/step - loss: 6249.5068 - mae: 23.5015 - val_loss: 5937.5962 - val_mae: 27.0226\n",
      "Epoch 82/1000\n",
      "1/1 [==============================] - 0s 23ms/step - loss: 6226.7764 - mae: 23.2552 - val_loss: 5900.1528 - val_mae: 26.7289\n",
      "Epoch 83/1000\n",
      "1/1 [==============================] - 0s 29ms/step - loss: 6206.8384 - mae: 23.0260 - val_loss: 5866.2036 - val_mae: 26.4696\n",
      "Epoch 84/1000\n",
      "1/1 [==============================] - 0s 30ms/step - loss: 6189.3760 - mae: 22.8131 - val_loss: 5835.4136 - val_mae: 26.2363\n",
      "Epoch 85/1000\n",
      "1/1 [==============================] - 0s 24ms/step - loss: 6174.1040 - mae: 22.6144 - val_loss: 5807.4810 - val_mae: 26.0184\n",
      "Epoch 86/1000\n",
      "1/1 [==============================] - 0s 23ms/step - loss: 6160.7681 - mae: 22.4280 - val_loss: 5782.1313 - val_mae: 25.8143\n",
      "Epoch 87/1000\n",
      "1/1 [==============================] - 0s 24ms/step - loss: 6149.1431 - mae: 22.2532 - val_loss: 5759.1182 - val_mae: 25.6230\n",
      "Epoch 88/1000\n",
      "1/1 [==============================] - 0s 26ms/step - loss: 6139.0254 - mae: 22.0912 - val_loss: 5738.2192 - val_mae: 25.4438\n",
      "Epoch 89/1000\n",
      "1/1 [==============================] - 0s 23ms/step - loss: 6130.2344 - mae: 21.9396 - val_loss: 5719.2334 - val_mae: 25.2763\n",
      "Epoch 90/1000\n",
      "1/1 [==============================] - 0s 24ms/step - loss: 6122.6108 - mae: 21.8097 - val_loss: 5701.9785 - val_mae: 25.1200\n",
      "Epoch 91/1000\n",
      "1/1 [==============================] - 0s 23ms/step - loss: 6116.0107 - mae: 21.6978 - val_loss: 5686.2910 - val_mae: 24.9798\n",
      "Epoch 92/1000\n",
      "1/1 [==============================] - 0s 22ms/step - loss: 6110.3101 - mae: 21.6068 - val_loss: 5672.0225 - val_mae: 24.8783\n",
      "Epoch 93/1000\n",
      "1/1 [==============================] - 0s 23ms/step - loss: 6105.3945 - mae: 21.5287 - val_loss: 5659.0415 - val_mae: 24.7966\n",
      "Epoch 94/1000\n",
      "1/1 [==============================] - 0s 24ms/step - loss: 6101.1655 - mae: 21.4559 - val_loss: 5647.2256 - val_mae: 24.7204\n",
      "Epoch 95/1000\n",
      "1/1 [==============================] - 0s 25ms/step - loss: 6097.5366 - mae: 21.3882 - val_loss: 5636.4673 - val_mae: 24.6493\n",
      "Epoch 96/1000\n",
      "1/1 [==============================] - 0s 24ms/step - loss: 6094.4282 - mae: 21.3252 - val_loss: 5626.6680 - val_mae: 24.5832\n",
      "Epoch 97/1000\n",
      "1/1 [==============================] - 0s 22ms/step - loss: 6091.7739 - mae: 21.2666 - val_loss: 5617.7407 - val_mae: 24.5217\n",
      "Epoch 98/1000\n",
      "1/1 [==============================] - 0s 25ms/step - loss: 6089.5127 - mae: 21.2122 - val_loss: 5609.6040 - val_mae: 24.4644\n",
      "Epoch 99/1000\n",
      "1/1 [==============================] - 0s 22ms/step - loss: 6087.5923 - mae: 21.1617 - val_loss: 5602.1880 - val_mae: 24.4111\n",
      "Epoch 100/1000\n",
      "1/1 [==============================] - 0s 24ms/step - loss: 6085.9658 - mae: 21.1171 - val_loss: 5595.4258 - val_mae: 24.3617\n",
      "Epoch 101/1000\n",
      "1/1 [==============================] - 0s 22ms/step - loss: 6084.5938 - mae: 21.0820 - val_loss: 5589.2603 - val_mae: 24.3158\n",
      "Epoch 102/1000\n",
      "1/1 [==============================] - 0s 24ms/step - loss: 6083.4399 - mae: 21.0577 - val_loss: 5583.6372 - val_mae: 24.2731\n",
      "Epoch 103/1000\n",
      "1/1 [==============================] - 0s 23ms/step - loss: 6082.4736 - mae: 21.0396 - val_loss: 5578.5088 - val_mae: 24.2335\n",
      "Epoch 104/1000\n",
      "1/1 [==============================] - 0s 24ms/step - loss: 6081.6670 - mae: 21.0252 - val_loss: 5573.8320 - val_mae: 24.1968\n",
      "Epoch 105/1000\n",
      "1/1 [==============================] - 0s 24ms/step - loss: 6080.9985 - mae: 21.0119 - val_loss: 5569.5674 - val_mae: 24.1628\n",
      "Epoch 106/1000\n",
      "1/1 [==============================] - 0s 25ms/step - loss: 6080.4458 - mae: 20.9997 - val_loss: 5565.6797 - val_mae: 24.1314\n",
      "Epoch 107/1000\n",
      "1/1 [==============================] - 0s 25ms/step - loss: 6079.9912 - mae: 20.9887 - val_loss: 5562.1357 - val_mae: 24.1024\n",
      "Epoch 108/1000\n",
      "1/1 [==============================] - 0s 41ms/step - loss: 6079.6211 - mae: 20.9793 - val_loss: 5558.9062 - val_mae: 24.0757\n",
      "Epoch 109/1000\n",
      "1/1 [==============================] - 0s 26ms/step - loss: 6079.3213 - mae: 20.9706 - val_loss: 5555.9658 - val_mae: 24.0511\n",
      "Epoch 110/1000\n",
      "1/1 [==============================] - 0s 27ms/step - loss: 6079.0811 - mae: 20.9627 - val_loss: 5553.2891 - val_mae: 24.0285\n",
      "Epoch 111/1000\n",
      "1/1 [==============================] - 0s 26ms/step - loss: 6078.8892 - mae: 20.9565 - val_loss: 5550.8540 - val_mae: 24.0077\n",
      "Epoch 112/1000\n",
      "1/1 [==============================] - 0s 24ms/step - loss: 6078.7393 - mae: 20.9524 - val_loss: 5548.6411 - val_mae: 23.9886\n",
      "Epoch 113/1000\n",
      "1/1 [==============================] - 0s 25ms/step - loss: 6078.6221 - mae: 20.9494 - val_loss: 5546.6318 - val_mae: 23.9711\n",
      "Epoch 114/1000\n",
      "1/1 [==============================] - 0s 26ms/step - loss: 6078.5337 - mae: 20.9471 - val_loss: 5544.8096 - val_mae: 23.9551\n",
      "Epoch 115/1000\n",
      "1/1 [==============================] - 0s 25ms/step - loss: 6078.4678 - mae: 20.9451 - val_loss: 5543.1587 - val_mae: 23.9404\n",
      "Epoch 116/1000\n",
      "1/1 [==============================] - 0s 27ms/step - loss: 6078.4204 - mae: 20.9433 - val_loss: 5541.6655 - val_mae: 23.9271\n",
      "Epoch 117/1000\n",
      "1/1 [==============================] - 0s 25ms/step - loss: 6078.3877 - mae: 20.9417 - val_loss: 5540.3174 - val_mae: 23.9150\n",
      "Epoch 118/1000\n",
      "1/1 [==============================] - 0s 25ms/step - loss: 6078.3662 - mae: 20.9405 - val_loss: 5539.1025 - val_mae: 23.9041\n",
      "Epoch 119/1000\n",
      "1/1 [==============================] - 0s 24ms/step - loss: 6078.3540 - mae: 20.9395 - val_loss: 5538.0103 - val_mae: 23.8941\n",
      "Epoch 120/1000\n",
      "1/1 [==============================] - 0s 23ms/step - loss: 6078.3486 - mae: 20.9391 - val_loss: 5537.0298 - val_mae: 23.8852\n",
      "Epoch 121/1000\n",
      "1/1 [==============================] - 0s 22ms/step - loss: 6078.3486 - mae: 20.9393 - val_loss: 5536.1533 - val_mae: 23.8772\n",
      "Epoch 122/1000\n",
      "1/1 [==============================] - 0s 22ms/step - loss: 6078.3530 - mae: 20.9396 - val_loss: 5535.3716 - val_mae: 23.8700\n",
      "Epoch 123/1000\n",
      "1/1 [==============================] - 0s 22ms/step - loss: 6078.3599 - mae: 20.9401 - val_loss: 5534.6772 - val_mae: 23.8636\n",
      "Epoch 124/1000\n",
      "1/1 [==============================] - 0s 25ms/step - loss: 6078.3682 - mae: 20.9408 - val_loss: 5534.0630 - val_mae: 23.8579\n",
      "Epoch 125/1000\n",
      "1/1 [==============================] - 0s 24ms/step - loss: 6078.3774 - mae: 20.9415 - val_loss: 5533.5225 - val_mae: 23.8528\n",
      "Epoch 126/1000\n",
      "1/1 [==============================] - 0s 25ms/step - loss: 6078.3872 - mae: 20.9423 - val_loss: 5533.0498 - val_mae: 23.8484\n",
      "Epoch 127/1000\n",
      "1/1 [==============================] - 0s 23ms/step - loss: 6078.3970 - mae: 20.9430 - val_loss: 5532.6396 - val_mae: 23.8446\n",
      "Epoch 128/1000\n",
      "1/1 [==============================] - 0s 26ms/step - loss: 6078.4062 - mae: 20.9436 - val_loss: 5532.2856 - val_mae: 23.8413\n",
      "Epoch 129/1000\n",
      "1/1 [==============================] - 0s 43ms/step - loss: 6078.4150 - mae: 20.9441 - val_loss: 5531.9834 - val_mae: 23.8384\n",
      "Epoch 130/1000\n",
      "1/1 [==============================] - 0s 24ms/step - loss: 6078.4229 - mae: 20.9446 - val_loss: 5531.7295 - val_mae: 23.8361\n",
      "Epoch 131/1000\n",
      "1/1 [==============================] - 0s 23ms/step - loss: 6078.4302 - mae: 20.9450 - val_loss: 5531.5186 - val_mae: 23.8341\n",
      "Epoch 132/1000\n",
      "1/1 [==============================] - 0s 24ms/step - loss: 6078.4360 - mae: 20.9453 - val_loss: 5531.3477 - val_mae: 23.8325\n",
      "Epoch 133/1000\n",
      "1/1 [==============================] - 0s 26ms/step - loss: 6078.4414 - mae: 20.9455 - val_loss: 5531.2129 - val_mae: 23.8312\n",
      "Epoch 134/1000\n",
      "1/1 [==============================] - 0s 25ms/step - loss: 6078.4453 - mae: 20.9457 - val_loss: 5531.1118 - val_mae: 23.8302\n",
      "Epoch 135/1000\n",
      "1/1 [==============================] - 0s 24ms/step - loss: 6078.4482 - mae: 20.9458 - val_loss: 5531.0400 - val_mae: 23.8295\n",
      "Epoch 136/1000\n",
      "1/1 [==============================] - 0s 24ms/step - loss: 6078.4502 - mae: 20.9459 - val_loss: 5530.9951 - val_mae: 23.8291\n",
      "Epoch 137/1000\n",
      "1/1 [==============================] - 0s 23ms/step - loss: 6078.4521 - mae: 20.9460 - val_loss: 5530.9751 - val_mae: 23.8289\n",
      "Epoch 138/1000\n",
      "1/1 [==============================] - 0s 22ms/step - loss: 6078.4521 - mae: 20.9460 - val_loss: 5530.9775 - val_mae: 23.8289\n",
      "Epoch 139/1000\n",
      "1/1 [==============================] - 0s 23ms/step - loss: 6078.4521 - mae: 20.9460 - val_loss: 5530.9990 - val_mae: 23.8291\n",
      "Epoch 140/1000\n",
      "1/1 [==============================] - 0s 26ms/step - loss: 6078.4521 - mae: 20.9459 - val_loss: 5531.0396 - val_mae: 23.8295\n",
      "Epoch 141/1000\n",
      "1/1 [==============================] - 0s 23ms/step - loss: 6078.4502 - mae: 20.9458 - val_loss: 5531.0957 - val_mae: 23.8300\n",
      "Epoch 142/1000\n",
      "1/1 [==============================] - 0s 23ms/step - loss: 6078.4482 - mae: 20.9457 - val_loss: 5531.1655 - val_mae: 23.8306\n",
      "Epoch 143/1000\n",
      "1/1 [==============================] - 0s 26ms/step - loss: 6078.4463 - mae: 20.9456 - val_loss: 5531.2485 - val_mae: 23.8314\n",
      "Epoch 144/1000\n",
      "1/1 [==============================] - 0s 24ms/step - loss: 6078.4438 - mae: 20.9454 - val_loss: 5531.3428 - val_mae: 23.8323\n",
      "Epoch 145/1000\n",
      "1/1 [==============================] - 0s 25ms/step - loss: 6078.4409 - mae: 20.9452 - val_loss: 5531.4463 - val_mae: 23.8332\n",
      "Epoch 146/1000\n",
      "1/1 [==============================] - 0s 23ms/step - loss: 6078.4380 - mae: 20.9451 - val_loss: 5531.5576 - val_mae: 23.8343\n",
      "Epoch 147/1000\n",
      "1/1 [==============================] - 0s 24ms/step - loss: 6078.4346 - mae: 20.9449 - val_loss: 5531.6772 - val_mae: 23.8354\n",
      "Epoch 148/1000\n",
      "1/1 [==============================] - 0s 23ms/step - loss: 6078.4307 - mae: 20.9447 - val_loss: 5531.8027 - val_mae: 23.8365\n",
      "Epoch 149/1000\n",
      "1/1 [==============================] - 0s 23ms/step - loss: 6078.4268 - mae: 20.9444 - val_loss: 5531.9336 - val_mae: 23.8377\n",
      "Epoch 150/1000\n",
      "1/1 [==============================] - 0s 31ms/step - loss: 6078.4238 - mae: 20.9442 - val_loss: 5532.0688 - val_mae: 23.8390\n",
      "Epoch 151/1000\n",
      "1/1 [==============================] - 0s 32ms/step - loss: 6078.4199 - mae: 20.9440 - val_loss: 5532.2070 - val_mae: 23.8403\n",
      "Epoch 152/1000\n",
      "1/1 [==============================] - 0s 23ms/step - loss: 6078.4165 - mae: 20.9438 - val_loss: 5532.3477 - val_mae: 23.8416\n",
      "Epoch 153/1000\n",
      "1/1 [==============================] - 0s 25ms/step - loss: 6078.4126 - mae: 20.9435 - val_loss: 5532.4912 - val_mae: 23.8429\n",
      "Epoch 154/1000\n",
      "1/1 [==============================] - 0s 23ms/step - loss: 6078.4092 - mae: 20.9433 - val_loss: 5532.6353 - val_mae: 23.8442\n",
      "Epoch 155/1000\n",
      "1/1 [==============================] - 0s 23ms/step - loss: 6078.4058 - mae: 20.9430 - val_loss: 5532.7803 - val_mae: 23.8456\n",
      "Epoch 156/1000\n",
      "1/1 [==============================] - 0s 23ms/step - loss: 6078.4023 - mae: 20.9428 - val_loss: 5532.9263 - val_mae: 23.8469\n",
      "Epoch 157/1000\n",
      "1/1 [==============================] - 0s 23ms/step - loss: 6078.3994 - mae: 20.9425 - val_loss: 5533.0713 - val_mae: 23.8483\n",
      "Epoch 158/1000\n",
      "1/1 [==============================] - 0s 23ms/step - loss: 6078.3955 - mae: 20.9423 - val_loss: 5533.2158 - val_mae: 23.8496\n",
      "Epoch 159/1000\n",
      "1/1 [==============================] - 0s 23ms/step - loss: 6078.3926 - mae: 20.9421 - val_loss: 5533.3599 - val_mae: 23.8509\n",
      "Epoch 160/1000\n",
      "1/1 [==============================] - 0s 26ms/step - loss: 6078.3896 - mae: 20.9418 - val_loss: 5533.5015 - val_mae: 23.8522\n"
     ]
    }
   ],
   "source": [
    "import tensorflow as tf\n",
    "from tensorflow.keras.callbacks import EarlyStopping\n",
    "\n",
    "# Print shapes for debugging\n",
    "print(\"X_train shape:\", X_train.shape)\n",
    "print(\"y_train shape:\", y_train.shape)\n",
    "print(\"X_test shape:\", X_test.shape)\n",
    "print(\"y_test shape:\", y_test.shape)\n",
    "\n",
    "# Set random seed for reproducibility\n",
    "tf.random.set_seed(42)\n",
    "\n",
    "# Define the model\n",
    "model = tf.keras.Sequential([\n",
    "    tf.keras.layers.SimpleRNN(60, activation='relu', input_shape=(68, 8)),  # Input layer\n",
    "    tf.keras.layers.Dense(64, activation='relu'),  # Hidden layer\n",
    "    tf.keras.layers.Dense(8 * 8, activation=None)  # Output layer to predict 16 timesteps, each with 20 features\n",
    "])\n",
    "model.add(tf.keras.layers.Reshape((8, 8)))  # Reshape output to match (16, 20)\n",
    "\n",
    "# Define early stopping callback\n",
    "early_stopping = EarlyStopping(monitor='mae', patience=40, restore_best_weights=True)\n",
    "\n",
    "# Define optimizer\n",
    "opt = tf.keras.optimizers.SGD(learning_rate=0.1, momentum=0.9)\n",
    "\n",
    "# Compile the model\n",
    "model.compile(loss='mean_squared_error', optimizer=opt, metrics=['mae'])\n",
    "\n",
    "# Train the model\n",
    "history = model.fit(X_train, y_train, epochs=1000, validation_data=(X_test, y_test), callbacks=[early_stopping])\n",
    "\n"
   ]
  },
  {
   "cell_type": "code",
   "execution_count": 25,
   "metadata": {},
   "outputs": [
    {
     "name": "stdout",
     "output_type": "stream",
     "text": [
      "1/1 [==============================] - 0s 96ms/step\n",
      "Test MAE: 23.8852\n",
      "Test RMSE: 74.4112\n",
      "Test R-squared: 0.9668\n",
      "Test MAE for CO2: 176.2553\n",
      "Test RMSE for CO2: 210.2649\n",
      "Test R-squared for CO2: -0.0393\n"
     ]
    }
   ],
   "source": [
    "from sklearn.metrics import mean_absolute_error, mean_squared_error, r2_score\n",
    "import numpy as np\n",
    "\n",
    "# Predictions on test set\n",
    "y_pred = model.predict(X_test)\n",
    "\n",
    "# Flatten the predictions and actual values for metric calculations\n",
    "y_true_flat = y_test.reshape(-1)\n",
    "y_pred_flat = y_pred.reshape(-1)\n",
    "\n",
    "# Calculate metrics\n",
    "test_mae = mean_absolute_error(y_true_flat, y_pred_flat)\n",
    "test_rmse = np.sqrt(mean_squared_error(y_true_flat, y_pred_flat))\n",
    "test_r2 = r2_score(y_true_flat, y_pred_flat)\n",
    "\n",
    "# Print the metrics\n",
    "print(f'Test MAE: {test_mae:.4f}')\n",
    "print(f'Test RMSE: {test_rmse:.4f}')\n",
    "print(f'Test R-squared: {test_r2:.4f}')\n",
    "\n",
    "\n",
    "# Extracting predictions for CO2 (assuming it's the first column in the output)\n",
    "y_pred_co2 = y_pred[:, :, 0]  # Adjust the index if CO2 is not the first column\n",
    "y_true_co2 = y_test[:, :, 0]\n",
    "\n",
    "# Flatten the CO2 predictions and actual values\n",
    "y_true_co2_flat = y_true_co2.reshape(-1)\n",
    "y_pred_co2_flat = y_pred_co2.reshape(-1)\n",
    "\n",
    "# Calculate metrics for CO2\n",
    "test_mae_co2 = mean_absolute_error(y_true_co2_flat, y_pred_co2_flat)\n",
    "test_rmse_co2 = np.sqrt(mean_squared_error(y_true_co2_flat, y_pred_co2_flat))\n",
    "test_r2_co2 = r2_score(y_true_co2_flat, y_pred_co2_flat)\n",
    "\n",
    "# Print the metrics for CO2\n",
    "print(f'Test MAE for CO2: {test_mae_co2:.4f}')\n",
    "print(f'Test RMSE for CO2: {test_rmse_co2:.4f}')\n",
    "print(f'Test R-squared for CO2: {test_r2_co2:.4f}')\n"
   ]
  },
  {
   "cell_type": "code",
   "execution_count": 26,
   "metadata": {},
   "outputs": [],
   "source": [
    "import numpy as np\n",
    "from sklearn.metrics import r2_score\n",
    "\n",
    "def calculate_r2_per_feature(y_true, y_pred):\n",
    "    \"\"\"\n",
    "    Calculates the R-squared score for each feature across all timesteps.\n",
    "    Args:\n",
    "    y_true (numpy.ndarray): True values of the test set.\n",
    "    y_pred (numpy.ndarray): Predicted values from the model.\n",
    "    \n",
    "    Returns:\n",
    "    dict: A dictionary with feature indices as keys and R-squared scores as values.\n",
    "    \"\"\"\n",
    "    r2_scores = {}\n",
    "    for feature_index in range(y_true.shape[2]):  # Assuming the last dimension represents features\n",
    "        y_true_feature = y_true[:, :, feature_index].reshape(-1)\n",
    "        y_pred_feature = y_pred[:, :, feature_index].reshape(-1)\n",
    "        r2_scores[feature_index] = r2_score(y_true_feature, y_pred_feature)\n",
    "    return r2_scores\n"
   ]
  },
  {
   "cell_type": "code",
   "execution_count": 27,
   "metadata": {},
   "outputs": [
    {
     "name": "stdout",
     "output_type": "stream",
     "text": [
      "R-squared scores for each feature: {0: -0.03932300212635642, 1: -0.050773993432953635, 2: 0.05378577847280164, 3: -0.12903187993918763, 4: -0.09384669179137317, 5: -0.031125155855460163, 6: -0.1415820417935154, 7: 0.043417261266940343}\n"
     ]
    }
   ],
   "source": [
    "# Assuming y_test and y_pred are already defined and contain the test and predicted data respectively.\n",
    "r2_scores = calculate_r2_per_feature(y_test, y_pred)\n",
    "print(\"R-squared scores for each feature:\", r2_scores)\n"
   ]
  },
  {
   "cell_type": "code",
   "execution_count": 28,
   "metadata": {},
   "outputs": [
    {
     "data": {
      "image/png": "[encoded data removed]",
      "text/plain": [
       "<Figure size 1000x600 with 1 Axes>"
      ]
     },
     "metadata": {},
     "output_type": "display_data"
    }
   ],
   "source": [
    "import matplotlib.pyplot as plt\n",
    "\n",
    "# Extract feature names if available or use generic names\n",
    "feature_names = ['Feature {}'.format(i) for i in range(y_test.shape[2])]  # Adjust or replace with actual names\n",
    "\n",
    "# Extract R2 values and sort by value\n",
    "r2_values = [r2_scores[i] for i in sorted(r2_scores)]\n",
    "\n",
    "plt.figure(figsize=(10, 6))\n",
    "plt.bar(feature_names, r2_values, color='blue')\n",
    "plt.xlabel('Features')\n",
    "plt.ylabel('R-squared Score')\n",
    "plt.title('R-squared Score for Each Feature')\n",
    "plt.xticks(rotation=45)\n",
    "plt.tight_layout()  # Adjust layout to make room for label rotation\n",
    "plt.show()\n"
   ]
  },
  {
   "cell_type": "markdown",
   "metadata": {},
   "source": [
    "## LSTM"
   ]
  },
  {
   "cell_type": "code",
   "execution_count": 29,
   "metadata": {},
   "outputs": [
    {
     "name": "stdout",
     "output_type": "stream",
     "text": [
      "Epoch 1/1000\n",
      "1/1 [==============================] - 1s 811ms/step - loss: 59985436672.0000 - mae: 109228.8359 - val_loss: 384901.1875 - val_mae: 494.6037\n",
      "Epoch 2/1000\n",
      "1/1 [==============================] - 0s 37ms/step - loss: 375081.9062 - mae: 488.8295 - val_loss: 788179.8750 - val_mae: 728.9797\n",
      "Epoch 3/1000\n",
      "1/1 [==============================] - 0s 35ms/step - loss: 777678.8125 - mae: 723.3014 - val_loss: 1359951.6250 - val_mae: 950.7571\n",
      "Epoch 4/1000\n",
      "1/1 [==============================] - 0s 37ms/step - loss: 1348871.5000 - mae: 945.1758 - val_loss: 2035990.0000 - val_mae: 1156.8916\n",
      "Epoch 5/1000\n",
      "1/1 [==============================] - 0s 36ms/step - loss: 2024424.7500 - mae: 1151.4064 - val_loss: 2765576.5000 - val_mae: 1348.9908\n",
      "Epoch 6/1000\n",
      "1/1 [==============================] - 0s 35ms/step - loss: 2753613.2500 - mae: 1343.5536 - val_loss: 3509282.5000 - val_mae: 1519.1582\n",
      "Epoch 7/1000\n",
      "1/1 [==============================] - 0s 33ms/step - loss: 3496999.5000 - mae: 1513.8179 - val_loss: 4237062.5000 - val_mae: 1670.7887\n",
      "Epoch 8/1000\n",
      "1/1 [==============================] - 0s 36ms/step - loss: 4224532.0000 - mae: 1665.4482 - val_loss: 4926621.0000 - val_mae: 1802.0515\n",
      "Epoch 9/1000\n",
      "1/1 [==============================] - 0s 37ms/step - loss: 4913909.0000 - mae: 1796.7113 - val_loss: 5562021.5000 - val_mae: 1914.5735\n",
      "Epoch 10/1000\n",
      "1/1 [==============================] - 0s 35ms/step - loss: 5549187.0000 - mae: 1909.2332 - val_loss: 6132500.0000 - val_mae: 2009.8770\n",
      "Epoch 11/1000\n",
      "1/1 [==============================] - 0s 35ms/step - loss: 6119597.0000 - mae: 2004.5365 - val_loss: 6631457.0000 - val_mae: 2089.3857\n",
      "Epoch 12/1000\n",
      "1/1 [==============================] - 0s 34ms/step - loss: 6618534.5000 - mae: 2084.0454 - val_loss: 7055613.0000 - val_mae: 2154.4312\n",
      "Epoch 13/1000\n",
      "1/1 [==============================] - 0s 34ms/step - loss: 7042715.0000 - mae: 2149.1282 - val_loss: 7404293.0000 - val_mae: 2206.2561\n",
      "Epoch 14/1000\n",
      "1/1 [==============================] - 0s 34ms/step - loss: 7391459.0000 - mae: 2200.9954 - val_loss: 7678832.0000 - val_mae: 2246.0469\n",
      "Epoch 15/1000\n",
      "1/1 [==============================] - 0s 34ms/step - loss: 7666097.5000 - mae: 2240.7993 - val_loss: 7882075.0000 - val_mae: 2274.9810\n",
      "Epoch 16/1000\n",
      "1/1 [==============================] - 0s 34ms/step - loss: 7869472.0000 - mae: 2269.6223 - val_loss: 8017975.0000 - val_mae: 2293.9351\n",
      "Epoch 17/1000\n",
      "1/1 [==============================] - 0s 32ms/step - loss: 8005529.5000 - mae: 2288.4722 - val_loss: 8091246.5000 - val_mae: 2303.8472\n",
      "Epoch 18/1000\n",
      "1/1 [==============================] - 0s 33ms/step - loss: 8078985.5000 - mae: 2298.2876 - val_loss: 8107099.0000 - val_mae: 2305.5913\n",
      "Epoch 19/1000\n",
      "1/1 [==============================] - 0s 34ms/step - loss: 8095044.0000 - mae: 2299.9426 - val_loss: 8071016.0000 - val_mae: 2299.9790\n",
      "Epoch 20/1000\n",
      "1/1 [==============================] - 0s 33ms/step - loss: 8059185.5000 - mae: 2294.2732 - val_loss: 7988579.0000 - val_mae: 2287.7627\n",
      "Epoch 21/1000\n",
      "1/1 [==============================] - 0s 40ms/step - loss: 7976989.0000 - mae: 2282.0049 - val_loss: 7865329.5000 - val_mae: 2269.6414\n",
      "Epoch 22/1000\n",
      "1/1 [==============================] - 0s 46ms/step - loss: 7853993.5000 - mae: 2263.8589 - val_loss: 7706665.5000 - val_mae: 2246.2622\n",
      "Epoch 23/1000\n",
      "1/1 [==============================] - 0s 34ms/step - loss: 7695594.5000 - mae: 2240.4629 - val_loss: 7517758.5000 - val_mae: 2218.2683\n",
      "Epoch 24/1000\n",
      "1/1 [==============================] - 0s 36ms/step - loss: 7506963.0000 - mae: 2212.4446 - val_loss: 7303504.0000 - val_mae: 2186.2153\n",
      "Epoch 25/1000\n",
      "1/1 [==============================] - 0s 35ms/step - loss: 7292992.0000 - mae: 2180.3391 - val_loss: 7068473.5000 - val_mae: 2150.5640\n",
      "Epoch 26/1000\n",
      "1/1 [==============================] - 0s 36ms/step - loss: 7058251.0000 - mae: 2144.6499 - val_loss: 6816897.0000 - val_mae: 2111.7856\n",
      "Epoch 27/1000\n",
      "1/1 [==============================] - 0s 36ms/step - loss: 6806969.5000 - mae: 2105.8433 - val_loss: 6552646.5000 - val_mae: 2070.3137\n",
      "Epoch 28/1000\n",
      "1/1 [==============================] - 0s 33ms/step - loss: 6543017.0000 - mae: 2064.3633 - val_loss: 6279235.0000 - val_mae: 2026.5621\n",
      "Epoch 29/1000\n",
      "1/1 [==============================] - 0s 33ms/step - loss: 6269905.5000 - mae: 2020.6067 - val_loss: 5999819.5000 - val_mae: 1980.9222\n",
      "Epoch 30/1000\n",
      "1/1 [==============================] - 0s 33ms/step - loss: 5990790.0000 - mae: 1974.9303 - val_loss: 5717209.5000 - val_mae: 1933.6855\n",
      "Epoch 31/1000\n",
      "1/1 [==============================] - 0s 34ms/step - loss: 5708481.0000 - mae: 1927.6589 - val_loss: 5433885.5000 - val_mae: 1885.1594\n",
      "Epoch 32/1000\n",
      "1/1 [==============================] - 0s 33ms/step - loss: 5425456.0000 - mae: 1879.1176 - val_loss: 5152011.0000 - val_mae: 1835.6243\n",
      "Epoch 33/1000\n",
      "1/1 [==============================] - 0s 34ms/step - loss: 5143879.0000 - mae: 1829.5872 - val_loss: 4873455.5000 - val_mae: 1785.3363\n",
      "Epoch 34/1000\n",
      "1/1 [==============================] - 0s 34ms/step - loss: 4865618.0000 - mae: 1779.3210 - val_loss: 4599813.0000 - val_mae: 1734.5277\n",
      "Epoch 35/1000\n",
      "1/1 [==============================] - 0s 35ms/step - loss: 4592267.0000 - mae: 1728.5365 - val_loss: 4332425.0000 - val_mae: 1683.4089\n",
      "Epoch 36/1000\n",
      "1/1 [==============================] - 0s 36ms/step - loss: 4325166.5000 - mae: 1677.4465 - val_loss: 4072400.0000 - val_mae: 1632.1713\n",
      "Epoch 37/1000\n",
      "1/1 [==============================] - 0s 37ms/step - loss: 4065424.7500 - mae: 1626.2432 - val_loss: 3820637.2500 - val_mae: 1580.9863\n",
      "Epoch 38/1000\n",
      "1/1 [==============================] - 0s 37ms/step - loss: 3813940.7500 - mae: 1575.1013 - val_loss: 3577844.7500 - val_mae: 1530.0092\n",
      "Epoch 39/1000\n",
      "1/1 [==============================] - 0s 36ms/step - loss: 3571420.7500 - mae: 1524.1665 - val_loss: 3344560.5000 - val_mae: 1479.3782\n",
      "Epoch 40/1000\n",
      "1/1 [==============================] - 0s 37ms/step - loss: 3338404.5000 - mae: 1473.5752 - val_loss: 3121171.2500 - val_mae: 1429.2771\n",
      "Epoch 41/1000\n",
      "1/1 [==============================] - 0s 37ms/step - loss: 3115277.0000 - mae: 1423.4563 - val_loss: 2907930.5000 - val_mae: 1379.7590\n",
      "Epoch 42/1000\n",
      "1/1 [==============================] - 0s 39ms/step - loss: 2902292.0000 - mae: 1373.9281 - val_loss: 2704974.5000 - val_mae: 1330.9153\n"
     ]
    }
   ],
   "source": [
    "import tensorflow as tf\n",
    "from tensorflow.keras.callbacks import EarlyStopping\n",
    "\n",
    "# Set random seed for reproducibility\n",
    "tf.random.set_seed(42)\n",
    "\n",
    "# Define the LSTM model\n",
    "model = tf.keras.Sequential([\n",
    "    tf.keras.layers.LSTM(128, activation='relu', input_shape=(68, 8)),  # LSTM layer\n",
    "    tf.keras.layers.Dense(64, activation='relu'),  # Hidden layer\n",
    "    tf.keras.layers.Dense(8 * 8, activation=None)  # Output layer to predict 8 timesteps, each with 20 features\n",
    "])\n",
    "model.add(tf.keras.layers.Reshape((8, 8)))  # Reshape output to match (8, 20)\n",
    "\n",
    "# Define early stopping callback\n",
    "early_stopping = EarlyStopping(monitor='mae', patience=40, restore_best_weights=True)\n",
    "\n",
    "# Define optimizer\n",
    "opt = tf.keras.optimizers.SGD(learning_rate=0.1, momentum=0.9)\n",
    "\n",
    "# Compile the model\n",
    "model.compile(loss='mean_squared_error', optimizer=opt, metrics=['mae'])\n",
    "\n",
    "# Train the model\n",
    "history = model.fit(X_train, y_train, epochs=1000, validation_data=(X_test, y_test), callbacks=[early_stopping])\n"
   ]
  },
  {
   "cell_type": "code",
   "execution_count": 30,
   "metadata": {},
   "outputs": [],
   "source": [
    "from sklearn.metrics import mean_squared_error, mean_absolute_error, r2_score\n",
    "import numpy as np\n",
    "\n",
    "def evaluate_regression_metrics(y_true, y_pred):\n",
    "    mse = mean_squared_error(y_true, y_pred)\n",
    "    mae = mean_absolute_error(y_true, y_pred)\n",
    "    rmse = np.sqrt(mse)\n",
    "    r2 = r2_score(y_true, y_pred)\n",
    "    \n",
    "    print(f\"Mean Squared Error (MSE): {mse:.4f}\")\n",
    "    print(f\"Mean Absolute Error (MAE): {mae:.4f}\")\n",
    "    print(f\"Root Mean Squared Error (RMSE): {rmse:.4f}\")\n",
    "    print(f\"R-squared (R^2): {r2:.4f}\")\n",
    "    \n",
    "    return {'mse': mse, 'mae': mae, 'rmse': rmse, 'r2': r2}\n",
    "\n",
    "\n",
    "# Predict on the test set\n",
    "# y_pred = model.predict(X_test)\n",
    "\n",
    "# # Flatten y_pred and y_test if necessary (depends on your model's output shape)\n",
    "# y_pred = y_pred.reshape(-1, 20)  # Adjust the reshape parameters based on your specific output configuration\n",
    "# y_test = y_test.reshape(-1, 20)  # Adjust the reshape parameters accordingly\n",
    "\n",
    "# # Evaluate the model\n",
    "# metrics = evaluate_regression_metrics(y_test, y_pred)\n"
   ]
  },
  {
   "cell_type": "markdown",
   "metadata": {},
   "source": [
    "add l2 regularization and recurrent dropout to check for overfitting"
   ]
  },
  {
   "cell_type": "code",
   "execution_count": 31,
   "metadata": {},
   "outputs": [
    {
     "name": "stdout",
     "output_type": "stream",
     "text": [
      "Epoch 1/500\n",
      "1/1 [==============================] - 2s 2s/step - loss: 527211.2500 - mae: 502.6497 - val_loss: 56132936.0000 - val_mae: 251.6075\n",
      "Epoch 2/500\n",
      "1/1 [==============================] - 0s 57ms/step - loss: 56123944.0000 - mae: 245.9087 - val_loss: nan - val_mae: 250.2221\n",
      "Epoch 3/500\n",
      "1/1 [==============================] - 0s 60ms/step - loss: nan - mae: 244.5217 - val_loss: nan - val_mae: 248.2234\n",
      "Epoch 4/500\n",
      "1/1 [==============================] - 0s 54ms/step - loss: nan - mae: 242.5238 - val_loss: nan - val_mae: 245.6696\n",
      "Epoch 5/500\n",
      "1/1 [==============================] - 0s 55ms/step - loss: nan - mae: 239.9686 - val_loss: nan - val_mae: 242.6217\n",
      "Epoch 6/500\n",
      "1/1 [==============================] - 0s 57ms/step - loss: nan - mae: 236.9191 - val_loss: nan - val_mae: 239.1386\n",
      "Epoch 7/500\n",
      "1/1 [==============================] - 0s 53ms/step - loss: nan - mae: 233.4346 - val_loss: nan - val_mae: 235.2783\n",
      "Epoch 8/500\n",
      "1/1 [==============================] - 0s 52ms/step - loss: nan - mae: 229.5738 - val_loss: nan - val_mae: 231.0876\n",
      "Epoch 9/500\n",
      "1/1 [==============================] - 0s 54ms/step - loss: nan - mae: 225.3833 - val_loss: nan - val_mae: 226.6140\n",
      "Epoch 10/500\n",
      "1/1 [==============================] - 0s 61ms/step - loss: nan - mae: 220.9154 - val_loss: nan - val_mae: 221.9049\n",
      "Epoch 11/500\n",
      "1/1 [==============================] - 0s 54ms/step - loss: nan - mae: 216.2120 - val_loss: nan - val_mae: 216.9973\n",
      "Epoch 12/500\n",
      "1/1 [==============================] - 0s 58ms/step - loss: nan - mae: 211.3101 - val_loss: nan - val_mae: 211.9264\n",
      "Epoch 13/500\n",
      "1/1 [==============================] - 0s 54ms/step - loss: nan - mae: 206.2424 - val_loss: nan - val_mae: 206.7257\n",
      "Epoch 14/500\n",
      "1/1 [==============================] - 0s 53ms/step - loss: nan - mae: 201.0418 - val_loss: nan - val_mae: 201.4169\n",
      "Epoch 15/500\n",
      "1/1 [==============================] - 0s 51ms/step - loss: nan - mae: 195.7330 - val_loss: nan - val_mae: 196.0273\n",
      "Epoch 16/500\n",
      "1/1 [==============================] - 0s 58ms/step - loss: nan - mae: 190.3434 - val_loss: nan - val_mae: 190.5818\n",
      "Epoch 17/500\n",
      "1/1 [==============================] - 0s 56ms/step - loss: nan - mae: 184.8979 - val_loss: nan - val_mae: 185.1031\n",
      "Epoch 18/500\n",
      "1/1 [==============================] - 0s 53ms/step - loss: nan - mae: 179.4193 - val_loss: nan - val_mae: 179.6125\n",
      "Epoch 19/500\n",
      "1/1 [==============================] - 0s 51ms/step - loss: nan - mae: 173.9278 - val_loss: nan - val_mae: 174.1289\n",
      "Epoch 20/500\n",
      "1/1 [==============================] - 0s 63ms/step - loss: nan - mae: 168.4420 - val_loss: nan - val_mae: 168.6674\n",
      "Epoch 21/500\n",
      "1/1 [==============================] - 0s 53ms/step - loss: nan - mae: 162.9788 - val_loss: nan - val_mae: 163.2429\n",
      "Epoch 22/500\n",
      "1/1 [==============================] - 0s 66ms/step - loss: nan - mae: 157.5528 - val_loss: nan - val_mae: 157.8686\n",
      "Epoch 23/500\n",
      "1/1 [==============================] - 0s 54ms/step - loss: nan - mae: 152.1770 - val_loss: nan - val_mae: 152.5564\n",
      "Epoch 24/500\n",
      "1/1 [==============================] - 0s 54ms/step - loss: nan - mae: 146.8633 - val_loss: nan - val_mae: 147.3167\n",
      "Epoch 25/500\n",
      "1/1 [==============================] - 0s 54ms/step - loss: nan - mae: 141.6224 - val_loss: nan - val_mae: 142.1585\n",
      "Epoch 26/500\n",
      "1/1 [==============================] - 0s 54ms/step - loss: nan - mae: 136.4636 - val_loss: nan - val_mae: 137.0898\n",
      "Epoch 27/500\n",
      "1/1 [==============================] - 0s 56ms/step - loss: nan - mae: 131.3948 - val_loss: nan - val_mae: 132.1175\n",
      "Epoch 28/500\n",
      "1/1 [==============================] - 0s 56ms/step - loss: nan - mae: 126.4239 - val_loss: nan - val_mae: 127.2474\n",
      "Epoch 29/500\n",
      "1/1 [==============================] - 0s 61ms/step - loss: nan - mae: 121.5564 - val_loss: nan - val_mae: 122.4846\n",
      "Epoch 30/500\n",
      "1/1 [==============================] - 0s 57ms/step - loss: nan - mae: 116.7965 - val_loss: nan - val_mae: 117.8332\n",
      "Epoch 31/500\n",
      "1/1 [==============================] - 0s 47ms/step - loss: nan - mae: 112.1482 - val_loss: nan - val_mae: 113.2970\n",
      "Epoch 32/500\n",
      "1/1 [==============================] - 0s 51ms/step - loss: nan - mae: 107.6611 - val_loss: nan - val_mae: 108.8804\n",
      "Epoch 33/500\n",
      "1/1 [==============================] - 0s 51ms/step - loss: nan - mae: 103.3149 - val_loss: nan - val_mae: 104.5838\n",
      "Epoch 34/500\n",
      "1/1 [==============================] - 0s 50ms/step - loss: nan - mae: 99.1183 - val_loss: nan - val_mae: 100.4082\n",
      "Epoch 35/500\n",
      "1/1 [==============================] - 0s 64ms/step - loss: nan - mae: 95.0544 - val_loss: nan - val_mae: 96.3545\n",
      "Epoch 36/500\n",
      "1/1 [==============================] - 0s 55ms/step - loss: nan - mae: 91.1222 - val_loss: nan - val_mae: 92.5397\n",
      "Epoch 37/500\n",
      "1/1 [==============================] - 0s 54ms/step - loss: nan - mae: 87.3200 - val_loss: nan - val_mae: 89.0364\n",
      "Epoch 38/500\n",
      "1/1 [==============================] - 0s 55ms/step - loss: nan - mae: 83.6365 - val_loss: nan - val_mae: 85.7287\n",
      "Epoch 39/500\n",
      "1/1 [==============================] - 0s 57ms/step - loss: nan - mae: 80.0854 - val_loss: nan - val_mae: 82.5919\n",
      "Epoch 40/500\n",
      "1/1 [==============================] - 0s 60ms/step - loss: nan - mae: 76.6703 - val_loss: nan - val_mae: 79.5752\n",
      "Epoch 41/500\n",
      "1/1 [==============================] - 0s 68ms/step - loss: nan - mae: 73.3953 - val_loss: nan - val_mae: 76.6633\n",
      "Epoch 42/500\n",
      "1/1 [==============================] - 0s 55ms/step - loss: nan - mae: 70.2415 - val_loss: nan - val_mae: 73.8942\n",
      "Epoch 43/500\n",
      "1/1 [==============================] - 0s 54ms/step - loss: nan - mae: 67.2363 - val_loss: nan - val_mae: 71.2521\n",
      "Epoch 44/500\n",
      "1/1 [==============================] - 0s 58ms/step - loss: nan - mae: 64.3708 - val_loss: nan - val_mae: 68.7094\n",
      "Epoch 45/500\n",
      "1/1 [==============================] - 0s 56ms/step - loss: nan - mae: 61.6619 - val_loss: nan - val_mae: 66.2643\n",
      "Epoch 46/500\n",
      "1/1 [==============================] - 0s 53ms/step - loss: nan - mae: 59.1035 - val_loss: nan - val_mae: 63.9338\n",
      "Epoch 47/500\n",
      "1/1 [==============================] - 0s 56ms/step - loss: nan - mae: 56.6539 - val_loss: nan - val_mae: 61.7317\n",
      "Epoch 48/500\n",
      "1/1 [==============================] - 0s 64ms/step - loss: nan - mae: 54.3128 - val_loss: nan - val_mae: 59.6168\n",
      "Epoch 49/500\n",
      "1/1 [==============================] - 0s 50ms/step - loss: nan - mae: 52.1139 - val_loss: nan - val_mae: 57.5867\n",
      "Epoch 50/500\n",
      "1/1 [==============================] - 0s 51ms/step - loss: nan - mae: 50.0257 - val_loss: nan - val_mae: 55.6393\n",
      "Epoch 51/500\n",
      "1/1 [==============================] - 0s 50ms/step - loss: nan - mae: 48.0451 - val_loss: nan - val_mae: 53.7725\n",
      "Epoch 52/500\n",
      "1/1 [==============================] - 0s 63ms/step - loss: nan - mae: 46.1938 - val_loss: nan - val_mae: 51.9839\n",
      "Epoch 53/500\n",
      "1/1 [==============================] - 0s 55ms/step - loss: nan - mae: 44.4709 - val_loss: nan - val_mae: 50.2713\n",
      "Epoch 54/500\n",
      "1/1 [==============================] - 0s 57ms/step - loss: nan - mae: 42.8514 - val_loss: nan - val_mae: 48.6339\n",
      "Epoch 55/500\n",
      "1/1 [==============================] - 0s 63ms/step - loss: nan - mae: 41.3464 - val_loss: nan - val_mae: 47.0686\n",
      "Epoch 56/500\n",
      "1/1 [==============================] - 0s 63ms/step - loss: nan - mae: 39.9249 - val_loss: nan - val_mae: 45.5751\n",
      "Epoch 57/500\n",
      "1/1 [==============================] - 0s 54ms/step - loss: nan - mae: 38.5960 - val_loss: nan - val_mae: 44.1962\n",
      "Epoch 58/500\n",
      "1/1 [==============================] - 0s 57ms/step - loss: nan - mae: 37.3541 - val_loss: nan - val_mae: 42.9044\n",
      "Epoch 59/500\n",
      "1/1 [==============================] - 0s 62ms/step - loss: nan - mae: 36.2138 - val_loss: nan - val_mae: 41.6936\n",
      "Epoch 60/500\n",
      "1/1 [==============================] - 0s 62ms/step - loss: nan - mae: 35.1497 - val_loss: nan - val_mae: 40.5521\n",
      "Epoch 61/500\n",
      "1/1 [==============================] - 0s 62ms/step - loss: nan - mae: 34.1621 - val_loss: nan - val_mae: 39.4652\n",
      "Epoch 62/500\n",
      "1/1 [==============================] - 0s 64ms/step - loss: nan - mae: 33.2350 - val_loss: nan - val_mae: 38.4570\n",
      "Epoch 63/500\n",
      "1/1 [==============================] - 0s 62ms/step - loss: nan - mae: 32.3823 - val_loss: nan - val_mae: 37.5261\n",
      "Epoch 64/500\n",
      "1/1 [==============================] - 0s 66ms/step - loss: nan - mae: 31.5872 - val_loss: nan - val_mae: 36.6406\n",
      "Epoch 65/500\n",
      "1/1 [==============================] - 0s 52ms/step - loss: nan - mae: 30.8486 - val_loss: nan - val_mae: 35.7991\n",
      "Epoch 66/500\n",
      "1/1 [==============================] - 0s 53ms/step - loss: nan - mae: 30.1493 - val_loss: nan - val_mae: 35.0005\n",
      "Epoch 67/500\n",
      "1/1 [==============================] - 0s 54ms/step - loss: nan - mae: 29.4876 - val_loss: nan - val_mae: 34.2419\n",
      "Epoch 68/500\n",
      "1/1 [==============================] - 0s 61ms/step - loss: nan - mae: 28.8652 - val_loss: nan - val_mae: 33.5215\n",
      "Epoch 69/500\n",
      "1/1 [==============================] - 0s 62ms/step - loss: nan - mae: 28.2825 - val_loss: nan - val_mae: 32.8380\n",
      "Epoch 70/500\n",
      "1/1 [==============================] - 0s 64ms/step - loss: nan - mae: 27.7409 - val_loss: nan - val_mae: 32.1895\n",
      "Epoch 71/500\n",
      "1/1 [==============================] - 0s 62ms/step - loss: nan - mae: 27.2340 - val_loss: nan - val_mae: 31.5752\n",
      "Epoch 72/500\n",
      "1/1 [==============================] - 0s 57ms/step - loss: nan - mae: 26.7553 - val_loss: nan - val_mae: 30.9944\n",
      "Epoch 73/500\n",
      "1/1 [==============================] - 0s 64ms/step - loss: nan - mae: 26.3062 - val_loss: nan - val_mae: 30.4445\n",
      "Epoch 74/500\n",
      "1/1 [==============================] - 0s 58ms/step - loss: nan - mae: 25.8900 - val_loss: nan - val_mae: 29.9265\n",
      "Epoch 75/500\n",
      "1/1 [==============================] - 0s 56ms/step - loss: nan - mae: 25.4978 - val_loss: nan - val_mae: 29.4385\n",
      "Epoch 76/500\n",
      "1/1 [==============================] - 0s 57ms/step - loss: nan - mae: 25.1272 - val_loss: nan - val_mae: 28.9778\n",
      "Epoch 77/500\n",
      "1/1 [==============================] - 0s 60ms/step - loss: nan - mae: 24.7786 - val_loss: nan - val_mae: 28.5436\n",
      "Epoch 78/500\n",
      "1/1 [==============================] - 0s 53ms/step - loss: nan - mae: 24.4497 - val_loss: nan - val_mae: 28.1350\n",
      "Epoch 79/500\n",
      "1/1 [==============================] - 0s 57ms/step - loss: nan - mae: 24.1399 - val_loss: nan - val_mae: 27.7510\n",
      "Epoch 80/500\n",
      "1/1 [==============================] - 0s 55ms/step - loss: nan - mae: 23.8486 - val_loss: nan - val_mae: 27.3988\n",
      "Epoch 81/500\n",
      "1/1 [==============================] - 0s 51ms/step - loss: nan - mae: 23.5775 - val_loss: nan - val_mae: 27.0705\n",
      "Epoch 82/500\n",
      "1/1 [==============================] - 0s 52ms/step - loss: nan - mae: 23.3247 - val_loss: nan - val_mae: 26.7702\n",
      "Epoch 83/500\n",
      "1/1 [==============================] - 0s 53ms/step - loss: nan - mae: 23.0886 - val_loss: nan - val_mae: 26.5011\n",
      "Epoch 84/500\n",
      "1/1 [==============================] - 0s 52ms/step - loss: nan - mae: 22.8696 - val_loss: nan - val_mae: 26.2630\n",
      "Epoch 85/500\n",
      "1/1 [==============================] - 0s 52ms/step - loss: nan - mae: 22.6650 - val_loss: nan - val_mae: 26.0406\n",
      "Epoch 86/500\n",
      "1/1 [==============================] - 0s 61ms/step - loss: nan - mae: 22.4731 - val_loss: nan - val_mae: 25.8331\n",
      "Epoch 87/500\n",
      "1/1 [==============================] - 0s 57ms/step - loss: nan - mae: 22.2943 - val_loss: nan - val_mae: 25.6385\n",
      "Epoch 88/500\n",
      "1/1 [==============================] - 0s 70ms/step - loss: nan - mae: 22.1278 - val_loss: nan - val_mae: 25.4558\n",
      "Epoch 89/500\n",
      "1/1 [==============================] - 0s 54ms/step - loss: nan - mae: 21.9719 - val_loss: nan - val_mae: 25.2848\n",
      "Epoch 90/500\n",
      "1/1 [==============================] - 0s 52ms/step - loss: nan - mae: 21.8370 - val_loss: nan - val_mae: 25.1252\n",
      "Epoch 91/500\n",
      "1/1 [==============================] - 0s 54ms/step - loss: nan - mae: 21.7223 - val_loss: nan - val_mae: 24.9816\n",
      "Epoch 92/500\n",
      "1/1 [==============================] - 0s 56ms/step - loss: nan - mae: 21.6281 - val_loss: nan - val_mae: 24.8774\n",
      "Epoch 93/500\n",
      "1/1 [==============================] - 0s 57ms/step - loss: nan - mae: 21.5471 - val_loss: nan - val_mae: 24.7942\n",
      "Epoch 94/500\n",
      "1/1 [==============================] - 0s 54ms/step - loss: nan - mae: 21.4717 - val_loss: nan - val_mae: 24.7174\n",
      "Epoch 95/500\n",
      "1/1 [==============================] - 0s 61ms/step - loss: nan - mae: 21.4024 - val_loss: nan - val_mae: 24.6458\n",
      "Epoch 96/500\n",
      "1/1 [==============================] - 0s 58ms/step - loss: nan - mae: 21.3379 - val_loss: nan - val_mae: 24.5791\n",
      "Epoch 97/500\n",
      "1/1 [==============================] - 0s 57ms/step - loss: nan - mae: 21.2780 - val_loss: nan - val_mae: 24.5177\n",
      "Epoch 98/500\n",
      "1/1 [==============================] - 0s 54ms/step - loss: nan - mae: 21.2226 - val_loss: nan - val_mae: 24.4606\n",
      "Epoch 99/500\n",
      "1/1 [==============================] - 0s 49ms/step - loss: nan - mae: 21.1710 - val_loss: nan - val_mae: 24.4073\n",
      "Epoch 100/500\n",
      "1/1 [==============================] - 0s 51ms/step - loss: nan - mae: 21.1254 - val_loss: nan - val_mae: 24.3578\n",
      "Epoch 101/500\n",
      "1/1 [==============================] - 0s 56ms/step - loss: nan - mae: 21.0890 - val_loss: nan - val_mae: 24.3118\n",
      "Epoch 102/500\n",
      "1/1 [==============================] - 0s 58ms/step - loss: nan - mae: 21.0629 - val_loss: nan - val_mae: 24.2691\n",
      "Epoch 103/500\n",
      "1/1 [==============================] - 0s 58ms/step - loss: nan - mae: 21.0434 - val_loss: nan - val_mae: 24.2295\n",
      "Epoch 104/500\n",
      "1/1 [==============================] - 0s 62ms/step - loss: nan - mae: 21.0278 - val_loss: nan - val_mae: 24.1928\n",
      "Epoch 105/500\n",
      "1/1 [==============================] - 0s 58ms/step - loss: nan - mae: 21.0136 - val_loss: nan - val_mae: 24.1589\n",
      "Epoch 106/500\n",
      "1/1 [==============================] - 0s 59ms/step - loss: nan - mae: 21.0007 - val_loss: nan - val_mae: 24.1275\n",
      "Epoch 107/500\n",
      "1/1 [==============================] - 0s 64ms/step - loss: nan - mae: 20.9891 - val_loss: nan - val_mae: 24.0988\n",
      "Epoch 108/500\n",
      "1/1 [==============================] - 0s 62ms/step - loss: nan - mae: 20.9795 - val_loss: nan - val_mae: 24.0723\n",
      "Epoch 109/500\n",
      "1/1 [==============================] - 0s 64ms/step - loss: nan - mae: 20.9707 - val_loss: nan - val_mae: 24.0479\n",
      "Epoch 110/500\n",
      "1/1 [==============================] - 0s 56ms/step - loss: nan - mae: 20.9627 - val_loss: nan - val_mae: 24.0254\n",
      "Epoch 111/500\n",
      "1/1 [==============================] - 0s 54ms/step - loss: nan - mae: 20.9565 - val_loss: nan - val_mae: 24.0048\n",
      "Epoch 112/500\n",
      "1/1 [==============================] - 0s 56ms/step - loss: nan - mae: 20.9522 - val_loss: nan - val_mae: 23.9859\n",
      "Epoch 113/500\n",
      "1/1 [==============================] - 0s 59ms/step - loss: nan - mae: 20.9491 - val_loss: nan - val_mae: 23.9687\n",
      "Epoch 114/500\n",
      "1/1 [==============================] - 0s 56ms/step - loss: nan - mae: 20.9469 - val_loss: nan - val_mae: 23.9529\n",
      "Epoch 115/500\n",
      "1/1 [==============================] - 0s 54ms/step - loss: nan - mae: 20.9449 - val_loss: nan - val_mae: 23.9385\n",
      "Epoch 116/500\n",
      "1/1 [==============================] - 0s 53ms/step - loss: nan - mae: 20.9431 - val_loss: nan - val_mae: 23.9253\n",
      "Epoch 117/500\n",
      "1/1 [==============================] - 0s 52ms/step - loss: nan - mae: 20.9415 - val_loss: nan - val_mae: 23.9134\n",
      "Epoch 118/500\n",
      "1/1 [==============================] - 0s 50ms/step - loss: nan - mae: 20.9403 - val_loss: nan - val_mae: 23.9026\n",
      "Epoch 119/500\n",
      "1/1 [==============================] - 0s 55ms/step - loss: nan - mae: 20.9394 - val_loss: nan - val_mae: 23.8928\n",
      "Epoch 120/500\n",
      "1/1 [==============================] - 0s 63ms/step - loss: nan - mae: 20.9390 - val_loss: nan - val_mae: 23.8840\n",
      "Epoch 121/500\n",
      "1/1 [==============================] - 0s 63ms/step - loss: nan - mae: 20.9392 - val_loss: nan - val_mae: 23.8761\n",
      "Epoch 122/500\n",
      "1/1 [==============================] - 0s 54ms/step - loss: nan - mae: 20.9395 - val_loss: nan - val_mae: 23.8691\n",
      "Epoch 123/500\n",
      "1/1 [==============================] - 0s 53ms/step - loss: nan - mae: 20.9400 - val_loss: nan - val_mae: 23.8627\n",
      "Epoch 124/500\n",
      "1/1 [==============================] - 0s 54ms/step - loss: nan - mae: 20.9407 - val_loss: nan - val_mae: 23.8572\n",
      "Epoch 125/500\n",
      "1/1 [==============================] - 0s 54ms/step - loss: nan - mae: 20.9414 - val_loss: nan - val_mae: 23.8522\n",
      "Epoch 126/500\n",
      "1/1 [==============================] - 0s 65ms/step - loss: nan - mae: 20.9422 - val_loss: nan - val_mae: 23.8479\n",
      "Epoch 127/500\n",
      "1/1 [==============================] - 0s 61ms/step - loss: nan - mae: 20.9429 - val_loss: nan - val_mae: 23.8441\n",
      "Epoch 128/500\n",
      "1/1 [==============================] - 0s 66ms/step - loss: nan - mae: 20.9436 - val_loss: nan - val_mae: 23.8409\n",
      "Epoch 129/500\n",
      "1/1 [==============================] - 0s 61ms/step - loss: nan - mae: 20.9441 - val_loss: nan - val_mae: 23.8381\n",
      "Epoch 130/500\n",
      "1/1 [==============================] - 0s 55ms/step - loss: nan - mae: 20.9446 - val_loss: nan - val_mae: 23.8358\n",
      "Epoch 131/500\n",
      "1/1 [==============================] - 0s 64ms/step - loss: nan - mae: 20.9449 - val_loss: nan - val_mae: 23.8338\n",
      "Epoch 132/500\n",
      "1/1 [==============================] - 0s 52ms/step - loss: nan - mae: 20.9453 - val_loss: nan - val_mae: 23.8323\n",
      "Epoch 133/500\n",
      "1/1 [==============================] - 0s 50ms/step - loss: nan - mae: 20.9455 - val_loss: nan - val_mae: 23.8310\n",
      "Epoch 134/500\n",
      "1/1 [==============================] - 0s 50ms/step - loss: nan - mae: 20.9457 - val_loss: nan - val_mae: 23.8301\n",
      "Epoch 135/500\n",
      "1/1 [==============================] - 0s 57ms/step - loss: nan - mae: 20.9458 - val_loss: nan - val_mae: 23.8295\n",
      "Epoch 136/500\n",
      "1/1 [==============================] - 0s 54ms/step - loss: nan - mae: 20.9459 - val_loss: nan - val_mae: 23.8291\n",
      "Epoch 137/500\n",
      "1/1 [==============================] - 0s 62ms/step - loss: nan - mae: 20.9460 - val_loss: nan - val_mae: 23.8289\n",
      "Epoch 138/500\n",
      "1/1 [==============================] - 0s 65ms/step - loss: nan - mae: 20.9460 - val_loss: nan - val_mae: 23.8289\n",
      "Epoch 139/500\n",
      "1/1 [==============================] - 0s 63ms/step - loss: nan - mae: 20.9460 - val_loss: nan - val_mae: 23.8291\n",
      "Epoch 140/500\n",
      "1/1 [==============================] - 0s 61ms/step - loss: nan - mae: 20.9459 - val_loss: nan - val_mae: 23.8295\n",
      "Epoch 141/500\n",
      "1/1 [==============================] - 0s 55ms/step - loss: nan - mae: 20.9458 - val_loss: nan - val_mae: 23.8300\n",
      "Epoch 142/500\n",
      "1/1 [==============================] - 0s 69ms/step - loss: nan - mae: 20.9457 - val_loss: nan - val_mae: 23.8307\n",
      "Epoch 143/500\n",
      "1/1 [==============================] - 0s 64ms/step - loss: nan - mae: 20.9456 - val_loss: nan - val_mae: 23.8315\n",
      "Epoch 144/500\n",
      "1/1 [==============================] - 0s 63ms/step - loss: nan - mae: 20.9454 - val_loss: nan - val_mae: 23.8324\n",
      "Epoch 145/500\n",
      "1/1 [==============================] - 0s 58ms/step - loss: nan - mae: 20.9453 - val_loss: nan - val_mae: 23.8333\n",
      "Epoch 146/500\n",
      "1/1 [==============================] - 0s 62ms/step - loss: nan - mae: 20.9451 - val_loss: nan - val_mae: 23.8344\n",
      "Epoch 147/500\n",
      "1/1 [==============================] - 0s 69ms/step - loss: nan - mae: 20.9449 - val_loss: nan - val_mae: 23.8355\n"
     ]
    }
   ],
   "source": [
    "import tensorflow as tf\n",
    "from tensorflow.keras import regularizers\n",
    "from tensorflow.keras.callbacks import EarlyStopping\n",
    "\n",
    "# Set random seed for reproducibility\n",
    "tf.random.set_seed(42)\n",
    "\n",
    "# Define the LSTM model with dropout\n",
    "model = tf.keras.Sequential([\n",
    "    # Adding dropout and recurrent dropout to the LSTM layer\n",
    "    tf.keras.layers.LSTM(128, activation='relu', input_shape=(68, 8),\n",
    "                         dropout=0.2, recurrent_dropout=0.2),\n",
    "    # Adding L2 regularization to the Dense layer\n",
    "    tf.keras.layers.Dense(64, activation='relu', kernel_regularizer=regularizers.l2(0.01)),\n",
    "    # Output layer to predict 8 timesteps, each with 20 features\n",
    "    tf.keras.layers.Dense(8 * 8, activation=None)\n",
    "])\n",
    "model.add(tf.keras.layers.Reshape((8, 8)))  # Reshape output to match (8, 20)\n",
    "\n",
    "# Define early stopping callback\n",
    "early_stopping = EarlyStopping(monitor='val_mae', patience=10, restore_best_weights=True)\n",
    "\n",
    "# Define optimizer\n",
    "opt = tf.keras.optimizers.SGD(learning_rate=0.1, momentum=0.9)\n",
    "\n",
    "# Compile the model\n",
    "model.compile(loss='mean_squared_error', optimizer=opt, metrics=['mae'])\n",
    "\n",
    "# Train the model\n",
    "history = model.fit(X_train, y_train, epochs=500, validation_data=(X_test, y_test), callbacks=[early_stopping])\n"
   ]
  },
  {
   "cell_type": "code",
   "execution_count": 32,
   "metadata": {},
   "outputs": [
    {
     "name": "stdout",
     "output_type": "stream",
     "text": [
      "1/1 [==============================] - 0s 144ms/step\n",
      "Mean Squared Error (MSE): 5530.9769\n",
      "Mean Absolute Error (MAE): 23.8289\n",
      "Root Mean Squared Error (RMSE): 74.3705\n",
      "R-squared (R^2): 0.9700\n",
      "Performance Report:\n",
      "Mean Squared Error (MSE): 5530.9769\n",
      "Mean Absolute Error (MAE): 23.8289\n",
      "Root Mean Squared Error (RMSE): 74.3705\n",
      "R-squared (R²): 0.9700\n"
     ]
    }
   ],
   "source": [
    "# Assume y_pred is obtained from the model prediction on X_test\n",
    "y_pred = model.predict(X_test)\n",
    "\n",
    "# If necessary, flatten y_pred and y_test to ensure they are 2D arrays of shape (samples, features)\n",
    "y_pred = y_pred.reshape(-1, 20)\n",
    "y_test = y_test.reshape(-1, 20)\n",
    "\n",
    "# Evaluate the model using the defined metrics function\n",
    "metrics = evaluate_regression_metrics(y_test, y_pred)\n",
    "\n",
    "# Print the performance report\n",
    "print(\"Performance Report:\")\n",
    "print(f\"Mean Squared Error (MSE): {metrics['mse']:.4f}\")\n",
    "print(f\"Mean Absolute Error (MAE): {metrics['mae']:.4f}\")\n",
    "print(f\"Root Mean Squared Error (RMSE): {metrics['rmse']:.4f}\")\n",
    "print(f\"R-squared (R²): {metrics['r2']:.4f}\")\n"
   ]
  },
  {
   "cell_type": "code",
   "execution_count": 33,
   "metadata": {},
   "outputs": [
    {
     "data": {
      "image/png": "[encoded data removed]",
      "text/plain": [
       "<Figure size 1000x500 with 1 Axes>"
      ]
     },
     "metadata": {},
     "output_type": "display_data"
    },
    {
     "data": {
      "image/png": "[encoded data removed]",
      "text/plain": [
       "<Figure size 1000x500 with 1 Axes>"
      ]
     },
     "metadata": {},
     "output_type": "display_data"
    }
   ],
   "source": [
    "import matplotlib.pyplot as plt\n",
    "\n",
    "# Plotting the training and validation loss\n",
    "plt.figure(figsize=(10, 5))\n",
    "plt.plot(history.history['loss'], label='Train Loss')\n",
    "plt.plot(history.history['val_loss'], label='Validation Loss')\n",
    "plt.title('Model Loss Over Epochs')\n",
    "plt.ylabel('Loss')\n",
    "plt.xlabel('Epoch')\n",
    "plt.legend()\n",
    "plt.show()\n",
    "\n",
    "# Plotting the MAE\n",
    "plt.figure(figsize=(10, 5))\n",
    "plt.plot(history.history['mae'], label='Train MAE')\n",
    "plt.plot(history.history['val_mae'], label='Validation MAE')\n",
    "plt.title('Model MAE Over Epochs')\n",
    "plt.ylabel('Mean Absolute Error')\n",
    "plt.xlabel('Epoch')\n",
    "plt.legend()\n",
    "plt.show()\n"
   ]
  },
  {
   "cell_type": "markdown",
   "metadata": {},
   "source": [
    "## co2 RNN"
   ]
  },
  {
   "cell_type": "code",
   "execution_count": 34,
   "metadata": {},
   "outputs": [
    {
     "ename": "IndexError",
     "evalue": "too many indices for array: array is 2-dimensional, but 3 were indexed",
     "output_type": "error",
     "traceback": [
      "\u001b[1;31m---------------------------------------------------------------------------\u001b[0m",
      "\u001b[1;31mIndexError\u001b[0m                                Traceback (most recent call last)",
      "Input \u001b[1;32mIn [34]\u001b[0m, in \u001b[0;36m<cell line: 5>\u001b[1;34m()\u001b[0m\n\u001b[0;32m      3\u001b[0m y_train_co2 \u001b[38;5;241m=\u001b[39m y_train[:, :, \u001b[38;5;241m0\u001b[39m]  \u001b[38;5;66;03m# Taking only the first feature from y_train\u001b[39;00m\n\u001b[0;32m      4\u001b[0m X_test_co2 \u001b[38;5;241m=\u001b[39m X_test[:, :, \u001b[38;5;241m0\u001b[39m]    \u001b[38;5;66;03m# Taking only the first feature from X_test\u001b[39;00m\n\u001b[1;32m----> 5\u001b[0m y_test_co2 \u001b[38;5;241m=\u001b[39m \u001b[43my_test\u001b[49m\u001b[43m[\u001b[49m\u001b[43m:\u001b[49m\u001b[43m,\u001b[49m\u001b[43m \u001b[49m\u001b[43m:\u001b[49m\u001b[43m,\u001b[49m\u001b[43m \u001b[49m\u001b[38;5;241;43m0\u001b[39;49m\u001b[43m]\u001b[49m    \u001b[38;5;66;03m# Taking only the first feature from y_test\u001b[39;00m\n\u001b[0;32m      7\u001b[0m \u001b[38;5;66;03m# Re-define and compile the model\u001b[39;00m\n\u001b[0;32m      8\u001b[0m model_co2 \u001b[38;5;241m=\u001b[39m tf\u001b[38;5;241m.\u001b[39mkeras\u001b[38;5;241m.\u001b[39mSequential([\n\u001b[0;32m      9\u001b[0m     tf\u001b[38;5;241m.\u001b[39mkeras\u001b[38;5;241m.\u001b[39mlayers\u001b[38;5;241m.\u001b[39mSimpleRNN(\u001b[38;5;241m60\u001b[39m, activation\u001b[38;5;241m=\u001b[39m\u001b[38;5;124m'\u001b[39m\u001b[38;5;124mrelu\u001b[39m\u001b[38;5;124m'\u001b[39m, input_shape\u001b[38;5;241m=\u001b[39m(\u001b[38;5;241m60\u001b[39m, \u001b[38;5;241m1\u001b[39m)),\n\u001b[0;32m     10\u001b[0m     tf\u001b[38;5;241m.\u001b[39mkeras\u001b[38;5;241m.\u001b[39mlayers\u001b[38;5;241m.\u001b[39mDense(\u001b[38;5;241m64\u001b[39m, activation\u001b[38;5;241m=\u001b[39m\u001b[38;5;124m'\u001b[39m\u001b[38;5;124mrelu\u001b[39m\u001b[38;5;124m'\u001b[39m),\n\u001b[0;32m     11\u001b[0m     tf\u001b[38;5;241m.\u001b[39mkeras\u001b[38;5;241m.\u001b[39mlayers\u001b[38;5;241m.\u001b[39mDense(\u001b[38;5;241m16\u001b[39m, activation\u001b[38;5;241m=\u001b[39m\u001b[38;5;28;01mNone\u001b[39;00m)\n\u001b[0;32m     12\u001b[0m ])\n",
      "\u001b[1;31mIndexError\u001b[0m: too many indices for array: array is 2-dimensional, but 3 were indexed"
     ]
    }
   ],
   "source": [
    "# Adjusting the dataset to focus only on CO2\n",
    "X_train_co2 = X_train[:, :, 0]  # Taking only the first feature from X_train\n",
    "y_train_co2 = y_train[:, :, 0]  # Taking only the first feature from y_train\n",
    "X_test_co2 = X_test[:, :, 0]    # Taking only the first feature from X_test\n",
    "y_test_co2 = y_test[:, :, 0]    # Taking only the first feature from y_test\n",
    "\n",
    "# Re-define and compile the model\n",
    "model_co2 = tf.keras.Sequential([\n",
    "    tf.keras.layers.SimpleRNN(60, activation='relu', input_shape=(60, 1)),\n",
    "    tf.keras.layers.Dense(64, activation='relu'),\n",
    "    tf.keras.layers.Dense(16, activation=None)\n",
    "])\n",
    "\n",
    "opt = tf.keras.optimizers.SGD(learning_rate=0.1, momentum=0.9)\n",
    "model_co2.compile(loss='mean_squared_error', optimizer=opt, metrics=['mae'])\n",
    "\n",
    "# Re-train the model\n",
    "history_co2 = model_co2.fit(X_train_co2, y_train_co2, epochs=1000, validation_data=(X_test_co2, y_test_co2), callbacks=[early_stopping])\n"
   ]
  },
  {
   "cell_type": "code",
   "execution_count": null,
   "metadata": {},
   "outputs": [],
   "source": [
    "from sklearn.metrics import mean_absolute_error, mean_squared_error, r2_score\n",
    "import numpy as np\n",
    "\n",
    "# Predictions on test set\n",
    "y_pred_co2 = model_co2.predict(X_test_co2)\n",
    "\n",
    "# Flatten the predictions and actual values for metric calculations\n",
    "y_true_co2_flat = y_test_co2.reshape(-1)\n",
    "y_pred_co2_flat = y_pred_co2.reshape(-1)\n",
    "\n",
    "# Calculate metrics\n",
    "test_mae_co2 = mean_absolute_error(y_true_co2_flat, y_pred_co2_flat)\n",
    "test_rmse_co2 = np.sqrt(mean_squared_error(y_true_co2_flat, y_pred_co2_flat))\n",
    "test_r2_co2 = r2_score(y_true_co2_flat, y_pred_co2_flat)\n",
    "\n",
    "# Print the metrics\n",
    "print(f'Test MAE for CO2: {test_mae_co2:.4f}')\n",
    "print(f'Test RMSE for CO2: {test_rmse_co2:.4f}')\n",
    "print(f'Test R-squared for CO2: {test_r2_co2:.4f}')\n"
   ]
  },
  {
   "cell_type": "markdown",
   "metadata": {},
   "source": [
    "Not great with co2 alone, lets add the lecture columns and just co2 rolling averages"
   ]
  },
  {
   "cell_type": "markdown",
   "metadata": {},
   "source": [
    "## Shorter Sequences and More Samples"
   ]
  },
  {
   "cell_type": "markdown",
   "metadata": {},
   "source": [
    "<span style=\"color:red\"> Calculating the moving averages before partitioning the data means that the moving averages for the training set are influenced by the test set data. This is a form of data leakage because when you train the model, it has access to information it wouldn't have in a real-world scenario, where future data points aren't available at the time of prediction.</span>\n",
    "\n",
    "Next we will create resampling methods which maintain sequence data integrity. We will then create local rolling, shift, and diff models so as to avoid data leakage into the test set."
   ]
  },
  {
   "cell_type": "code",
   "execution_count": null,
   "metadata": {},
   "outputs": [
    {
     "data": {
      "text/plain": [
       "(25, 76, 8)"
      ]
     },
     "execution_count": 35,
     "metadata": {},
     "output_type": "execute_result"
    }
   ],
   "source": [
    "M.shape"
   ]
  },
  {
   "cell_type": "code",
   "execution_count": null,
   "metadata": {},
   "outputs": [],
   "source": [
    "76/4, 76 // 15, 76 % 15, 76 // 20, 76 % 20"
   ]
  },
  {
   "cell_type": "code",
   "execution_count": null,
   "metadata": {},
   "outputs": [],
   "source": [
    "def find_divisors(n):\n",
    "    divisors = [i for i in range(1, n + 1) if n % i == 0]\n",
    "    return divisors\n",
    "\n",
    "# Find divisors of 76\n",
    "divisors_of_76 = find_divisors(76)\n",
    "print(\"Divisors of 76:\", divisors_of_76)\n"
   ]
  },
  {
   "cell_type": "code",
   "execution_count": null,
   "metadata": {},
   "outputs": [],
   "source": [
    "import numpy as np\n",
    "\n",
    "# Example matrix M with shape (25, 76, 20)\n",
    "T = np.random.rand(25, 76, 20)  # Replace this with your actual matrix M\n",
    "\n",
    "# Drop the last record to make it 75 (for simplicity in division)\n",
    "T = T[:, :75, :]\n",
    "\n",
    "# Reshape M to split into 5 parts of 15 records each\n",
    "S = T.reshape(25, 5, 15, 20)\n",
    "\n",
    "print(\"New shape of S:\", S.shape)\n"
   ]
  },
  {
   "cell_type": "code",
   "execution_count": null,
   "metadata": {},
   "outputs": [],
   "source": [
    "# We want to merge the first two dimensions to have a shape of (125, 15, 20)\n",
    "\n",
    "# Reshape S by combining the first two dimensions\n",
    "R = S.reshape(-1, 15, 20)  # -1 for numpy to calculate the appropriate size automatically\n",
    "\n",
    "print(\"Shape of R:\", R.shape)"
   ]
  },
  {
   "cell_type": "markdown",
   "metadata": {},
   "source": [
    "The `tf.data` API"
   ]
  },
  {
   "cell_type": "code",
   "execution_count": null,
   "metadata": {},
   "outputs": [
    {
     "data": {
      "text/plain": [
       "<_TensorSliceDataset element_spec=TensorSpec(shape=(76, 8), dtype=tf.float64, name=None)>"
      ]
     },
     "execution_count": 36,
     "metadata": {},
     "output_type": "execute_result"
    }
   ],
   "source": [
    "import tensorflow as tf\n",
    "dataset = tf.data.Dataset.from_tensor_slices(M)\n",
    "dataset"
   ]
  },
  {
   "cell_type": "code",
   "execution_count": null,
   "metadata": {},
   "outputs": [
    {
     "name": "stdout",
     "output_type": "stream",
     "text": [
      "(76, 8)\n",
      "(76, 8)\n",
      "(76, 8)\n",
      "(76, 8)\n",
      "(76, 8)\n",
      "(76, 8)\n",
      "(76, 8)\n",
      "(76, 8)\n",
      "(76, 8)\n",
      "(76, 8)\n",
      "(76, 8)\n",
      "(76, 8)\n",
      "(76, 8)\n",
      "(76, 8)\n",
      "(76, 8)\n",
      "(76, 8)\n",
      "(76, 8)\n",
      "(76, 8)\n",
      "(76, 8)\n",
      "(76, 8)\n",
      "(76, 8)\n",
      "(76, 8)\n",
      "(76, 8)\n",
      "(76, 8)\n",
      "(76, 8)\n"
     ]
    }
   ],
   "source": [
    "for item in dataset:\n",
    "    print(item.shape)"
   ]
  },
  {
   "cell_type": "markdown",
   "metadata": {},
   "source": []
  },
  {
   "cell_type": "code",
   "execution_count": null,
   "metadata": {},
   "outputs": [],
   "source": []
  }
 ],
 "metadata": {
  "kernelspec": {
   "display_name": "Python 3",
   "language": "python",
   "name": "python3"
  },
  "language_info": {
   "codemirror_mode": {
    "name": "ipython",
    "version": 3
   },
   "file_extension": ".py",
   "mimetype": "text/x-python",
   "name": "python",
   "nbconvert_exporter": "python",
   "pygments_lexer": "ipython3",
   "version": "3.11.4"
  }
 },
 "nbformat": 4,
 "nbformat_minor": 2
}
