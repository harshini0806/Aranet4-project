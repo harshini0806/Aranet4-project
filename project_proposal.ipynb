{
 "cells": [
  {
   "cell_type": "markdown",
   "metadata": {},
   "source": [
    "**Project Members:** Harshini Avara, Corey Dearing, Nick Young\n",
    "\n",
    "**Title:** Monitoring & Predicting Changes in Carbon Dioxide Levels in Enclosed Social Spaces \n",
    "\n",
    "**Introduction:**\n",
    "The primary goal of this project is to analyze and model the environmental conditions in a lecture room using time series data collected from an Aranet4 meter. The Aranet4 device provides minute-to-minute data on key environmental parameters: CO2 levels, temperature, atmospheric pressure, and relative humidity. By integrating this data with information on room conditions such as door status, HVAC system status, and occupancy, we aim to develop a predictive model that can help optimize the indoor environment for comfort and safety.\n",
    "\n",
    "**Objectives:**\n",
    "1. To collect and preprocess time series data from the Aranet4 meter and room condition indicators.\n",
    "2. To perform exploratory data analysis (EDA) to understand the temporal patterns and correlations between environmental parameters and room conditions.\n",
    "3. To engineer features using rolling window statistics and differences to capture trends and changes in environmental conditions.\n",
    "4. To create seasonal and daily features that reflect the environmental conditions under specific room scenarios.\n",
    "5. To develop and evaluate machine learning models to predict key environmental parameters based on room conditions and historical data.\n",
    "6. To provide insights and recommendations for optimizing the indoor environment in the lecture room.\n",
    "\n",
    "**Data Collection:**\n",
    "The data will be collected from an Aranet4 meter in the lecture room, recording CO2 levels, temperature, atmospheric pressure, and relative humidity at minute intervals. Additionally, data on room conditions such as door status (open/closed), HVAC system status (on/off), and occupancy (number of subjects present) will be recorded manually via a dashboard design for this project.\n",
    "\n",
    "**Feature Engineering:**\n",
    "1. **Rolling Features:** Calculate rolling averages, standard deviations, and other statistics over specified time windows to capture trends and fluctuations in environmental parameters.\n",
    "2. **Differential Features:** Use the `diff()` function to calculate changes in environmental parameters over time, highlighting significant events or shifts.\n",
    "3. **Seasonal and Daily Features:** Create features that represent the typical environmental conditions for different times of the day and seasons, considering the impact of room conditions.\n",
    "\n",
    "**Model Development:**\n",
    "We will experiment with various machine learning models, such as linear regression, decision trees, and random forests, to predict environmental parameters based on the engineered features. Model selection will be based on performance metrics such as R-squared, mean squared error (MSE), and mean absolute error (MAE).\n",
    "\n",
    "**Evaluation and Optimization:**\n",
    "The models will be evaluated using cross-validation techniques to ensure their generalizability. Hyperparameter tuning will be performed to optimize the model's performance.\n",
    "\n",
    "**Implementation and Recommendations:**\n",
    "The final model will be implemented to provide real-time predictions of environmental conditions in the lecture room. Based on the model's insights, recommendations will be made to optimize the indoor environment, such as adjusting the HVAC settings or modifying occupancy patterns.\n",
    "\n",
    "**Conclusion:**\n",
    "This project aims to leverage machine learning techniques to analyze and predict environmental conditions in a lecture room using time series data from an Aranet4 meter. By understanding the relationship between environmental parameters and room conditions, we can provide actionable insights for creating a more comfortable and safe indoor environment."
   ]
  },
  {
   "cell_type": "markdown",
   "metadata": {},
   "source": []
  }
 ],
 "metadata": {
  "kernelspec": {
   "display_name": "base",
   "language": "python",
   "name": "python3"
  },
  "language_info": {
   "name": "python",
   "version": "3.11.4"
  }
 },
 "nbformat": 4,
 "nbformat_minor": 2
}
