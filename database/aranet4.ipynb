{
 "cells": [
  {
   "cell_type": "code",
   "execution_count": 1,
   "id": "f1c971cd",
   "metadata": {},
   "outputs": [
    {
     "name": "stdout",
     "output_type": "stream",
     "text": [
      "Files in the 'datasets' subdirectory:\n",
      "aranet.csv\n",
      "Aranet4 2441A_2024-04-11T13_44_43-0400.csv\n",
      "Aranet4 2441A_2024-04-17T18_04_46-0400.csv\n",
      "aranet4.csv\n",
      "aranetExp.csv\n",
      "windows.npz\n"
     ]
    }
   ],
   "source": [
    "import os\n",
    "import pandas as pd\n",
    "# List all files and directories in the current directory\n",
    "all_files = os.listdir('.')\n",
    "\n",
    "# Navigate to the \"datasets\" subdirectory\n",
    "datasets_dir = 'datasets'\n",
    "if datasets_dir in all_files and os.path.isdir(datasets_dir):\n",
    "    os.chdir(datasets_dir)\n",
    "\n",
    "# List all files and directories in the \"datasets\" subdirectory\n",
    "datasets_files = os.listdir('.')\n",
    "print(\"Files in the 'datasets' subdirectory:\")\n",
    "for filename in datasets_files:\n",
    "    print(filename)\n"
   ]
  },
  {
   "cell_type": "code",
   "execution_count": 2,
   "id": "23015add",
   "metadata": {},
   "outputs": [
    {
     "data": {
      "text/html": [
       "<div>\n",
       "<style scoped>\n",
       "    .dataframe tbody tr th:only-of-type {\n",
       "        vertical-align: middle;\n",
       "    }\n",
       "\n",
       "    .dataframe tbody tr th {\n",
       "        vertical-align: top;\n",
       "    }\n",
       "\n",
       "    .dataframe thead th {\n",
       "        text-align: right;\n",
       "    }\n",
       "</style>\n",
       "<table border=\"1\" class=\"dataframe\">\n",
       "  <thead>\n",
       "    <tr style=\"text-align: right;\">\n",
       "      <th></th>\n",
       "      <th>Datetime</th>\n",
       "      <th>Carbon dioxide(ppm)</th>\n",
       "      <th>Temperature(°F)</th>\n",
       "      <th>Relative humidity(%)</th>\n",
       "      <th>Atmospheric pressure(hPa)</th>\n",
       "    </tr>\n",
       "  </thead>\n",
       "  <tbody>\n",
       "    <tr>\n",
       "      <th>0</th>\n",
       "      <td>18/01/2024 5:04:30 PM</td>\n",
       "      <td>688</td>\n",
       "      <td>72.9</td>\n",
       "      <td>35.0</td>\n",
       "      <td>1017.2</td>\n",
       "    </tr>\n",
       "    <tr>\n",
       "      <th>1</th>\n",
       "      <td>18/01/2024 5:05:30 PM</td>\n",
       "      <td>711</td>\n",
       "      <td>72.8</td>\n",
       "      <td>35.0</td>\n",
       "      <td>1017.2</td>\n",
       "    </tr>\n",
       "    <tr>\n",
       "      <th>2</th>\n",
       "      <td>18/01/2024 5:06:30 PM</td>\n",
       "      <td>711</td>\n",
       "      <td>72.8</td>\n",
       "      <td>35.0</td>\n",
       "      <td>1017.2</td>\n",
       "    </tr>\n",
       "    <tr>\n",
       "      <th>3</th>\n",
       "      <td>18/01/2024 5:07:30 PM</td>\n",
       "      <td>695</td>\n",
       "      <td>72.8</td>\n",
       "      <td>35.0</td>\n",
       "      <td>1017.2</td>\n",
       "    </tr>\n",
       "    <tr>\n",
       "      <th>4</th>\n",
       "      <td>18/01/2024 5:08:30 PM</td>\n",
       "      <td>702</td>\n",
       "      <td>72.8</td>\n",
       "      <td>35.0</td>\n",
       "      <td>1017.2</td>\n",
       "    </tr>\n",
       "  </tbody>\n",
       "</table>\n",
       "</div>"
      ],
      "text/plain": [
       "                Datetime  Carbon dioxide(ppm)  Temperature(°F)  \\\n",
       "0  18/01/2024 5:04:30 PM                  688             72.9   \n",
       "1  18/01/2024 5:05:30 PM                  711             72.8   \n",
       "2  18/01/2024 5:06:30 PM                  711             72.8   \n",
       "3  18/01/2024 5:07:30 PM                  695             72.8   \n",
       "4  18/01/2024 5:08:30 PM                  702             72.8   \n",
       "\n",
       "   Relative humidity(%)  Atmospheric pressure(hPa)  \n",
       "0                  35.0                     1017.2  \n",
       "1                  35.0                     1017.2  \n",
       "2                  35.0                     1017.2  \n",
       "3                  35.0                     1017.2  \n",
       "4                  35.0                     1017.2  "
      ]
     },
     "execution_count": 2,
     "metadata": {},
     "output_type": "execute_result"
    }
   ],
   "source": [
    "import os\n",
    "\n",
    "filename = '../datasets/Aranet4 2441A_2024-04-17T18_04_46-0400.csv'\n",
    "if os.path.isfile(filename):\n",
    "    df = pd.read_csv(filename)\n",
    "    aranet4 = df.copy()\n",
    "    aranet4.head()\n",
    "else:\n",
    "    print(\"File not found: \", filename)\n",
    "aranet4.rename(columns={'Time(DD/MM/YYYY h:mm:ss A)': 'Datetime'}, inplace=True)\n",
    "aranet4.head()"
   ]
  },
  {
   "cell_type": "code",
   "execution_count": 3,
   "id": "0fcd6c9c",
   "metadata": {},
   "outputs": [],
   "source": [
    "\n",
    "aranet4['Datetime'] = pd.to_datetime(aranet4['Datetime'], format='%d/%m/%Y %I:%M:%S %p').dt.strftime('%Y-%m-%d %H:%M:%S')\n"
   ]
  },
  {
   "cell_type": "code",
   "execution_count": 4,
   "id": "62a094fc",
   "metadata": {},
   "outputs": [
    {
     "data": {
      "text/html": [
       "<div>\n",
       "<style scoped>\n",
       "    .dataframe tbody tr th:only-of-type {\n",
       "        vertical-align: middle;\n",
       "    }\n",
       "\n",
       "    .dataframe tbody tr th {\n",
       "        vertical-align: top;\n",
       "    }\n",
       "\n",
       "    .dataframe thead th {\n",
       "        text-align: right;\n",
       "    }\n",
       "</style>\n",
       "<table border=\"1\" class=\"dataframe\">\n",
       "  <thead>\n",
       "    <tr style=\"text-align: right;\">\n",
       "      <th></th>\n",
       "      <th>Datetime</th>\n",
       "      <th>Carbon dioxide(ppm)</th>\n",
       "      <th>Temperature(°F)</th>\n",
       "      <th>Relative humidity(%)</th>\n",
       "      <th>Atmospheric pressure(hPa)</th>\n",
       "    </tr>\n",
       "  </thead>\n",
       "  <tbody>\n",
       "    <tr>\n",
       "      <th>4</th>\n",
       "      <td>2024-01-18 17:08:30</td>\n",
       "      <td>702</td>\n",
       "      <td>72.8</td>\n",
       "      <td>35.0</td>\n",
       "      <td>1017.2</td>\n",
       "    </tr>\n",
       "    <tr>\n",
       "      <th>5</th>\n",
       "      <td>2024-01-18 17:09:30</td>\n",
       "      <td>705</td>\n",
       "      <td>72.8</td>\n",
       "      <td>35.0</td>\n",
       "      <td>1017.2</td>\n",
       "    </tr>\n",
       "    <tr>\n",
       "      <th>6</th>\n",
       "      <td>2024-01-18 17:10:30</td>\n",
       "      <td>715</td>\n",
       "      <td>72.7</td>\n",
       "      <td>35.0</td>\n",
       "      <td>1017.2</td>\n",
       "    </tr>\n",
       "    <tr>\n",
       "      <th>7</th>\n",
       "      <td>2024-01-18 17:11:30</td>\n",
       "      <td>720</td>\n",
       "      <td>72.7</td>\n",
       "      <td>35.0</td>\n",
       "      <td>1017.3</td>\n",
       "    </tr>\n",
       "    <tr>\n",
       "      <th>8</th>\n",
       "      <td>2024-01-18 17:12:30</td>\n",
       "      <td>712</td>\n",
       "      <td>72.7</td>\n",
       "      <td>35.0</td>\n",
       "      <td>1017.3</td>\n",
       "    </tr>\n",
       "  </tbody>\n",
       "</table>\n",
       "</div>"
      ],
      "text/plain": [
       "              Datetime  Carbon dioxide(ppm)  Temperature(°F)  \\\n",
       "4  2024-01-18 17:08:30                  702             72.8   \n",
       "5  2024-01-18 17:09:30                  705             72.8   \n",
       "6  2024-01-18 17:10:30                  715             72.7   \n",
       "7  2024-01-18 17:11:30                  720             72.7   \n",
       "8  2024-01-18 17:12:30                  712             72.7   \n",
       "\n",
       "   Relative humidity(%)  Atmospheric pressure(hPa)  \n",
       "4                  35.0                     1017.2  \n",
       "5                  35.0                     1017.2  \n",
       "6                  35.0                     1017.2  \n",
       "7                  35.0                     1017.3  \n",
       "8                  35.0                     1017.3  "
      ]
     },
     "execution_count": 4,
     "metadata": {},
     "output_type": "execute_result"
    }
   ],
   "source": [
    "aranet4 = aranet4.drop(aranet4.index[:4])\n",
    "aranet4.head(10)\n",
    "aranet4.head()"
   ]
  },
  {
   "cell_type": "code",
   "execution_count": 5,
   "id": "446cf2e5",
   "metadata": {},
   "outputs": [
    {
     "name": "stdout",
     "output_type": "stream",
     "text": [
      "<class 'pandas.core.frame.DataFrame'>\n",
      "RangeIndex: 129596 entries, 4 to 129599\n",
      "Data columns (total 5 columns):\n",
      " #   Column                     Non-Null Count   Dtype  \n",
      "---  ------                     --------------   -----  \n",
      " 0   Datetime                   129596 non-null  object \n",
      " 1   Carbon dioxide(ppm)        129596 non-null  int64  \n",
      " 2   Temperature(°F)            129596 non-null  float64\n",
      " 3   Relative humidity(%)       129472 non-null  float64\n",
      " 4   Atmospheric pressure(hPa)  127003 non-null  float64\n",
      "dtypes: float64(3), int64(1), object(1)\n",
      "memory usage: 4.9+ MB\n"
     ]
    }
   ],
   "source": [
    "aranet4.info()"
   ]
  },
  {
   "cell_type": "code",
   "execution_count": 6,
   "id": "956e5d39",
   "metadata": {},
   "outputs": [],
   "source": [
    "aranet4.to_csv('../datasets/aranet4.csv', index=False)"
   ]
  },
  {
   "cell_type": "code",
   "execution_count": 7,
   "id": "55d5461d",
   "metadata": {},
   "outputs": [],
   "source": [
    "import sqlalchemy as sql\n",
    "from sqlalchemy import create_engine, MetaData, Table, Column, Integer, String, Text, delete, insert, DateTime, Float, Boolean, select, distinct, inspect, Time\n",
    "from datetime import datetime\n",
    "\n",
    "# Set the DATABASE_URL environment variable\n",
    "DATABASE_URL = os.environ.get(\"DATABASE_URL\")\n",
    "if DATABASE_URL.startswith(\"postgres://\"):\n",
    "    DATABASE_URL = DATABASE_URL.replace(\"postgres://\", \"postgresql://\", 1)\n",
    "\n",
    "# Create the database engine\n",
    "engine = sql.create_engine(DATABASE_URL)\n",
    "\n",
    "metadata = MetaData(bind = engine)\n"
   ]
  },
  {
   "cell_type": "code",
   "execution_count": 8,
   "id": "ddf12ee4",
   "metadata": {},
   "outputs": [
    {
     "data": {
      "text/plain": [
       "596"
      ]
     },
     "execution_count": 8,
     "metadata": {},
     "output_type": "execute_result"
    }
   ],
   "source": [
    "aranet4.to_sql('aranet4', engine, if_exists='replace', index=False)\n"
   ]
  },
  {
   "cell_type": "code",
   "execution_count": 9,
   "id": "8a236d13",
   "metadata": {},
   "outputs": [],
   "source": [
    "metadata = MetaData()\n",
    "# Query\n",
    "def query(sql_query):\n",
    "    data = pd.read_sql_query(sql_query, engine)\n",
    "    data.index += 1\n",
    "    return data\n",
    "\n",
    "q = \"\"\"\n",
    "SELECT *\n",
    "FROM aranet_lecture_data\n",
    "\"\"\"\n",
    "\n",
    "aranetExp = query(q)\n",
    "aranetExp.to_csv('../datasets/aranetExp.csv', index=False)\n"
   ]
  }
 ],
 "metadata": {
  "kernelspec": {
   "display_name": "Python 3 (ipykernel)",
   "language": "python",
   "name": "python3"
  },
  "language_info": {
   "codemirror_mode": {
    "name": "ipython",
    "version": 3
   },
   "file_extension": ".py",
   "mimetype": "text/x-python",
   "name": "python",
   "nbconvert_exporter": "python",
   "pygments_lexer": "ipython3",
   "version": "3.9.7"
  },
  "toc": {
   "base_numbering": 1,
   "nav_menu": {},
   "number_sections": true,
   "sideBar": true,
   "skip_h1_title": false,
   "title_cell": "Table of Contents",
   "title_sidebar": "Contents",
   "toc_cell": false,
   "toc_position": {},
   "toc_section_display": true,
   "toc_window_display": false
  },
  "varInspector": {
   "cols": {
    "lenName": 16,
    "lenType": 16,
    "lenVar": 40
   },
   "kernels_config": {
    "python": {
     "delete_cmd_postfix": "",
     "delete_cmd_prefix": "del ",
     "library": "var_list.py",
     "varRefreshCmd": "print(var_dic_list())"
    },
    "r": {
     "delete_cmd_postfix": ") ",
     "delete_cmd_prefix": "rm(",
     "library": "var_list.r",
     "varRefreshCmd": "cat(var_dic_list()) "
    }
   },
   "types_to_exclude": [
    "module",
    "function",
    "builtin_function_or_method",
    "instance",
    "_Feature"
   ],
   "window_display": false
  }
 },
 "nbformat": 4,
 "nbformat_minor": 5
}
